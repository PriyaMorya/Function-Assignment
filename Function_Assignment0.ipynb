{
  "nbformat": 4,
  "nbformat_minor": 0,
  "metadata": {
    "colab": {
      "provenance": []
    },
    "kernelspec": {
      "name": "python3",
      "display_name": "Python 3"
    },
    "language_info": {
      "name": "python"
    }
  },
  "cells": [
    {
      "cell_type": "markdown",
      "source": [
        "#Theory Questions:"
      ],
      "metadata": {
        "id": "lJhrGxqqZqXG"
      }
    },
    {
      "cell_type": "markdown",
      "source": [
        "1.  What is the difference between a function and a method in Python?\n",
        "   - Function: A block of reusable code that performs a specific task. It is defined using the def keyword and can exist independently.\n",
        "   exmaple:\n",
        " def greet():\n",
        "    print(\"Hello!\")\n",
        "greet()\n",
        "    - Method: A function that is associated with an object (usually defined within a class). It is called on an object.\n",
        "    example:\n",
        "\n",
        "class Person:\n",
        "    def greet(self):\n",
        "        print(\"Hello!\")\n",
        "p = Person()\n",
        "p.greet()  # Method call\n",
        "\n",
        "\n"
      ],
      "metadata": {
        "id": "3zQJ1uFqZ0_0"
      }
    },
    {
      "cell_type": "markdown",
      "source": [
        "2. Explain the concept of function arguments and parameters in Python.\n",
        "#   - **Function Arguments and Parameters in Python**\n",
        "      - Parameter: A variable listed in the function definition.\n",
        "\n",
        "      - Argument: The value passed to the function when it is called argument.\n",
        "\n",
        "             def add(a, b):  # 'a' and 'b' are parameters\n",
        "              return a + b\n",
        "\n",
        "            result = add(2, 3)  # 2 and 3 are arguments\n"
      ],
      "metadata": {
        "id": "8yz40s8mZ5Iq"
      }
    },
    {
      "cell_type": "markdown",
      "source": [
        "3. What are the different ways to define and call a function in Python?\n",
        "   - Ways to define:\n",
        "\n",
        "Using def\n",
        "\n",
        "Using lambda (anonymous function)\n",
        "\n",
        "\n",
        "  - Ways to call:\n",
        "\n",
        "Direct call with arguments\n",
        "\n",
        "Using map(), filter(), or as arguments to other functions\n",
        "   -  **Example using def:**\n",
        "\n",
        "def square(x):\n",
        "    return x * x\n",
        "\n",
        "print(square(4))  # Output: 16\n",
        "\n",
        "**Example using lambda:**\n",
        "\n",
        "square = lambda x: x * x\n",
        "print(square(4))  # Output: 16\n",
        "\n",
        "\n",
        "\n",
        "\n",
        "\n"
      ],
      "metadata": {
        "id": "t5XznE6wZ9Eg"
      }
    },
    {
      "cell_type": "markdown",
      "source": [
        "4.  What is the purpose of the `return` statement in a Python function?\n",
        "    - The purpose of the return statement is used to exit a function and optionally pass a value back to the caller.\n",
        "\n",
        "Without return, a function returns None.\n",
        "      - Example:\n",
        "        def multiply(a, b):\n",
        "            return a * b\n",
        "        result = multiply(3, 4)\n",
        "        print(result)  # Output: 12\n",
        "              \n",
        "\n"
      ],
      "metadata": {
        "id": "3D_ho_-WaCWM"
      }
    },
    {
      "cell_type": "markdown",
      "source": [
        "5. What are iterators in Python and how do they differ from iterables?\n",
        "   - **Iterable**: An object that can be looped over (e.g., list, tuple).\n",
        "\n",
        "   - **Iterator**: An object with a _next_() method and created from an iterable using iter().\n",
        "   Example:\n",
        "       nums = [1, 2, 3]      # Iterable\n",
        "it = iter(nums)       # Iterator\n",
        "\n",
        "print(next(it))  # Output: 1\n",
        "print(next(it))  # Output: 2\n",
        "\n",
        "**Difference:**\n",
        "\n",
        "Iterable gives us an iterator.\n",
        "\n",
        "Iterator generates values one at a time using next().\n",
        "\n",
        "\n",
        "\n"
      ],
      "metadata": {
        "id": "-nqNzxB5aGCu"
      }
    },
    {
      "cell_type": "markdown",
      "source": [
        "6. Explain the concept of generators in Python and how they are defined.\n",
        "   - A generator is a function that uses the yield keyword to return a value and pause its state.\n",
        "\n",
        "It produces items one at a time and remembers its state between calls.\n",
        "\n",
        "Example:\n",
        "\n",
        "def countdown(n):\n",
        "    while n > 0:\n",
        "        yield n\n",
        "        n -= 1\n",
        "\n",
        "for i in countdown(3):\n",
        "    print(i)\n",
        "\n",
        "Output:\n",
        "\n",
        "3\n",
        "\n",
        "2\n",
        "\n",
        "1\n",
        "\n"
      ],
      "metadata": {
        "id": "uJ61IDX1aI9d"
      }
    },
    {
      "cell_type": "markdown",
      "source": [
        "7.  What are the advantages of using generators over regular functions?\n",
        "    - Memory efficient: Doesn’t store entire sequence in memory.\n",
        "\n",
        "Faster for large data: Processes data on the fly.\n",
        "\n",
        "Lazy evaluation: Generates values only when needed.\n",
        "  Example:\n",
        "  \n",
        "def squares_gen(n):\n",
        "    for i in range(n):\n",
        "        yield i * i\n",
        "\n",
        "for val in squares_gen(5):\n",
        "    print(val)\n",
        "\n",
        "Output:\n",
        "\n",
        "0\n",
        "1\n",
        "4\n",
        "9\n",
        "16\n",
        "\n",
        "\n"
      ],
      "metadata": {
        "id": "PaQtSVA7aOVQ"
      }
    },
    {
      "cell_type": "markdown",
      "source": [
        "8.   What is a lambda function in Python and when is it typically used?\n",
        "     - A lambda is a short, anonymous function with a single expression.\n",
        "\n",
        "Typically used for short tasks, especially as arguments to higher-order functions like map() or filter().\n",
        "\n",
        "\n",
        "Syntax: lambda arguments: expression\n",
        "\n",
        "Example:\n",
        "\n",
        "double = lambda x: x * 2\n",
        "print(double(5))  # Output: 10\n",
        "\n"
      ],
      "metadata": {
        "id": "3lCSH_NDaVSM"
      }
    },
    {
      "cell_type": "markdown",
      "source": [
        "9. Explain the purpose and usage of the `map()` function in Python.\n",
        "   - map() applies a function to each item in an iterable (like a list).\n",
        "\n",
        "Returns a map object (an iterator), which can be converted to a list.\n",
        "\n",
        "\n",
        "Syntax: map(function, iterable)\n",
        "\n",
        "Example:\n",
        "\n",
        "nums = [1, 2, 3, 4]\n",
        "squares = map(lambda x: x**2, nums)\n",
        "print(list(squares))  # Output: [1, 4, 9, 16]\n",
        "\n"
      ],
      "metadata": {
        "id": "PnF1poZRaYlL"
      }
    },
    {
      "cell_type": "markdown",
      "source": [
        "10.  What is the difference between `map()`, `reduce()`, and `filter()` functions in Python?\n",
        "     - **1. map() Function**\n",
        "\n",
        "Purpose: Applies a given function to every item in an iterable (like a list) and returns a map object (an iterator).\n",
        "\n",
        "Use Case: When you want to transform each item in an iterable.\n",
        "\n",
        "\n",
        "Syntax:\n",
        "\n",
        "map(function, iterable)\n",
        "\n",
        "Example:\n",
        "\n",
        "nums = [1, 2, 3, 4]\n",
        "squared = map(lambda x: x ** 2, nums)\n",
        "print(list(squared))  # Output: [1, 4, 9, 16]\n",
        "\n",
        "   -  ** 2. filter() Function**\n",
        "Purpose: Filters the elements of an iterable for which the function returns True.\n",
        "\n",
        "Use Case: When you want to select certain items from an iterable based on a condition.\n",
        "\n",
        "\n",
        "Syntax:\n",
        "\n",
        "filter(function, iterable)\n",
        "\n",
        "Example:\n",
        "\n",
        "nums = [1, 2, 3, 4, 5]\n",
        "even = filter(lambda x: x % 2 == 0, nums)\n",
        "print(list(even))  # Output: [2, 4]\n",
        "   - 3. reduce() Function (from functools module)\n",
        "\n",
        "Purpose: Applies a function cumulatively to the items of an iterable, reducing the iterable to a single value.\n",
        "\n",
        "Use Case: When you want to combine all items into one (e.g., sum, product).\n",
        "\n",
        "\n",
        "Syntax:\n",
        "\n",
        "from functools import reduce\n",
        "reduce(function, iterable)\n",
        "\n",
        "Example:\n",
        "\n",
        "from functools import reduce\n",
        "\n",
        "nums = [1, 2, 3, 4]\n",
        "product = reduce(lambda x, y: x * y, nums)\n",
        "print(product)  # Output: 24\n",
        "\n"
      ],
      "metadata": {
        "id": "kKAkhw_SabrM"
      }
    },
    {
      "cell_type": "markdown",
      "source": [
        "11. Using pen & Paper write the internal mechanism for sum operation using  reduce function on this given\n",
        "list:[47,11,42,13];\n",
        "\n",
        " (Attach paper image for this answer) in doc or colab notebook.\n",
        " ![image.jpg](data:image/jpeg;base64,/9j/4AAQSkZJRgABAQAAAQABAAD/2wCEAAYGBgYHBgcICAcKCwoLCg8ODAwODxYQERAREBYiFRkVFRkVIh4kHhweJB42KiYmKjY+NDI0PkxERExfWl98fKcBBgYGBgcGBwgIBwoLCgsKDw4MDA4PFhAREBEQFiIVGRUVGRUiHiQeHB4kHjYqJiYqNj40MjQ+TERETF9aX3x8p//CABEIA60FkQMBIgACEQEDEQH/xAAuAAEBAQEBAQEAAAAAAAAAAAAAAQMCBAUGAQEBAQAAAAAAAAAAAAAAAAAAAQL/2gAMAwEAAhADEAAAAvJ6PP6I5AWAVKBQAAKTHfFefR5/QRYgAAhUh24hoyGrKRrcVbMKbMUbMRswG7AbsBvM7XbgnSCyl5dkzaoymwxu0Mmwxm4wuwxbDFsMWwxuqs2g4aDi9Dm0SgBm0AEURRKABKECgSghYAAAAAAAAAAAAAAAAAAAAEWFSgFAAAKAXnqHwPrfK+nm+oS+fbx66mzzj0TCmzGmsyGs4tWWnM0pjdhjh7sFw9HPoMGxMW1MLtDJsMbqM2g4vQ5dQKAAAAAAAAAAAAKgqCpYCgQFABAAAFgsBYKgqCgJSUICywAUAEsAFCLAoiiAAAAAAAAAAAAALAAgqQ6nPJpcqashqyGrKmlyGrIashtOIfF+h8z6Ob7lS+X0+X1anJCpQlEKpBYKlALhvgvPp83pEEAAWCwAACiUAAAAAAAAAAAAACiUAAAAQAAAAAUiwoJZQABLAUSgAABAqQ6cw7ZjRkNWI2YjZjDdiNWQ2YjVkNJyOopy7GbUZNRk1GTUZXnqpWpk1Rm0HE05J0ACwUApKEUFp8P1+b0ZvuRL5fV5PXqSWAAUKRRKhQAXHbFePT4/YJYgAAAAAAoAAAAAAAACALBXI6cDtmjRkNWJdmMN2FNmJNmQ1ZQ2YjdhTaZK1ZU7cU6gJ0OHdM2gzaUym0MrqMWwxbDFsMmoyajNrDO9ji9CKIolAACUBCwAFgoAMOZ6dSUzQMtstaZ6/MPpGZozxPS+f7Duyx5/RlrWfeeww3zO8t/KnqmNNgtlR8nXi5vuRL5fZ4ffqczqEAApQBBXMO2cNsWC9+rweg3mJN5lDZiNrhDdiNmMNmVO5Ojl1TiaoybDGbjFsMG6sWxMG5cWwxbUwuwyajNoOLyTp0IpQBkmqUBQAFgqVAADjsAAAL80+iAUjz+gAAAFDPQ5nKtBAAEoAc5a91jrhuSkJRFEUDg7vm7rLfySz3Jc0DPXLWr4PfnXXnuCenbnuXHOYnuspjtlsY7Y7Djro82ttl4dxUq05Pn8a44v0RL832eT6Wp556Iee7jBuMLtTBurC7DG6jO9iZbZLx6PP6ChBmdpQAAACpQAAABZTLTLVAUAAChMN/N6QFeP2+ezZx3CyqKPF7c7PP6/F7QJQAFlQZmjx+yrx3D5/qeWvoGOWzDWuiR34Pd49T0d4byrhvHi9ePOp6sNPkn2BmgLKebnbxbnru2Eu7x7RzxrjZ6yZtAKZzRWfeNsvXj9kufGXss4583pPQlzXHfNdeXbyWe7xez5x9JnM3W5Br5Nq1uKNspzXenm0MJ12bY5aHWufRxrzTPXLU557ph6HKZb47Fz7xl8/n9/z836iM3531fkfW3JLAQoAAoAUJRx3wuW+Gx2EeD6HzrPR6M9Jcce5Z6U5l7AAsoBz18zqz26c5mzxe4MMTbb5/qNnPMaY7eet7fKel4PfCynl9Xl9QC0J4vX5fXUpKsphz6bZ8b7HzN9PXMPLl9JLACyl8fs89b1nGl+R9WvNj7Pn2fU83p8Mvuz74iebuaenjz7xl6/meystPL6E7wm5rhtJeuMdTdjY2Yjfw7eWvoc59Rz3FZeb3DzX0jl3Yzug8/PqV4e/WPDp6h5NtUYT0DC60yajyX1K451kc2hLTz91XDWixADnrKs/Tz0LEXnoc9Asoy1UEXjuHn+b9D5+b9Nyy+Z9r4f3NuZYJYVKBQpFEoAOeovn2y0NQjwe/z2bdTqXx6+X6Fnz+vbkceba16hmrKDM8+fPW8/R8fr8ub16fGXX0eLhJxPXpt5c7Huz588fQ83OR6dsvKe++ey8+nw6J6mI2uORx7PPoaTktCc9Zw83p00rw5/Q4ObsjJqMW1MsPYPLj77XzNPfT5/fth5J7YeHv1jJqjjnUTjQSgAAAAAASgAAAAAAAhQEFQUBAAAAAXkoAEsJ1KLKAAAWWFSlKeL5/0PnZv03CX5f3vz33tSuOTSZ8m7AbsBu89PQ849Dzq9Dz03mQz7y7XeKkndPmz6fFny/f6R4cPpck83vS/O9PoGE9Aw61Gc1Gd7GXXYigIWBZRCvLv2RYW8dCkKAICgAFiAAAoEqCoKAlAABCpQACWCgEKAAAACUEolQoAAIsACgBLAAsAAAEoAASwWUKAALLAsKC2U8fzPpfLl+mjF+L+g/PfpdzNpyc2wAWCgAqWgAXElu9JkQqcnbnA9PHUPJp6PPZ6RKQVBUFSgAAAAAAAAACygAABBQAAAAgFlhZYKAAEKAJQBKCUAAAAAFgAIWIdScmjMaMhqyGlxGzEbMaasobMRtMobMhozp1JSTumbUZzUZzUZNKZNhk1GTUZTcYthjdRldafO+f8AW+ZL7kYfE/TfmP0m3csEsAoIWFUsAWChcFlu9lmUoeH3eWvQvni7+P2U8/o8yeqWSqAEspLKAASgAAAKQBYgoAAKQAkVIvc5h2zVozhtMkmzLk3YjaZDZha2YjZiNmI1ZjtxTrm05ndM2lMmoyajFsMpsMbqMpsMWwyajNoM72OZ2IohSFAAAACAAAAAAACWUoAAAAKC3no8vzfp/Ll9Tli/H/Rfnfv7nonXIlgAFKAAAoB53fN1vYmakL5++bLphmaej5vsN8OsZfV149ju+SnsYSPQwG186vQwG8yhsyRo4peeqcO6ZtKZTYZTcYNxg3GDcYNyYXZWF2S43UnDscuiygACFEBUtEFAAAAAAASgAAAAAAAgoAXmwsCgAAlBAAAAAAAAAllKAAAUgKC3no83zfp/Nl0cMX5f2/ifU3PqcZxdJxUsnRzO+jJsMZuMG4wu9MG6vE2i9zcmLYebTUcXoc25Gk8XFnp9Pm9EtAIVAsFAJFSgAAAAUELBUFQUAAAUAAAAsqJYAAAAUhZRKAAF5ollAAAAAAAAAAAJQAAAAAiiLAsAABCpDpzDtmNWcNWVNGY1ZDVkNLjTa40y+dthKZsXxfU+X9Hc+vz1ysAliVBQAtAFLKYc6crulZAAAqCggAAFgFBCyyFloAAAICgAAAioqgAAAAAAWCxUiwKIoigAAAAQqQ6cDtnDVlDZkNWUNmNNWQ1ZQ2ZQ2ZQ2mY0nNLFJz3TOajG6jNqMpsMbqMmoxuoymoyajK6Uy66HN6HILQAAFIolBVPJ5fb4pfM5Yvi93h9e593jvlYBLEAqWgBVAAzz1xX03npAQAAAAUgCglJQAAAAACBCuVdOIaMkbMRswG7AbsBuwh6GCzdhZdmI2mVNJxSlOZoTNqMWwyajJraymwxbDFsMWwxuoyugzvY5tEoAAAAAAAAAAAAAAQFSiWApAAAAWUc0KBYAAKlAFlMPF9D5y+RyxfNtj1qfpeO+FESywXkdOIaMxpcBuwG7z1dc+cLfb349U3YE3YDdiNmNNGdjqTquXVM2oxbIxbjGbjFsMG6sG4wbjBuMbqjO9ji9U5tVFEpAAAAAAAAACykFAgAFQVBUolhQAAICgAASgABKAAJYUAAACWCyggURRCkWAFSgEWFAAWApFACynHzfqfKjxol88sr9Bx6KvmbkwbjC7DO9jm9CUVQFqYb4rdsN0FQCL5ze+NXshFAAeT1FAAAAAKPmfTxsw9nzvowCgUE828s8r24VvWeWjnpQAABydAAAAAFSAFIUgACwAUAAJZQABKAAAFQhQAAAsACCyQ7ZjScQ1ZDVlDZlDZlDW4jZkNWQ0ZDZkNWQ1nFOnI6QLBSnHyPtfHjxNUvmhp+h1w3jkLYAIAsUsoKoDHbEnow3E6yTK+i14nr5SaVLAKwNynzt5zqeyc/Pl+nlczvX5Xdn0Ixj0vn+lfRk8Vn0vN6PPGHv8vqgFApDrPjezHDfiuMvoZmXprNx8nh+3qd5afJj66WV5/QQsUAVIqBLVgskTq8Q7ucNLiNmUNmI2YjZiNmI2YjZiNplTScU65ojsZNoZNhk1GU2GN1GLYYzcYthk1GV0Gd7HLoRYKAAgKAAARKUAACwVBUoso+T9X5kvlehm/JG59z1eH3RyFBAAFiqlFgoW+b04E9Pm9ICAMN8K3ixMPRjZM57K4083ol8nk+l5bOPT3ieyeXmNOrDXwerA9mVS8eT23U08HY9Xfi2y3vn6XZgN2FjTz6rPNtpa8j1dGU1p8f35d6mvzfpWWXP15YzbEXZLhdlmLZGM3GLZWTVLne6md7Vy6EAUSwUAAAAAAAAAAAAAAAAAAAACAsoIWWAoAlhUpAUAAAApKCynPz/AKXzZdEZvwhufY9/yvdGjAbvPTd5ujZjTVmO5z0F6OGlXHz+/GvP6efQYNyYZezyGnm6tl21suHl+iPN3sPHn9AePv0q4do5tEoDk6uUNnnWeh5uT1XyU9Tyj1PKPU8tPTfKPVPPD1PKPU88Mvd83016XmsbsIeh54el4PbHQUAICgQUJSLACwABRLBZQAAQoIsFAAAAlBCgAAAASgCKIoAlAABKAIQ6AAKRRFACyj530vlxo8iX50sr6n1Pk/WM1iggAAFSiyqstMdszP0ef0FgWOU6mdO2Y0nFE6tZzYmM9FPM9JfLfRTyvUjzdbjLrsc2gCoKgqCkKlAAAAAQFAAAAAWAEWUgLLBQgCiUAAAJQAASgAQt4HTgd3OGjMaMejRnDVnDVlTRkNWQ1ZDVlDZjTRmO3IpTl0OZpTK6DKaw4aUzaDNpTJoM2lMmoya0y8H1fEeNozfkTrmvf9j4v2jmWKIAllACy2rKLKXLTk8/o8+69hkACpSWAUllBCgiiUAAAALLAAUhSUEsKAQrkdOB3cpGrGG7EbMYbsVmzGmtxGrKG7AbsKbTKmjMdSULTiaUyuoyajJtDC60xbDFsMpsMWwxuoyug4vQ5tEUSgAAAAABUGU38tei82LAWCpQABz1CgAAAWCpRZS+P1+QxdM34csr1/c+H9w5lgAAAAspUW28xO+Zms08va+yYmdmI2YU2uA3YDeYw9DCHomKN5iNmNNZyqyiTumefFs0uyXHn0IwuysW6MGwxuoxbUwbjBuMLsM72OXQiiUAABSCwACgAAAEKlBR5vTkZdbqOLHQCUJSArPQgLLCnnPQec9Fnir3OOoAUObhvSTI34vZ5+fV503lq+T0+b0FEAAUACIWgAAAAULKXx+zxHKs34KWt/sfH++eaegYTcYNx57tTGbjDramF2pk1HE0W+bpV2WMgWAAsoAAAAAABcdvBZj9RSPmfSloABRL5T0sdyACKiqAAQoEohRz15U9QBSKIsFAy1B5D1sFbyyFQpRlrhWyWOHeNY+nzes889XlPSqJQw3x1pjtibFhhvjW3h9GNnoumUvO/HYEGOxhtjtTzemDrz7l8/oxNXPceXfDeyiUAoAAhC3mlcjpwO2Y1ZDVlDa4jfx7+M0cM34VlrX9B+f/AEJzLFBAIoAtlVYqgEMolvoEgIKShKD5n0/k6n1i5sc0rxe0PF6a0EAXxejiz0CXyOs9T2L5MvVZmul+d77O/Nz2c+nx9npnh7PWJaDjnXGzqfP+mdCUVMuscK98WAAKUwb/ADtTf0ef0yuerHz/AFdd057sfP19Pk1PVYzVgt5HWfWVdaebU0nEjnXLmvT5tMj1MvJHvuNO2fJvi5r05vCfSYo2wo28utrGbjL0c5xn6M9ax61kc4+qGfn601O8pxHW3eC4envsxuqMWwya0xbDG6jNpDi9U5tEUCkURQBfN6vMdCX8ysNf0P539ESWAAABQpQqgAYSrd1TMUebbv5ln0PJtnT1zKMPJ9j5uno9Xk0jDtT08ayXzPN9GzplrmrB5PX4vZZ044l4468Gp9LN5j6GHn6PRlryVp4zH6HlWeny6eiXrryXL2vP0u/z9+bOPXjyeryaZx6XHR149M6z9eXpjK6jya7DJsM+dx5L6RjdaYNxjz6fHXm9PrHl760jK608Poz9NcTSx4b7FePr1CKiKMGtAAKlPNt0oIqCgqC4bAAAAAQxbKCAAFgqUASwWUAAAAWCgvn9HnIM387LK7/R/m/tnomEPQ89N2A3vnpuxG7Cm7Cm0yGrNbnJF9PPZOJrUx8n0vNWXXrp5HrR8zv6CvHtsjxX2Dxc+8eHr2DyabjG6jyz2eWzXyX2E7qXi9AAgqUAAIKAgoAOehMHo89Z+vLWAUACwAAFhLx1Tyz02pagDm2FQVABYAFgAAACkAAsoSghQRYVKARYAAAAFAACWCyhRFEWApKAFw9HnOUZv56WV1+j/OfoxLBLBQWUUqgAAAxiXXosSLCVBYCwVBUFQVBUFASgAAAAAAAAAFIFEsFAShLCLQAAAAAAIspLKEFAlgUJRCkAAAsAolEqAFlgKSgABCgACQVIdXgdOB2zGrKGzIashrM4a3Ho1mVNGY1ZQ2Y00Z07cjrzerzmbRm/nZZXX6P85+iLAgFlFlq2UAAAAx575a3CAAAgAApFEAAspKAAAABYAAAALKBAhZQFAhEq8q6cw7cRNLkNGUNmI2ZDVkNbjDZjTVkNmI2YDdiNWQ2mY055pUsJbXM7GbSmbQZNRk1pi1GTUZTYZXUYthi2GTUZzQZtBne6cOxy6EWBRKACWCylgWABUAoBcdsjkZv5tLT9H+c/RgEsoBbLSygBYAAY8a5XXpRM1zDtxDRkNWUNrgNrgN2HJ6LgN5iN2CN2MrdijVkNZwO5KRejOa0xuqsmoxuoyajJrYxbDFsMG6vPdyYtkuV0Gd7HLoSrZDynqYbgAAAAAAACwWAsFgAAAALBQQAAFgAAAAAAAAALKAAJYOuaAAAAAUFy1wK7S/lrLT7vwv0MZTcYN6YXamF3GF2Vi3GDcYthi3Hk49WTXV76TO91OJ2ObRKBYFAgToAAAlAAAAACx509MvK1Yi506sqjE2BF86ejHbzm6VaAZpo47FlPP313U57zM9/F5z6ogC82FAAAAAAAAAAAAAAAAAWAAAAAAAAACwUACUSygpFEAUSygHXm9PkPSyS/mbBf0n5v9KcywWUqUpagFlAAAOcN8V2656FRLKIx2AFcieWWe7HaS+T2eL20EEFBKHk0nNnqErHYAAXLWI+fvhp7fN6+owx9vkPWcy9+bjGz6HPm9EaZ6QnWHoPL6PN6hYPK0yr09YeiJQ8vPsteH3eT0nyPpcc2eoZoCUCkKQpAAAAACkWAABIdOB24hozGjMazMashoypozGrIaMhqxGzEbMRsxGzKmrIaOKdcgOjiajNoMmoyajJqMrqM/L7/ADGrhL+aFX9J+c/SRzKJVFlpZRKAAAAOcd/Pbt3npAJQeP1+T10sRZcTL18eez2eX1Rfn9ZTU292feXyt8PRXuc9Zqyjzdeez3Me5e4zNLnTtwNGcNWRJt5NTby6ZHrYl2mVTrryam9wE9Hm6Jv56bsUbTNWjMduaZ5eqng9nY4+Z9cY3QZtKYtaZNRk1GN1GN1RlNlY3UZNRk1GTUZNaYtRne6ZtIcXoc2iOoAALKQAAAAABABUpUoAILKWAsAAAFSlw3yPIiX4ssrr9H+c/QxXPJpchtcJXoYDdgN2FNmI2YU2YU2wYW+rTyaxsxqazinl9Wehn27OOdqfL5+sPJj9GJ8v2b9V4evaPke7y/SMZulxbDxz2jx6egYXYZtBxehzaJQAWABYBQQoAgSqlAAAACUBCCgAAFIlAAAAAFgAWUgAAAAAFlIAAAAQsAABZQBYLAFAAAAAFlpz1yfOdJfiiTv7vw/0i+e9jm9UiqUAAAALFOcN8betsdoISwAFgqCoKlAAPmfT56ICpQAAAAAAAAAUlgsCwFlAICpQCKAAQAlEoEKlAAAAAAAAAALAAAAAAAUIAAAAQLAAACgAoJZSxSKIAkO2Y0ZDWZ8nlYpflitf0n5z9JGKhZQKUAIBQAFJhtit2x3IEFIAAABYFlJZRLAAoSgAAAAAACywAAFIsFlAAAQAAgrkdOB24HbMaM4asaasobzEbMhqypozGjMaMhqypozhqyGrIa3CmzGG8yGrIasxozHc5FAKSdU4mgzaDOajJqM2gzvY4d0zaUymwyvdM2gyajNoOGg4tAo56Hz2w/PBdv0n5z9GZyyFloCgSiLBQAAY7ZrzvjsRYlBAEFcw7uUNWNNbgN2A2ZQ2uA3YDdiNmPJ6GI2Y00Z06kpeehy7pk1GTUZNSZNaY8+iGN2GN1GLYYthi2GLYZXQZtBw7HLoc1SKIoSiUAJQAigAAAABZSAAAAAAAAQFCAAAAAFFgqACgAAACgKDxqj8+F3/AEf5v7x3zlI2mVNHHVJaczSmLYYtxg3GF2p58fbguO7cwbkxm4wbDK6DProRac2iUAEoSwWUEKAAABXCdzyb1pWMagqVTzehKlMtcNqrwe88Hox7r00yJDpx2AY7eb1VHh0PU5RVEAKSwVKAAAAAAAAACFAAAlAAAAAEKAQAAAACygApzQoAAAoACg8rtH5sL6f0P539EcEgKWACgAJQABhvjbPR594oSLAoiwAWUcZ8Wbd+H3E68nrDPuWpQeKz2PD7hYlc9YpuFFHl9WFm7y8np+f9P41er3c95DzU9PyvRXsvHWTz+nOvH9D530jPDrY6EcY+ny1prh6CVY8vp83orzc6+evP6dPWnl9Hh90qywlgspKgsoAAAAAAAAAAAAAAAAABFhZRFEAAABUFQW8w6cDRmNHENGQ1ZDVkNWY7c9mLcflAvp/Q/nv0JwsiCkolAABZQAB5/Rjbz6MdoWEqUnh90sz283pIvMtuOx5tu8LNe8dTxev5/rrw+/P1nPHi0Pbxh6o83VprKgcHYFlHHfnr0+TiHs8Hv8Rr6vnew1uCWbeW2em4I3vnF0zp5O/QrL1ZI1YjZlDa4Dj1efs83HslZcengz9PKOnI6iCgnUI6HLscTQZtBnexm0pm0GTUZXSGbSmTUZXQZXQZzUZNRk1hnNoZXQZNoZNRk2hlNhi2GTUZNRk1GbUZXQcXscqFAAACwAq2UqD8mJfT+g/P/oCSyIqosBSAOR1c4asRtcBtgxt19Hh9EbMKm1xG3neCz6k8PZ7O/HtGjimevGNceny+8+dt7B87f1j430vD6683s60j5994+f17pGPPoGF3Li2GV0Jl12OXYy7oASgACoKgqCoWoKhKgqCoKQWCxRLCwAKgqUAAAAAAAlgqCoKlCUSwAsAAAAAAAAACpRYCDoAAAAUA65pQfkxLv9r4/wB8870SPO9AwnoV524xbjG6wzvYlUFJjtirfDcSxFgqCoKlAAAAFhPmfT+b9KiJagssAKlAAAAAAAQAAAAFBAAAAAABQgssAAACiUAEoAAAASiAAWAAAAAAAAAAAAACgWU5FdCAAAoAUWWCq/JCX1fe+D9+JAEpYLAAAAAoGG+Cz0+f0CWIAAAsFAIVBQASoAAAALKAAAAgKCAAAAAFEWApAFEURRFEqFgWAsFkHUg6cDtwO2Y0Zw1ZDWZ00ZDVkNWQ1ZDRmNWQ1ZDWZDW4jVlTRnDVkNWNNWNNWUNmQ1ZDVmNGQ2ZQ2uNNGQ2Y01Y0155onVOGgzmoybUyaj8mF9X3vh/chLBLKAAAAFAFlJjvkvHox2EpIsABQAESggrmHTiLpcobMYbsCbsRtMRtcKbMRsxGzEbMRq4HUBOqcOxxNRi2GTUZNRk1GTWmLUZNRk1GV1GLUZNhk1GTQcO6ZXQZtIcuhzaI6HLoRRFHNsCiLAAAsAAAAAAAAAEoAAAWUsCLC2UAAAAAt56KK/JCX3fa+J9U2mEj0PPK9F86N2Ct2EPSwG7AbzGmjinWG+S8bcbmU2qYNxg3hjdaYzcYzcmDcY3UZ3scXoc2hKIFoJQAABBSAAFJfP6Kc9eE9teWPVPD667EAWBQS42tXl0Lp5OD3CABSAAAsAAAABYKQWUQALAAAAAAAAAAAAAAAAAoAEsKUACgAAKI6Qfkwvu+18f7ESWAFgCVbAsFIUFSjLXJZtjtQSJYnj9eG1dWJaVI8mFfS55857BAAA8dex4faWWSl8qekFSgpxnphXqzwxPoYY8117fJ6I0uOBz7Pleyz0+T1+SX2WWJ48dq9gi56cnm14409dy1y58/q8dc+/w+sw428dfRGQChzQAAoIAAABZRLCghRLAsBSALAABQhTmygAAAAAAAoAlAUsoAAAAcw0ZU1ZD8wJfofY+P9eIsAIAlpZQg6gS0KDHbJZtlqAhx3Z4/V15D1uOTUHk9N89b+X0/Ls+v4LDX1PHm67/M9lb1hGPs+X9MsqV5PWsjPSFlFlM+HVYezLKuE0s6vm9svaMvL6sNa78fqwNsuob+LHE+xcEbsKaTmGnWI38mudc6qYeb3jVkjW4jaZU0ZDVkNbgN2A3YDeZDVlTRmNGY0nA0nA6cU7nI6kh3eKWcju8DpwO7nTtmNJyOrwO2Y0cQ0ZDW5Q1ZjRmNGcNmQ0cDq80vHcJeqcO6ZzUZNRk1HF6E6loo/JiX6P1flfWiIAAJbCigFBZUBWO+KzbHZBEeb0yvLrpDSZyNspa0vz8j1OvHX1PL59j3fI9fzj6O/m9EcbcYHq8OftO52jjD1jzdegYNxhdh5O/QMs/SPP3sMWtMbdDO9w5vQ5UCkBKAAAAAAAAAAAAAAAAAAAACwWAABZYAAAAAAAAAAAAAVKAJYW89AhQBQACylB+TEv0fq/H+lGkxG05onVOOdaY3ZWLcYXamDemF2p58vZjbhu3jBuZx67HLoSiggF46UsHPz/oeQ9zPssIAAAMuK9OWvhPX14PeBAACyni9Waus/T4T0+T3dGOvg94ssRKAAAAAAAAAAAAAAAAAAAAAAEoAAAAAAAAAAAAAAAABQJeS9c0sKoAAAFlKD8mJfofY+R9eOFgAIUAFRVsosoAx2yWb4bjzej4Vz9TXUR4vaBAp5blxqfQGaBc9Pk6a/Qx2BIqeY9V8XoNWHRl5/f8AM1PreLvyGvv+P7pfU47yA8rbz6b6+PWPR4Pf4D3+D3+I9uPeR4fpd/Pr6AyAAAAAAAAAAALAAAAAAsABSALAAAAAAAAAAAAAAAAAABQASwWdVFhUh04hozhqyGrLo6B+WEv0Pr/H+xElgBFEsFFCiyiygDHbFXow2R+c/R/D1Pp74aHXeGZ63z9j04Z+VPXl7vk19cYoo+R9f5mnr9Hh9hPH7Pmpvvr464+j4PZL48vZLNvBeD3afM2jj3/O9y6XG5asRtcRtMht498zeebYy9Hl3rLy/QHTmwlscuxm0pk0VnNhi2GTUZNRk1GTUZNRk1GTUZNRlNhi2GLYYthi2GLYYzced6B556R53oHnnpHmekYT0DDrUZNRlNhk1GU2GN1GU2GLYZNRk0pk1GN1GV0GbUZNRlNuTjrroyajLrsc9AAFLKAflBL9D6/yPrQlgAAAFLBbzDRnDVkNcWa9+jx7G/j2lzl6MezrDUczqnnnptefD6HMDSMrpTLncZeH6nJnnv0eDf0K8OvpRldBw7EUcdUAAAAAVAAsAARUFQBQKCAAAAAAAAAAAAAAAAAAAAAAAAAAAAAAAAAAVKAJZSzoigAAABYKD8oJff8AR+d9eTzt4uLcYT0wwnoGF2GTWmV1HHVUUMtcVu2OyEFQWAACAAAAAAAAAoIAAAAAAAAAAAEWUsURYABQAAAAIAAAAAAAAAAAAAAAAAAAAAAACggAAACygU56hO+OigEKAAnJ2z5NmQ/NCX6H1/kfWhLCWCgAFAqoKCgmemK9bYbIAAAAACARYUAAABKAAADk6cdghXBe3ENGfJsz6OnI6cjuco6cjtyKlBAQopLACS0iiTuEWnLqGfdpytM3Y46omeo466hy6HLocuhnexyoEKgrmnOnFOnMO3A7uY0zo7cDtnDVnDVnDXjhW7Gxqyhswpsyo74tdSUlUk7pxNBm0pi2GXXZOeqAPygl931/j/ZiSiKAAFAWooAoJnrws1z7QQrkdOYdvP2asRswG7Cm3GeZ6nnpuxpoz6KUymwnGoxbjG6jG6jLvoc8ajK6Di9CKJbAAIKIsSoKAAAhaKASyAoAAAAAAAAEBQQAAAAAAAAAAAAAAAAAAAUAAWKogAKAAWUA/KCX1fa+J9uIlIFLSKI6HN6tmc1GbQZtRi2LjdSZtBnexy6EURRKAAAAIAAAAAAAAAAAAAAEAAALAAABRQSkFgABQIAAAAAAAAAAAAAAAAAAAAAAAAAABUoAAAsoIUAAUsoB+UEvp+78L70ZrCpRYKDpKBRQAAAAAAACAoIAAAAAAAAAAAAAAEAAAAAAFgAAAKAARRAoAAIAAFAAAAAAAAAAAASgAAAAAAAAAAAoAACkoAAAAUBR+TC+n9B8D9DJnxryudsAKlLZQKUAgAKAAAAABAAAAAAAAAAAAAAgKCAFBKAAAAAAAAAAAEsVZSFIsBSACwCgASiLAABZRKIsCiKIAAAogCiKIoigAAAAAUlAUhSKIoAUCj8kD2/oPzv6KJxYs514OHUOaosoBUosoBFEWUCAoAAIAAAAAAAAAAWAAQAAAKAAAAACkURRCiUAAFEnUIpYsAAQBKoAAUhSKIoiwAKIsCiKIsAABSKIogACwKIoiiKACiUCiKJVIoi0i0ij/8QAAv/aAAwDAQACAAMAAAAhJ/3tswEE4yK18800EImgcCOea+Yh1ElT/njT3/v/APXUdfffSQccYQSTYSRXffffPPfQUdaYQQQQwx/44X/wzvuhq0QGQ08njBGIIlvGNEEEINMAIAAKMPPPPPPDDCgAUAEccfbXbTTQSYfVfYQVfYdccPf/AP001103101/fuvd/s8vuIJff3CG0st0W1jRKJ1jSxzzzCAAAAARzTyzzzzzCAAAAW0n333nUWkEFXlEkUn0UEkk00QzEH3V2XW8e/ynPNed6orqLaoEB21P3nGUFRKNTxzzzzzgAAAQzzzz320kk8NbI5PPPctGGkFHnWkWHFHU11W8dnGFEOMd/wDvD3RzTm6QKi/W62zzUKD85zf/AIQSBPHB2EMJPJJGPNtnjvDXHOMEEA0cDH/cOPLCRXZ0Yffi2QiwReQ7Byw4zuOL288yqs419NOwAkcvuLb2KC8M7Qz6wQccXEwBNPPPfSAIPPKO/PPPAQ1MdaOGlgAEKS2GFC2d3VO1xQ1fmfCnzgujKfnzy8CTdo/IkOGEOOFHAw6vvp/x09/feSbLwdat8qvKDB8cS1/5cf64lBcYIOKBjXbVIzq4GpGsIzwMBXVi9PhPQRALPu+V8Fv+vqA98SZx/wDvDaIr8v8AXLRxxhV+v5p69XqUoqjnkHgglvdsL1xHEVrathF5f4qUUMvPblpBBR1b51xhBBQCGDPPDN3/AO95www56w1/lnkkzB41y0+y9TDe2ULdVegEJDLLHHrqjP7HBEItKEIvvqNRbQSQQRSQQbQRQQQQUYUbQQAsv8gvPNvoVeTQa3+ztlthgsMtx52708yQVBIRCipvQDDDCAMMMMMPPPPKAFKDBDHKPVVWYQReQUaZeQTTTRcQFddWQAJBfRWVZQTaRX+z9638krsvAzvx/f7odbQlKUEGlLdIACLAKJDFPOLNeQQUeR1lvNHxw86XfbcaQfYcQVTYUcDTJeXeWQQQQTfeRXf/AOklEPT75Jq46qPeP2EEHkWS12W9W5hA4OxRQY5r554IIJLM278/o44/Pck1EEEEEFElFHGEEEGWEE10EEGFz3+tEPf+2sMf7r5IqLK4rNvs9f8A7RPRRQgAlOAEMsEGa26++8+uOOCCCEwAIUpBV999FRhBFZpBBBBBAAAABBlFBCCOz3nv/wBV92x+cgguknvvgMlz89gkKMncdfTQfffbOJBqAJJPvPPPPjAAACDGLLCdcccQQTQRRSbRUdecVZBFUSWHPCUccYXbSbYTYTTec5sngquIl/yXeAPDhgQfffefcSIAAAAPPsuOOgjhhtsetmnqt8//AOkFGEHGHWmEGEHkGGEHnEEEHn0lXn33X1OHW334oL/Tw7gVesfOsNIbx33Hmsm2BKNMbRTxy47qDCIIJKLLaLLarz33000lUEFF2EEEkEEkFX0EEF3WkHHHnV0ksP33XvJa+cFZj0sc9MaLBpbkHaB0EDKEAgDTgvPjwClysgAAAQACBzzG3nnX3X2EEGkEVEVEkD1UE0GFnF1EEVUW8tPt81H+OZIMNyVwoNO2nBSv+OCcLqYrGri1VwV9fzRQE5JJYUREQTnMSgWmG0EUk0kE0k1UXVGFGH3zhGGFFWEEXkFlUv33+44rrozxcAcMO0kVx+MEBxi2UCpkEO+LDXOgBIfFt3lhPnKEd816uVF3G0FEEEEEEEEEEEmFUGGEEEF2kVXkX0kHPf8A+6iCqM8PNbLznf7Grj1SJKmu2cMkMUqJFtNtJhRNVlxVpLAAm8d5ZxVd95VpFBFB1hBVBJNFNJBBRBxxBhBDfNvXvayyGqzBePgDDz/Lqo77cPa264xRoIyCG88MMMEYgww4x0UAIQAsVtd1F9xhFNd1FF5dVJRFh51x5d5F5LhnxlZhD7PauKCyFxm/CG/TXsooYa959Jt5pB8xgAc88U8Y4kYAEYQGSS+xRh9dJxl555hFhphxRRxhBlVtNNt99/OimdtJxRTT22+uKiMD+jHLDDDrQxl+Z15tNRB7TGU0QxEesSuuqyiyGCCiCG6999BBBFFJZSwCCLJ/C/VK2qKth00gjwub99DDP3/+++yCt/KXZfjrXj73Yy19d9pEABBAwURRy884c48+MAoEAQ4DV511nDLNVFxEDUiOx1sM7kNWMOPQYoaa3D/zPDv7/wCugtrofqs/Kw81yrAJLPPeYZaShggAHATit7oRY2fCOZYEX2RUUQcSwI1bTYdHJ0JOuUmHAemDrpDkme9CJbWcTDXzzy08lsTNl1awx85WALAMYS91xl/2KQJKWvplELmSp2DWR0Wr9RVUbaQRFLwSC2IA0fvfWbPTUQTkccctnH//AG0nmPf/AP8AvrlqQntxSx7/ANsNOQJT0SRaSz56qByU2AAAziAAwAwADVAMADRzzy1vjFFk0313133X3nV2lmUXUkPf/wD/AP8AENc9fPPbqJaU67tVef8A1FdJ9sspNdtNNNMMEYw44w888888EwsAceYAAEIc8FhpJB9xZ5999tRBldV5lB55BBf2u++GCW7bbyGKqG1+2HJ/rNJBhF9qSAAJd9Rx984gAAMc08888oCuSAVSsABh991Rhx5BFR5FZ7Z99B95RNdBhxhF95RRVxiDf/fe+O6S4CK/rrfJpV199gR9R5wggEkdPMC+OaKygMs86CCAxyCuSJ/JBFNd9999tdtd9999tBV99d9999xx999rCD3vve+++Cq8o/zDTjNxVNBCcZZxl0wE4AAAgAwUw8bU1loAAvD0EHBpYVuBVdBxN519999999t9d99h9919BBBB3vDDb/7yOyqWXyu79jf59p519PWlRHdiXyAGCAm3AsAUXExdUG/DD7FyLh8ODBdRRxZB5999408w4484wYJbxBRNNN/5PrbD/O7++2P88z7zFpRBNdV9+9AcsS3QkPSIoJKsEwAhnfwRdFJNXRl9bHDtJ5xFBrNlNttZ1JBtt1B9p9hBDDBN95LXnDeu6++KX+UanzFM85xpVZehBWOYq/8AYS0NPDNDPPPPLPLOBAAhCAAMOGKTUafUSSdedfbUadfSdSfafQQwx3+fa/7307tlvvqKPP3jW3cYAUfWdQjXfbTDCAMgvCAAAFANPPPOLHGKAPCAMAASSURfQeSRSVQVfbUfbQUfPZYQSQx9/ffw/gi2sutihqsvMuw/YQeYRWT0veReJPLKKEPMEAAFCHOPBPPONKAAAQQSXTUbRWRQcSccfWdecaRVfZSZdb2UZ8ccY+8kixpvkvuvsfJD6fQUdYVfaytAOONLuLDIIDELMAIFHAANPSXYQYQQQZUUQaQcUYQYTcQTUUfYYecccYQRXYcacQQWxz99vvslPNPfPGkyEADJHaW8sEPDPGMIgEBKBAEIFI1Y/SDyRTYoSyxUBh8/ebSQQQYaQVVQbcQ18SQQw0+QzTQQT6/+7xjvpFPFMvCL/bdQQWNPETgNMtvqnW5QiiVbNwOEdXm1SByW8h3cceht9KVaZaQQSXdfVXaSQAg6RSww908f/wA/8tKeN9b777arPwiP1HWH2gDwX68runKJu3rBR8tEEWkUpaEy2k1tCP3W3ubRMUW1UUEX23kHGWnOOJPG1U3V3V89/wD/AE9815vnnntAPPMAsZeOOprIOfutseY252XVWIWZzYFDXcfTTffTTTTDDTTTRbWVXfTSQQQRUYQbTTSS1/XfffcYcUf/AMu89c4IIByzzywfpF2AT65i6JWzwwgBCCC8kwxTwjDTzzzz33333z3333333l30333GEFEMEEFH323/AP8A/wD3+00kAFf9evlYJ6xzgbDxJ4SkHTzz7b+JTxTywAQ4ICbzzzygBCR3z333333HXn3HHHGV1mF1E0EkUVk0mU3UEFmvvH/vPX/PvdeONPpL4JpI7zZJSgxTzgIKd5DTrgA1MsHSAQ0V2FHHU2XHEUHEk01k302G3FG0nHU20EEEGVGX32V332011001kWn/ALf3r2W+++KA8QSMi00EwSmHuYgGoQ97xJhxR8AgA095t95oBnd99dBkFe995519d9999tFtF/d9999995BxRDJBFB/DTD7CAAE8WP8AIvuk9JZRNGFzAB9ru+jhzwzDVM9yWRmqHmp3v3v05M6poE/YZffQffffa1wWXdPvIff8q3g6ygwxQOw+wZYDDOOGMPBswvvODDNJHtjiQjQYHZVlJSuOf6a53IVO2Zfzryx7xCJqbUdebbTVedfXWefaQXZA6yns28751819/wC5uMp4ZpazzxI/6rYBzSlzZfdUE/FqryAaIBX9PP8APPTbrnhfJNl999999999999999999/8A7TfXedffff8APvHWnH38vMcsZIABCgDx55JJ7TwhgijLG90x/wDNNyNf/wD/APETkFX+tLIjn0lX3133H333333333333331khXnkNvff0tMMMEFP/8AD3vcAEAAoA8ghCWC2Moo8qOuy1v7LX/YM5tGKrzQD/4OW+6c99999999599919d//wD9/wDv/e45u/8A/uO//wDz2zz7x/41r2fAMNMLMPEnwsrhGKKNOh1OADP7V++LI/WMfW0KfZ0U+3QCW5+zadRSQRTTTTSV/wD+89v98sX123988MsOMMkOc/PPcvL6KoCjzwb64YJCiATRZZX2m5i7Ps9Pd09//wDf99999N9t9/PP98999999991995999999999999//AAcZfXUdffyx2UcQAABLPPH7htjrvsrHFgzDHPNfYQcccec8N/aRTdebfffff0stvvPPPPPfffff/wDv/wD/AP8Af/8A/wD/AP8A/wD36/8Are9n3+sHG0EkCl2/PzYLbb7pQzxC6/zwAAIevcMMMdu//wD3zR+844w8e+G62mUUo9d1LHrbvPPnju+D6S+7rW6uGajW2NKG6eogoQUI0thN86zzD/n5xUAjD262HD6+fznC6X3Dme4sUsckc+y3PDDDOIAW88888888098999999999/wD/AH//AP8A/wD/AP8A+w85Uw4dPKPPKi/uvhkYTYZPTDEDGIDAggVVffffffYUfffff/8A/wDv/wD/AOkI577z33332G1H3X33333nW03333333338sMf+sYJbyjzwZFevcsTAAQxjAAAEAEEEEEElX3333013/wD/AP8A/wD/AN//AP8A7DDz+++//wD/AH320H1333332333333333333+MMPuIIZ74bLwtSkJqZyD77zwgAAAEU0EEF33333333/wB//jTDDPDDDDPPPPWq626+99BBR199pR1xx999x9xxxxBBBH/7m66y2emz9PcUBiC+OqCy0tsMABd5hBN9999919//AP8A/sMM8PfvPft888NeIYIct001nnG0V3GUHEU00kGE20XHHH01GVX2oPNnH//EAAL/2gAMAwEAAgADAAAAED/YhJcYWWaLdDSHNAGGoKOsrpgkBRXOd950/wCtPsP03Um0HG23HGM8s/Osd/8A/wDqwwkvri13/wCsNW1kF3c34bMNNvJnBbxju9FU3VCl2lXXABDTBRyzxQzDBDTzwwxoxGzy003HNu883EmFdv8AjDX/AJ90s7hCCtuoo8zqggBBHBKNEBIJTcMGcCy7S3BPDUVEWJSbTffcYQMCPOICEEHPPPMJKBPOUdRwx/8AcOtNff8Ae+S2K22y+CmzPyKO+6ur84UCE6SlGPT/AP734WwP+/8AHnGZ60CoUGU3233kEADjAAAx32E01vuIb69Pf8sl3P1WV1tOK4Bg/wDGM4G+yOcoFd9sgM4sG5SHMj28AMXf4yowzhiGMMLLVaxdRxl9c8hJKSSecNsM4k8csRUwdDMUwsJbnQjXHHgi/wBM8xjD+IINNezolus1xEGipyOsnrOTZ9y/DWAPBjNAvDOJGusal+8cNCdXAAKLQAMMF4rJO6EJYfvLLVPQcOqFTR6qVQSqSlNPg3WbyZlkQuZ1TdD4ZUY/oR3mjaV48lNTpi4VeXdnllTkBFQ6dmumWPu9lAtC6F/IGNzHU4ew7lo81wHsIw92cxwvpTlcsmbgg8PuHVfC4IhCPHj+sqmW62w4hQy7WcYS7Cxv4FkmY0anwNrnp0uMcEmfzRJWkfnycRC+dhWVNFOlwYx25Dignsog4R8jDFKmJOPJOIUcwxrv1y+7MOIZQJvihGY57u6FdbCsScVfjD72zLbXFIHmENLsglCTXc+8wx3657wxw/6whrlpnv4ffMwUzxXbms/rhAtM1390twQshd9j438cKhIp3WliqxTXedTDDDTBPPPKAKTDGMIPKaWd4w2/9cXada88suhi2kjmix7/AJqaYbbo5eJCRFwyxHGXcwEdF8He7EkOCGsNhobk8Mm0EBDDCgRDzVk2mkEOY4Qgsc9N2U4E00lFkgWHH959JdZrrr9+tLI/+fOMGWv+dD/3M8+QBPV9dWV1UtvC6QMX/rd8ebkDCqteopZIb6peXLddYr7NPvl2HHvPHO0me898JJK7b5p4NOqZ/rV2/wBJBT9N+db/ABzwPg8MaSc0541R00Awd4TsdTbQYz+4ww0frjjgkvuDPNKJeafdfx04w20y7gvvjn9zz/jqmlrTQcMNGHK5XafOsZRTyzP2/jE/x3gvIuqzwYTov+bLeWZ7USWQyVPPPjAFPNMJEPGRcddRzsrg+/1vpAADIn81qGEc94IJiomvqgq35t/ypIVYAa8jBwzYcMFouIzQX/8AozAmW1330Vs8lToZ6r55FY7pb5ccM9lHD6gT3EG31nEXN9ocQ3P88P8ALX66XzvRnLHWxJXycOXMnRB7DrTusnpAYIi8Il/yC7JNIMHPqU8izznffaae+qgx99NNL3DzjXzjDLHLuSqidPPjrCPyyfHvLVhXHHc5DanDaC/56PzuyA8NbC7oUA3AMt19JRYPEVFvnlCKSoc88cwsJ5VR/wD9/wCMMu8v795oaXr47Ld2947ZbK/qxCiWHbpRQFFPwAPJDe+W1jzuATz/AB1/5MYiS7+EqjIcOVh5gWyS7wYJDEw5h19xBx2+91dYeikg42+CTXMsMamrPH7D3qFfuAtNfHc+UJ25f/tNt0BeiP4fL1FHofZ6PLg1oM6Xa4BHW9ZmNXTNeLxJNhNBDDDzzDzzj/22eq+eW2qCeqHX7bjLPNdw17z/AFDyD4ya8z+26uAaLnzaITgM+8XqAd60ywgrzdWCm0TUNEhNaRd73f8ANe8MMcHec/sdbfvP/wC/fG2yHnG8QWNI87b3bfz9Cx29hHz7CQU9SsKKO4nveAC+IO/PNMEKwE+2vuikEMAAJhxN5B3uayyqoBpjrrJAgKWGCiG6Gk/xK6zqpAYJdpDZYPzxUu/TD4UCLWDHzbn6+OhAlNlN9d9woxtAA8Ii+iqFphVB1dwcssgMC4qyUhAgEg4016CeKcPUtWrbuq1EZ5DnLL7NPlRBBF//ADJerzW/jhnMFtrwVdBQVzAnjmg8sqkkokugmefQQQUQf9/+X8SGvC+Egx5F6hvAqR2dJQ1lLDYTB+/wy0DArG0WSR6/2/2x1WXaGwQEMTUeddgPOEuvPjFGBBHPMdb885WgrG50rTNpFkhiDeOVxiQUkjjoE7fBMMKLcfMfVRR+c0sFla8/5rFG+Qi2rsqITQzI5d0Vb9OzncTBBBiE+GybVmYOO+lR7iheYssS0ssIZ1/zF3U+7Uwlelijt4mLFGIAbesFuv1z01weBjkc5j/u8WFHng1RZLYdVTK6V+CNCvSGpeZQn+dwi0GkcPukMt77iuQw9zu7olvfeopUrmhnUYCs/wC8P7ytZdLLY9+NMzvxmKn0gdFCT313LLIA0lCAwxTAANOgBAhDDSPTpvfZ/wD/AH0w168hy5qhjntmvNp3iDMgIMOsst6w54j8wuz+w5UYdSxIp024SXbDTUbfddbdYXcfPPMJLDOmAAEFJLKy4Rwz5030zj7qklvyusglujmnPaefQTfTMGORSeVZDTxHy/8A2FV/tM8T77fe7rLz+WUEXGQEDUTyy5YIgk6xTG0UHTCF3V3DxElm+10gSAIyJ6LADY57rLLYK1yHVg1E3kfvEK4mpYE+/EP/ABPHOC3rFNJcOFHj/P7b84kcaCCQRSWyOpAmNZxxhRR1tdvbTz2vvT7i/ey7HLeOiC2oDWNFSjDHfHJ9QeBaOS4w8EQqa5cH+nzHzBNB1+NpNVJW3voGAl/8c5v/AK7A8bWfScRywwyw40jkhs4ktph2/g/v9mLAkoles/0+6kDRop2zwe+xy9wxJ1sIgQShCRR7UPkmNBa3Dlnx73udweY6S9S5cSXYXz0+zqx/+9z99179kNgistvjOjEEEEMZMXwxAqElayZ9z94+xVPn4D+g2hE2xhu7EuGEH0Yjs0y4/a1Wf2jkrSeEGZZwScnPKGClospjghjjvvOcz/2wIDEPa5w038ghN0MrFwzGLCheGnpmdvi+RTZSpgeUAKLDLPLGBEOoGOMNNKBVZYcfecQx365z2101yogpuhvOx2Zg6Upnmuy6z+6ecv25/lBG9rmg4QC3urj508xSvWccUaMCAAAMDHDKILCINAlwzWRSfSd+w6/6kkjjsvrgwuhntvBcQgvPtx4m8z+ywrz/ACvg4GPMbbuN9oPrqdv8eutf/NIySiSSwRBzziCwww02sc+oICgzxkXYY866aa6wJ64oYrZzo5h7oIRjn2Iv9tP4prHzkohYJK6674Ofcf8AP3ga+OwsUo1U4I8EoEIF5njjBR1/LDDTL5EevfvTayyuvCKWGOLPe+6eyOWOi+wqKKLPDPt8M/8ACEesR27+5qFwu07/AP8AbigCc3q8Bkc4hYl3MKfowIjMRTHxqx95tb3/APy1j7rt/jlKGw18YdMwMsvhsKAktu8w2aTPcfHLmJPkoj294F498dQRS3QSCAc7vdErisOmCrYlt+cmMxhv9axaZb1/85y06gptn/XJutHCNEAmAMENF9voo/8AccNP5zTbX6r7Kt8fgOQ0ifbbS6YsXx5M/MvwEIiCiM8OP0c8uJWtTe/FwIJo1b5a44oCCFC6Ya7KNcQhDBSCDaqseOMM0E0zzdDDvM2hs8TM2ytMsHy4ILLzQV+Rg/8ADvNfN9NNNMMP/wD75/eaQdT28888owy5zzimNP3+4gjnjrgP3xgys/7/AGC3HwSCchhPf1lP9bbM7+sLJJLVg45TAgwgACBD33H33z3/AP8A/wD/AP7PD3P/AM4w0wQw8mvsrvPffKgEstv2qsgwgA/50ZWK/fGi5ZHH+9+Vbphw727wxjAEpPvvvqFLGoQAffff/cde/wDPPPKZpKJ5op6ob5rrpIL44paDj4AAwICxxBYotr98tsZM/wAWXBdzrn7BJ6DbnECCDZJD+mGPDT3nLzvNdZtd/NhfLPfuSeSieKCWOOyyGimCWe/WuPObjjDiCWaCMsfvaD7DDDLBwkTFrNNzqsw+L6iwSezlfjfnLeAiSKf77e+pImcr/fXLOHzzz373/nHz7vGqaweuayyym++Ou8y+6iUSuTS/195BXC82d3CVI817N0x+v9sB7h6zP3Oe/RPzV3wLpnKqn9K8mqiktXj7DPHbbD/pcaiGz5/WKNp8B8cVc86L4W6tYNVwM8Y9wagDv1h9xFWrWw1DBpjtijI+ZSYL/Jah7swyw4DNUy0DnZfj7bzvKOeWCOeWKK6C+rs41RsIIsgUw8MU1eGfnb2uoxIYIjjn1nivWj/9wOWePieCfZLnOyYhdliIINz9/wCfTQdfeYw0w0w//wD/AP8A/wDPHG/rLcYPONMH2U8tc+N1u/td+PX2xw3wDAmEYRCzzJ2Kc2OKXtxREx3U0RxtzM/6ikm971mEEGEM8MMEMMMMNMMesMMKbuoebyQggLSzzz++1H9YYZ0lG3xQHy+4EcYt2Cxa/wC9TAd+FifG64uJd4wKMUCe++FgXNNNBDHDHPLfzCu8c8084sEZBkQAMTzAAAymywQoeurK819dgMc989kvzv5wUIYDvN/lKDmpTVNm5mqaz4+ehTimsTJ/CP8AdeWdTSs4xklnPDHPDMMBGskpgIADJDHADsCNAJDpv899/VTPPtUjmpJUTDtxkPvmbF4aNonvHrLHIQwUcezdbffzz/fIYSQQ8+8y84xw4wwwwwwgw8wwQdz2w46y08T+4McMdfeRQPJ9T/2wz89NCsfiksu828wzzxzTiY188yx0yQfff0stvvLDADH7yw3zSTSTTRTfTTaRTSQYVSRCUZw/a+WbRBPVJhc/Dgby42zTQJMzKgvvuOQdQQVebXSQTRYzBj+NPFshson4WfSiqiBDCILlkvE01h70ympz++zyq47C0z65UV+iEkg9DPPsMjltnOKXchyTRdMjy8/+JVfrLmSdgu5fVLLstzwwwztCFvPPPPPKACs8v/8Avfv/APrDRxDBhBRpF997TfpiOcJBF985xEySel59RKijjPynuSIADr7zzjDBBdtR999//wD/AO//AP8A1YjnvvPffaQX07wyww//AP8AHLTzPDDDDDDD3LDSGuHfrBNN8ICAkWaxRJ4gEAw09qDVPPD/ANawQQQScYX/AP8A/wD/AP8A3/8A/wDusPP777//AP8AbTUfQYdf/wD/ALXjDDHLLDXvP/NjLeSnL7vPbP8AFwZnV24fSjnLNCNPPecbffYQQQRTTTfzY/40wwwzzzz08+w3qutuvufQRXRffaUZ88//AP8Az/zzzzHDHZAa5BL35FN89vWTqZDHaqOy0dQw8VhFddxFNN9919//AP0+w38/3618/wBNevcd7D58eEHWFnUHWUVHcPf/AN5xR/f3DBDzXiKi+hUYSO//xAAsEQACAgAEBAcAAgMBAAAAAAABEQACEBIhMQMgMEETIjJAUFFhYHEjUoFC/9oACAECAQE/AOiIY/iVF8HxfUOgcaw/w7i7jkUXMIfnljkhA5lguTi9MS3y6i5iVw6/uAlpw6Zm+wgDKEFSSpahrhbtD6RKbwDQmZfK8eL0xLe2ylPkAcUXKooRFjWreJqQuVFReR8wUsOUBlTJaWp/jGAlpw7J/olK1zPMJY+YwnyDC28tsICoS6TauPFwPRG8O2AEUUXRsEua4AWFD2+4ceFpacWqtygEmWqu8ruJZkWfYyocNdVFODuZxAr2H7DUgAqGptwqSnDbfJXIeEvqPMxDwiJlfCOmw5AYQ6y1QKVhFK1ppvLCg8vfCp1lCsz2UrZ0sMbYVKIljrH5QJsITG5aCyUNjYyx7YcX04HoiHCg1h3MA8jiMWInhj70grmOktU1KlaPuBL1LA/Ii5WoRJlRmMsEcL+o4CX3eNeJYJS9c+UvUzIDoDrDjUqtpUGxUvTIAW4xbhW+1KDy2lWLAygXE/Ist2JxB5yRqzL2oRlfdw8RcPK9YOIe8Jr2x4ZIP4oCi4b2Jbg4xRChuEgFiLTORDcmGxMeOYpR4CE1MdfrEJ6yxfKCseNtFD0jhQ6w7w6VEbDEIAprDhRMS9qilholpOHYBw5rWZhqywYbcMZXupVAsmMGprOHo5bNYk4W11wEsWcQAt5biaADtM4378gKlb1Bah4mu0PEPbSZ7Q3KjMZ+4zg8V7gdHjbYHF4PlOAMzCGzjAjMJxZwZ5XDex+c4o0OB6Ih2PIKk4BHRQ/wfibHA9LtjXa0q3OJ6jKeoQ7+9ftl7Ti7HA9LtjUqpmm9ZYsD7lfUIdzO3sX8rxdsD0hi9MBNAd5dP+D36g+LcfwXE2w7dIexfK/cqL33E2i5HziHrp8yii+WvtMuI5lgId8RUmGlhyLnokZffkqhVqVsCNQHETFFF7k8rjjj9nxNhGOmIYFHXtWZjlhJOABOBr/jBleGSHKVBsjDwFq5ldH+y1EN9Zw+ELCU/wDU4nrOImtZTKwVPEqKlV7x5rTLWuiblaCxMO8B05Hzv4fi7CPA9EQ41+sK+kiMVQH/AGX9UFv8bW0Nya6SoWph4rJnDuK1MrdEuDjVASMpalSw5fUvkrcgKeItgp4ldfLAagtGG2fUlSpq9DLhWIi0eD6Kii+F4uwiwPM48BDgFBlhgJEcFl2huTyIwVP1PDt9Tw7fU8O31PDP5Mh/J4Z/J4Z+xPDP5PDP5PDt+S1DlqJ4dp4dp4dpaq7j5HibRGCWg6Ahx8v2Z5fueWeT9jp9GOn1M1f9ZmH+omciZ7fczW+5mP3GYzyPBxxxmMx+1eBwfub7RmCGDoCH3b6g5F0lzqKBEKEda+2J5niIcH1MqD9quesNjFo8FiosAGDBVyvDNgTCFiQgIAD3m0qSSo0ZfsfvrX2iwt0RD1aVZlizDQjkAZhHSQXMQpWuYqGhAfJTfAa1X7CEKuA1OmXE+kT/AM/9wqdxKhVufyVsUK/ssWTgQjD6aypA3lgpT1CHeX0rXrX2xMHR7c3CpmFod4oakGGlhuMRpQ/sG8OucQVJ2EFWVDwyJWhFgxLcK5sUIeHYY0FSh3l6ioxFGRCMRKAXblwiYFLWBWkqUXCc1dlyU9QlgWYGIbOolSjANDh2j8q/YBoTHBZOVsK9pnp/rBrbQS5djHpKkPWOiTgFQXmEAzWliz1rbYmDo9saVztyopUGHLa4nDJ1Fay1GBChxP8AjlfWD+ziBV33MIwJ8lYJUha7pSmgHbWIZ29JTiAWL2nD4tTZ3nE41bWBekPEpqtWZbL2wpYV1UtYWlSprKg1ALnEJeDwcNjg5QA2RhPmltzhbYQFTP8Aghv+DHN5VyGzAHKCubMUuvbbAQwdHtjS6YhuWTHPFv8ActaxLJmYzMZmtGcKmqRjrUQlxnpuCwIRlyz0AUZmputYfhrbYCGDojb4t+yfsLbRTvDB0R/DbbYnpDbB8mvu8phC6KwXwFtosD0RBDzqLkUXKA4jFEcEU8KhlSgBKhwUOBJQEqjYOXqAPijtNMDBgouYbQ4rABmGtR31lfUJYeY4I4CFZdOWplK6zMaxk1LMUrXQsiWFRsZTcQ6WMv6jgyvUIcM9pb01MujRj4o6iLAwdGu0O+Ntq/1hUEnSEZv7lUDqIqv9lkb6Qk6BaQ4U+jDAocQZbeVOhwBh3gMJ1cJeDjwzBbQ3JUFyAvi1gekNocSXg54loLQ3LcFy5ckaPBwkxma9RfKHAdCu0O/StZ/wU9IQ7/w1YjoiH3Kii+WHQEODMZ6KxWIDhqhuJlJiwNSFgR5RDVKXASWweCMIwsNK/wBTw7JqZT8aekIeetQmZaoBlqoxHCgZUvVYaLGhAcyg7GcHYiW3MrUHcqXrTLXzQylgkZxQsqh0rrucKG2wKl/7eFt6D8EoT4+/ecWxrxAtkJxArH5YQ40IX7LhWIwOhgIKELessKsMziWB0UFarUwuplmaP95ahyoylntKHSwl93HCfIMHM+35DxX2ENn2jjglrMueL3Ws8TZiWsy/lhDjRAgmHK94SO2ADljs4bveZmdoRoNRLHWZzDaPFmOOE/wQS3SEsf4cJb5gfAiH4N4v4x4OPkBh9kooooBLVUFW4AzLVWvbly6AzKGoaURIPwI6awMGC5xiN5cBApYKDh7MqCvqfaKKKVq+6lqo4AOHEAZH+ytAtZkVi5cBAiUoDrmE4gowzKJn+jgQMhWAUyD6MIUrrQ/hlwWDAspA+OPSGKM9VX9RaOCPMWN5QaWZ3lBSgJcKNjLUADEEuNBhUqHfF/4/+z1UC7QnYfdVLhUA7uOWswJUqwlbBI7QZaneGOZj9xytwK2E8QoTOPqOP4w79IQ4VuRDdhALCpRhysIw2FhZd1NBXKYF21lrsKMGEoLAFQnFlQEiM4I/MnePFxx4OOCHmUGmA2hHLlKcpRlS1USMVgfQINaH+4DX6l6gJfLHfpCGcOrUsQdBUCWqjFgKOjx4Va2Os4tgbIbDABlTL5lMhZE4AFgpwuGanMxOLQ2sbAaGGCAlaZRLLvaV1rYSi1H3BQ7qFWGyIh+VPSEMoQAPwuXIN0kHMhtYiW4RqNxK8F0Npw7Dw7A/uPC3MuBuNjOEAamVrm4hKQE4oRBlb0Azd1K6WdbQjzt6TinXQ4uOVsjMyMN9WIeIY444444448HHHzPB4vpuPkcfVPM+QbQnWAqGwbgvq4OIRZw8e3ZCeNY7wnBkQWMzEHQzPb7hsTGYzGfnzi+cQ/LL2oEUQwPSEPwD5nHHg48HHHHGIxHHNIx1ng4448HyHpCHkXQccceDjjj+Ifsz0nHg4/4Zb2D9k/mDt/AV7m38BcfM+Z9Jz//EACcRAAIBAwMFAAIDAQAAAAAAAAABEQIQMSAhMBJAQVBgAyIyUWFx/9oACAEDAQE/AOGkrz8cscdBX8dTjjoyV/AzrnVTx0ZK/fLep2YhuLSKqbI8jtO96McdGSvwPVHPOhsnkm60yeda0tkicVXQ0N/4LAsjEIZ5PNkU2WOCCnKKtE8S1U2a8ivVgp3WpOR4F4HsTaspwiUJxWyqrRuqjG51In9lpT3E9yW2xN5u/A1unp8CEjLIMCIEoEhFNljhpyVYGVCwPInoZJMITkbKXd7CtTizKcXdKKXEkvQ8obgpqkxUVPdDwN/qZpKcCTmRKapGkb3qskdCmZIvBBAloi7Nze+4lpavTZcKyVYtVgWDLdp3uxJyipGyQmQxmGVCiyulF3IkQ9DQ02dJ0kIggj09FlwoqxZkMSg3IFxQJJe8odlwoeHobSs5Qvh6bLhQ8O78DgpwVC+HpsuLwOzyf9FkeBY5Y0x7Wm1OeJYHaLy4wLHw6ss8Sx8dTZZ4qcIfLPwFNvJ44aSrL+NV1w04K8u8nUtCet5KdHkac+4pIsuGkryMhkKSFabJ/sOqBsVZO4nLKqoZUU40ZHJ0tvdmEZKnEWju47em64aCvS8kSLBH7CpUjOkabaGh0MqTYtEEEM3EowOSnBNoII9dTdcND3KrOTezVoIWmSUdSJJJJOoklEoTUnUjqRKJn2KJGIfBTkqxZm5ubn7EVG5DOn/TpR0ohEEEEaYvHtFZlPDTlFWPWx2OOdEWpxw05KltzT3jI4240TLY27NRan+uam64UVYfKxCeh8cudbcCc6HeZbN/7v5PNoPKGryLLGJjweBZfMskWp4VkeHqrcNCJExNO+XbEE2TG5QqlBKu5QnN5jS9hDEhi2eirAsI2IhjJt5PI3Zoakh/2TCEQM3mYHP9GEJcyJsuFDw/+XbgcsUpFSxIqsiwPBS1dZdnkqJ2Gm0iqlxsUpohimzkWw7NyU4tFoIvURtdZY0dJ03jfRG+lqdUc6IGU8Kg8DizRG1nShJIgghEWZuyCOWlcDRD9OrMpHwrHxqvTxU4Q/Rz2caII7FZuuKnCHom89nGqfWLN1xU4Q88s6Z1vYd5uoPAm36pXXFSPN5s2Sx4FjQxTOljZEmHZs3KsGULF1bpQvKF/Lt57NXXFSPN15s2LYeCXBhCu3rQ8q0C4IYqYOnjj0SvJJOhFJVnV0ogS2GkUQ/hVoggjRTgqzwspUfAyK6suCnBV/J/HripwV5eufkqMFf8uyYmTdWWWLcTaelEr1y4qMFf8tbYmJk2bgTnSySoQ2JuXtZlHkWbOBWXkq/iLekXrFxUYK83YsaPApgpXklmRbMnQ2NyPKFbzeDpEtCWx0/6dJEc8EEd2tM2m9GCvN6jcU2wIiyYkQJEXgj3i4qMFebwRqZT8IuKjDK8/M0H5M8s93Fo9bFvx4PyZ7dORuBiemSdhN+uXFRg/JmzE3ZnUTjQ3AnNm9E7jbJlCG48FLZVbzZnVZ5KfXrioK83wybYHlDl2TsrPR5MMQt3NkoGND3vFoIIfbbm5v2yXFQfkzaCL7kQbtybkG/wiN9MaKJgrzwsT0yNwJzpWTyQxP2y4qMFeSpiQrzveqSlOCRsnYkrcMdUicKGTaBT/Q8oqHULbspvNp7Zk6osh8NGD8mRoW1JMIVUjr/aBr9leopZU2mNwinBDH/qJ2Kcb6WpIlCWx09jBBBBFoII7COVcVB+TLskyDp2Og6FeCCJIRHwSvCII00YK8/FwQRZcVOCvPYxZEEHSQRr2tCtsbGxsbGxsTSbGxsfqbGxsbEIhGxCIRsbXhGxCNiEQiFaEbGxsSiSSSbrgi1OCrJBBDOlnQzoZ0ip/wBIX9kI2NiVAmiV/R1Im8kkk+onsFbY2JVpJRJ1HWx1Mkkkkn4iLJ7/ADXn5ry/mf/EAD8QAAECBQEECAUDAwQBBQEBAAEAAgMREhNRUgQhMWEQICIjMkBBYhQwM1NxQlBgBTSBJENwcpFEY4KhsRXw/9oACAEBAAE/Atk/t2eTP1Av939gmFMKYyqhlVNyq25Vbcq41XGq61Xm4KujBV3kVdOkq47Qrj9CqfpVUTSpxcLvuS77kpRcqUTKpialQ/UrbtStnUrfMq1zVsK01Wmq23CttwqG6QqG4VLcKQUhjqPgw38WpkKG3g3+IHio/wDcH8qF0bJ/bs8mfqBf7vyZjKqblVNyrjcq4zKusyrrVdarwV32lXDpVx+hVv0qqJpU4uF3q7xSiZVETUqImtW3a1aOoqzzKtBWmq01Wmq23CobhUtwqRhUhSCkFL+YOW0/XUA9Gy/28P8AHyNymMqtuVW3KusyrzMq81Xgr4wVdOlXHaUYkSsdlVxLvBd6u9UomVTE1Kh2pWjqVvmrIyVaarLVaZhW2YVtuFQ3CpGFIKQ/4KdwW1/WWz8B0bM59hm5VRdKnGwu+5KUbKoialbdqVs6la5qyFZarTMK0zCobhUjCkMKXS76gR+r/wADTGVUMqoZVQyq25VxquNVwK5yKuclWdKrOlVu0qt2lVu0qt2lVnSqzpVw6VcOlV8k5+7gtpndWzcB0bH/AGzPJv8AG1H6o/mkwqm5VbcqtuVcaroV3kVc9pVbtKqfpU4mF3nJd5lUv1Kh2pUc1QMq2FbCttVtqoCoGFSMKQUvnO4LbRJ4WzeEdGxf27fJxPEE76rf47uUxlVNyq25VxmVdZlXWq61XRgq77Srp0q47Sq36VVE0qcXC7xd4pRMql+pUO1K2dRVvmrQVtqttwqG4VIwqQpKXyJuLiqXalb37/mcEDP5R4LbeLVsvhHRsP8Abt8m/wAQTj3jf4FNTCqGVU3KqblVtyrjVcarrVdargwrgwVc5FV+1VnSq3aVU/SpxMKcRd6pRcqT9SpfqVB1K3zKtq0FbCtNVtuFbbhUNwqG4VIwpKXl9oeWN3cSmwy316rfE7pdFY0yJ+S6q6B0RfCm8OiNvACaJAK5OLRjrHgttG5q2XwDo2H+3Hk4nEJ31m/s81MZVQyqm5VxmVcZlXG5V5ivNV5uCrwwVd9pV06CrjtCrfpVUXSpxcLveS7xSiZVMXUqImtUP1K2dRVv3FWuatDJVoK01Wmq23CobhUNwqBhUjCkFJS/cNq/R+esPGemJ/eBBRX0MmobqmAqI9/6U6JtLd8tyhuLmg9I+oeiJ6dJ8a4KAJlz8qNMyAULcJdR3BbZ4AtlPZ6Ng+h/nycX0UQdpp+bMKoZVTcqtuVcZlXWZV1iutV4YKu8irvtKunSrjtCriaFVE0qcbAU4y75Si5VMbUqYupW36lbdqKte4qzzKsjJVpqtNVpqttwrbcKhuFS3CpbhSCl+4ONLSUx1TQfllwCMR+hMi1enztrPd/5TT2R1f1npc3/AFU0CtrIEIqBvhNUgo5AZMqBFbEbu6WeN3Q7xt6XZT63jAUISaFJM9eoeC2v6S2Tw9H9PPdH8/NmFU3KrblXGZV1ivNUaKNyiRp07irp0q47Sq36FVE0qcXC75Si5VMXUqImpUO1K37lZ9ysNyVYYrTFaZhUNwqG4VIwpBS8vEqoNPFQ31sB+RFjMhjtIEET8hcYXU1b/ks2l19zXeGe7qvjUxmslx+VEiNZKfr0RiLbuahiTGj5e6fRLvT8uI+hs1XFlOlMihy2kucw9hbPGe5gAbwQn1P9zpcyZmqIg4FRID3eN6YJNl0bb9By2Ad0fz0t8Tug/UHRPof4Sm+EJ59BxTRIIkAb0Oh57K2odwtj4dGwPlDdu9VeGFe9pV12gq5F0KqLpXfKUbKpi5VETUrbtSs+5WeZVlqssVpmFaZhUNwqW4UUCXBRODfOV95Ty+ZFjUOa2Uyeq3uo5Z6O4fI2uFXJbG6cKR9PnxDKG4p2zyh3B4uKgRLkMH5DgHMi5aVCNUNp5dTbBKh6HAdBjww+ie/r7UGmH+FBjttjfvQaX73KH6jpjXKg1p9FBc+Za7067m4VZHEJ4mwyTeAUaJbZNQ3VMByokcMdJCJEBFQ3FRYtEpbyVDikkh3HqRB2UE9tERpCImFsu4vbz6p+p1YvhTOHRtx7j/K2MSgjohxKycKYD1UMqoXOKqblVNMTiq25T3tknGbdxTezzQeMp72uiAKtuVU3KivbJbWXWOC2Lo/p3B6l5KL4U/wBDh1IjwxsymuDhMeW/wB3/HzAJ7S44HV2llTJji3eobq2g9eLwBwVB7O0RRnf8uJEDBz9Av8AU8d34Q39DhNjhyUB1UP/AOlsnZix4eD0RYhbJrfEVCug9ozT30NJKBmAiQOJ6D2I78PC2X6I6Hx2NMkFtNNp01CjQ7be16IRGH1T+3GIHGrrmCw8VszQyM9p/wAdD+zEByrz3vcGDcEyL6HcVF/S5Q3B0d0sfIIBR7H4Kgu4tK29+5rB6qH4G/hbT/cQk9s2yWzte6OXP/SNyiiT2v6j/AVDeC3ii+va5T3NVbcqoN2uc9yusV1qujCue0oRCXu7KrdpVT9KqiaVOJhOEQhARQpPyosAxBvcmwi0SqUZshKe8pkANbxVpqttVtmFQ3ChsG8yVIwiwH0VDcKkYTqWtnJQ4Q4kKhuFQFFYJhbSJwCtj9ej+m8Ynk4nhT/phN4Dqbf9IflbL9CH+OiO4thOcFscQvh78/La9juDuhsRjjIHrf7/APjqxItLg2UygZjrQN74v562zmTokPB60Vjn7p7l8Pu3OKhRSNpFf46CQFMH5EPvIzn+g3Dq/Sje1y2f+7jnoZ2o0R2Nw6IonDf+FBM4bfwtvBttOCob62AqPDrZzC2I9z/ko8D+EWg7O7K2R04TR6qNDbQ4nC2WE0AghWoelGGIUSsDiq2ZUOJWXS4DrbT2Hsic0DMKI2ppCgw2wmSTgwqTxuDgobXQS4zBmjtnt3qGd9b3b8K61XWq6MK7yKcZ7wCjEij9CiRYrxSIRTmvPAb0yE+qpwmUBHBMlbiF1RlNd4gx49U6G536kIbtSt81b5lWwnbK30MlD2ZjOZVDcK2zCpGFLocZNJUNzQ3eVdh5V5qEUn9J6znBomVDBc+t3+Oq7ggJDqltTt/AdSL4VE3wD+FsvE9H9O+o78eTf4Sj9JM8I6m3+Fg5qEJQ2fjo2mLQzhxWytAhjmi5reJQiMdwcPkx4Fg3Ybv8Jj37V7Wjimsa0bgopeeyzioD4t10N59Oh7nTpZxRbtbd4dNQIxixt430qPFtQ6k01NByFEiNhyn6omQUITm7ojl5NDDJbK6JdiMcZy6kDxxv+3W4baebPkRoQ+LbPg5OL4O70P8A9L4druJmokIwHNcwmSHXgeEjn0RIgZLJ4KMHMexz38SgZqK0OYZrYXip8+JUwtliAvjDmphPisbKZ4qG8Q3FhP4Ud7Huhsn670HtgvlPslPjwwwmr0UE2QD6O4o7VCAyofbiF7+HoE+XFnFF0d+4jci4zEmlVu0olx/SrG/woCIBuku9ypP1Kl2pUHUnCni5Pbdc0CcsoQuZVsc1bCttVtuFbbhW26QqG4UgpeZtswrbcKQ67m1O38B5B/hTvouWzeI9H9P+v/jyb/CV/tKF4B1NuG5n5TfCPx0bbKx/lbOJQWfhGBXGdcO70R2RgILZqOX9lrTKahuiw44huMwesTIKV7tv8I9Fs8RpjGQlPoBiXYklCgUOL3Gbj0Qd4J59FNvbf+wW1PMQ0N4DiUzwt/C2w/S/7Jwm134UAzhjodO8ZYUKFSXOPE9Ru7aHjI60M17XEdgSUxlVNyqm5VbMq4zKvwpyqV5ijObFi7vQK617N4TY9rsuBl6LaY9wNY0eqD3aCqn6VVE0qcXC71d7kKUXKcyM11TSmvPq5Rqpse0zIXw8SO6qJuRgRofgf/hGHHiCUyF8GykCZ3L4WfF5kjsjf0kgqxF4Juyic3b0YMM8WoQYY/SrbD+lCBDBnSqRhW2aQpfMkP330R8D1A8amtg+v/jybuCA7sqF4OptLK2j8ocB0bU6qIyGMr0Tm1BQnHe13EKO6JuIbwUGDvuOMyuHVjNL4bgDvVO1iHRuktlgFhm5TGVF7D7jf8hfHQea+MYeAKduNcN3HiF8TE0qIDGe2bpSQshlI4IRYzOyGzHoiC8GsGfomRt3hKN1jyYTdx9EIsf7SivisiMiFvIqt8pyCMaK6KA1d9yUo2pRoMYyeHbwmVOHjVt2sq17irXMqLCdLsqHs7WN5q01Wm4VtuFbbhUtwnwGP38CrcThMJkJrAgAE5jXCRCZBYzgPkyGFIY/hB8h6J3BwUH6imti/uG+TJEuKa8UO3qFEZTxVxmVcZlXWIvYRJfExYXjbMJ23k+Fq2cPu1uBKfHczfQZL49mkp21VxWUN3qcTSre1NPYO5HZ9oee3EQZF4VK27WrR1lWvcVaGVaarLVaarbcKzC0BW2aQqG4VIwpDCl1iA4SK+FbqMsJkNrOA6lDcfyI+RduJChfVPRspAjsRezKuw9SvQ8q8xXmq8MK97SrjtBVcTQqo2ld9hd8qY2pURdatP1q0dZVn3FWW5KMFskyE2lygQ2S4KhuFQ3CpCkFIH0VqGODB0uhQ3cWBNgw2eFo/wCAHeRcRU6ahnvuiF9Vn5VpmFaZhUNwqW4UgpfOZ+pQOB+U51ImU3aIruELcmxnTk9kv5lNTGVU3KrblXGZV1mVdaro5q57SrntKrdpVTtKm/C7a7zku8ypRMqUTUqX6lS/UqXalQ7UqHalQ7UqDqVDtSodqVDtSpdqRYbp3polH/z0M3Pb+V6eTb4nqD+rrVtqpnvR3I7QB+kprg4THTtH6Pz+6n9lmMqoZVTcqtuVcZlXGq6xXW81dGCrntKue0q47Qq36FVE0qcTC73ku8XeZUompSfqVL9SoOoq1zKtDmrYVpqttVtmFQ3CpGFLy5+oj/cH89LPA3ybfqFQvE7rNb/rHH2oiakJKDuMQc+naODP+38BmFMZVTcqtuVcZlXGZVxmVdarreaujBV32lVu0qt+lVP0qqLhd7yXe5UoupUxNapdqVDtaoOoq1zKtDJVoK01W24VtuFQ3CpGFSMKkYUlL9tO6Ion9yVPogmcFn48mPqJn1HdaFvixD0R49qW7itleHB2Senavpj8/tEwpjKqbkKtmpXGaldZlXGZV1qut5q6MFXPaVcOgqt+hVxNCqi6VOLyXe8l32QpRdSpialS/WqDqKt+4q3zKtDJVpqtNVpmFbbhUNwqW4VIwpD+Dxdzgo39x07L9Bn4R8kZ3Ah9brQPC85cmRZmk+JOhsfKoKO0M7bRwTTMA9G1fRKZ4W/joiPENtRTXBzQRw+XMKoZVbcq4zUFcZqV2HlXWZV5ivN5q6MFXfaVcdoKrfoVcXQqo2kKcfAXf8lKNkKmNqVMXWqImtW3/cKtHWVa9xVkZKstVlitMwrbMK23CobhUjCkFL+PxuIW0fXCn0bGe4aj5J3jC/3encqhlRntEN2/0UAtEJu9Rmw3/qk7KbtVO5//AJUfahEFLQU2KwNA5K83mo8UWnbioMY2mdk8FcfoW03HwSKFAuthNFKnGwF3/Jd9kKUbUqIutW4v3FbdrKtHWVZ9xVhuSrLVZh4VlmFaZhW2YVDcBUtwpBS/nEbiFtP1R07Ae56JhVDKqblXGalcZlXmZV9ivt5q9yKu+0q67Qq4uhVxtKnHwF33JSjZCoi6k9j6x2kYRujtq17irIyVZbzVliiwGlhkE2GykbvRUMwqGaQqG4CkMdDgC0jktl+iP+DtpMi1bV42qfPo2FtTXb1aGSrIyVZYrTMK0zCtswqG4CkMfLicQn+NvyorHPbJrpL4N/rHKOwH0irZ4ToTSCfX90P8EmFMZVTcqpuVW3KuMyrjcq41XGq6FdGCrnIq5yVz2q4dKrOlVnSqzpVbtKrdpVbtKrdpUYxIsZrZSC2uHS9vT/Tv1jycX0UTizzJ/icwqm5VTcqtmVcZlXG5V1qutV4YKve0q57Cq3aVW/QqomlVRcKcXAU4nJd5yXeZUompUv1Kl2pUHUrfMq0MlWmq21W24VDcKhuFS3CkMKQ+e/6gW2je3p/p31HfjycXgn8GofxOYU25VTcqtmVcZlXGZV1ivNV4YKu+0qt2hVv0KqJpU4uAu95LvchSi6lTE1Kl+tUO1lWzqKt8yrQ5q21W2q23CttwqG4VDcKkYUgpeZHz4/oVtm+lSPRsB7//AB5OJ4U/6bU3gP3rcpjKqbkKpuVWzKuMyrrMq8xXm81dGCr3tKunQVW/Qq4mhTi6VONyXe8l3uQpRdSpia1S/WqHayrfuKtcyrTeatNVtmFbbhUNwqG4VIwpD+Ax1tfhb07EZbQ3ycTwlO+kmeAfsW5TGVU3KrZlXGZV2HlXoeVeYrwwVd9pV32lXHaCrkTQqouhVRtIU43Jd/yUo+oKmNrVEX7itv8AuK27WVa9xVoZKstVlitMwrbMK2zCobhUjCl+2H9tjeBbR9MdOzfXh/nybuC/21D8I+VMZVTcqtuVcZlXWZV5mVeYrzcFXhgq97Srp0FXXaFXE0KqLpU4uAu+5LvuSlG1BUxtaoia1bfrKtHWVY9xVhuSrDFZZhWmYVtmFQ3CobhSGFL+YxB2VG+n0w9z2/nrzGVU3UFWzUrkPUrrNSusyr7FfbzV8YKvewq677ZVyJ9tF8WXgQdGtnsqCY1C77kpRtQVEXWqImtW3a1aOsqz7irIyVZbzVpqtMwrTMKhuFS3CpGFIf8ABT/CVF8B6gEcsb2hwVEbWrcTWrR1lWfcVYGSrDOasQ8KyzCtM0qhmkKluFIKXVPBM4OCg+Hz+0QosWIZHgtjil7C13FvyCrkWJ9MSGpRGbSwVCLNVvL4DvQ8f3o/tcwpjKmMqoZVQyqm5VbcqtuVW3KrblRHtpO9RXlzNy39MLfBZ+PJs4vUH1679pgtPiR2yHhM2qsyoPX2nabJaJIGYB+czxxPytm/uo/yIjamEKHKmWEd4KeKWQ/z0OisbxKa4OEx8moEkT4fvsxlVDIVTcqtuVW3KuNyrjVdaroV0YKue0q4dBVbtKqfpU4mFOLgLveS7zkpRMql+pUv1Kg6lQdSo5q3zKtjJVsK21W2q21UNwqG4VDcKhuFQ3CobhUjCobhFjZcE8eIKXTspnszPx5NvjcoXid0uc1vEo7SP0tJVcd3BklFZGLfGoexwqRPehChD9A+R/UG9hpWyGcBnRMZ6IsVkMTcVCjMiibehzg1pJUN4e0OHUfHhMMi7obujRVsu+NHPyXsnvHFCLnitojgNHZPFHauyaYblDrMOVqc8rZ4Loc5nj6dEWM2GwuTI207nOb2SgnRobXUl2/qQoVL4jsn9kmMqpuQqm5CrZlXGZV1iutV0YKu+0q77CrjtCrfoVUTSpxMBTi4C73ku9yFKJqVMTWqHa1bOsq37irQyVaarTVaarbMK23CobhUtwpDCl5A+QPAp36lLp2I/wCmaj5IHvEz6jukwmk70ABw6HeEqGZsHWdHhteGnp2wTgrYT3RGCoj6GEqNC7ut7+0oVVtlXGSiMFypwmJKG+mO+hnH0RhxTHZWeclEE4bxyWzECAOSlE2o8aWD/wC1AmG0u4hRnEN3cTuUeAwMA/USpS3LhGi/hbJ4Xuy7rngmRW8Hbj0RW/rHEKNJ0CpcR/hQj2ZHiOmODecPSaeBbd+FD8Dfwttb30hxcmiQA5fPmMqoZCrbqCrZqCuMyrrMq8xXmc1dGCrvsKunQVcdoVcTQqoulVRsBd9yXe5ClE1KUTWqX61QdZVv3FWhkq01WmK0zCtswqG4VDcKQUv2k+Qd4ShvmqOn+nnuP8o+SP1Qh9brt3Pc3pI3FbPOnflRotDd3E8ENnAhGe92VDdUwHoj3jDeJLZL/apktoh7QW73DimbO0SnvPQSAFAEy9+SiO/aeSd4T+F4oTITfU701oa0AcAnza+v/wAp0WC8SJUnXQ8TLW5TXNcJgraX972eLhJMbQ0D5DmMfucFafD+m/8AwV8VE8JhJgFikuE5IbW2G0NcDMK9M1jdlDaYJHiR2qDLxTUYi0HfqL0doY/sifNO2pjBwKlFe8xnNPJNjlwmGFXH/bVcTQqouhVRsBTjcl32Qu91KUXWqYmtUP1lWjrKtcyrLeatNVpqttwrbMKhuFQMKkKQUv4g/wAJUP16n9O8D/yj5J/jav8AeHXiiRa/qMIFfJQhdiGIeA4dEIgPeyamMp8VjWkkrY3tAfv9U9zHNIqTdqhjc70R2uH6TKrueLcMK6wbgnRGnKvNwVD7DnGkq6dBVx2hVH7aqiaEYBJ8Mk6A6W4AHK/1o3dkqUfUFTF1qiJrVt+tWjrKte4q0MlWWq01WYeFaZhWoekKhuFbh6QhDYODQv6j9Nm79ShMj2Whsm5KbszJzeainB7PDvGFsz51Nlw6YNZrLs7v5GeCb4it/T/TvA/8o/JmMqpuVW3UFcZlXWaldh5V5ivMV9uCnxZuHZKdFNxvYKuO0FXH6FXF0KuLpQ2mf6mqt+pqjRuyRW1QbzmDeqImpW360/Z41yVXZKbs7WiUyrIyU/ZGneDvVqNwoTNkHF+9HZ2VhwCtswrcPSFS3CkMKQx5r+ofRb/28x6/xI8EPE5VdOwF/bkjewF3/JSjZCoja1RE1q0/7hVn3lWBqKst5qyxWWYVmHhW2aVbZpVDcBUtwpdETconFvUlNHYoB9CjsELU5M2GE0zJJ8lW3UFdh6wr8LWviYWV8TD5o7SzDl8T/wC25fEO+05X3/ZKuxfsq7H+0rsf7SuR/tKvaPtqvaPtqvaPthV7R9sK5H+2rkf7auRvtK7G+0rkX7SuxftLaHRn0d0eKvRPtFXn/aKvO+0Ved9sq877RV532inRY36YSB22qchJCchP+JH554IxGguV4dP9N4vR8lF4KJwavTqVDKqblVNyFU3KqGVU3IVbNQV2HqV6HqV+FlfEQsr4mHzXxLdLl8RiG5Xn/aKr2j7YX+pOkK1GP+6vhz6xXL4ZmSvhoWFYhaVah6AqGaQpDA/kUxlTGVU3KrblVtyrjcq6xXWq63mrnIq57Si86Sq3aVW/Sqn6VN+lTiYCnE5LvOS7zku8yu3lSflSfqVL9SpdqVDtSMKY8ZTYQYXhUI9H9O8bkfJROCeew1Dh1CxruIVmHhWYeFYhYViFhWYeFZh6Vbh6QqGaQqG6QqW4CkP4nMZVQyq25VbNSuMyrjMq6xXWq63BV32lXPaVWdKrdoVTtKqfpVUTSpxMBd5yXeclKJlSialS/WqXalQdRVv3FWhkq2OatNVpitswqG4VDcKluFSFIKXUKPkD4ndT+n/VP4R8lE8Kd9IJvhH8JmFUMqpuQrjNSuMyrrMq6xXmc1ebgq77Srp0FXHaCq36FXE0KqNpCnGwF3vJd7qClE1Kl+tUu1lUHUVb9xVoZKtN5q01W2YVtuFQ3CpbhUjCkPJxGOI3FQolW48fPHc53U2H6yPkn+Eo/RUPwD9umFU3IVbdQVbNQVyHqV2HlXoeVfhr4hnNX24Kve0q6dBV132yrj/tquLoVUXSFOLgLveS73IUompUxNaof9wq2dZVr3lWhkq03mrbVaZhWmYVtmFbbgKgYVIwpKX7ZGbS4PH+UDMT876nqbF9cI+SdwQ+kVC8A8nNTGVMZVTcqtmVcZlXWZV6HlXmJ21wW8ZobQ08AVe9pV4/bKuv+2VcifbVcXQqo2gKcbSF33JSjagpRtapia1bf9wq077hVr3lWRkqy3JVhisQ8KzD0q0zSrbNIVDNIVLcBSGPPuuPeW1UgL4f3uTYLWmcz50kdMxnoeyr1VhuSqaIjBM7+giYkoJpJYfOv8akh0bH9dqPzZqYyqm5VxuoK4zUnxocuKZGZbcoUdlPqr7eavNwVe9pV06CrrtBVx+hVv0KqLpCnGwF33JSjalRG1qiJ9xWn/cKtHWVZ9xVgairDclWGKyxWmYVtmFbZhW24VDcKluFtW0NhClviUHZmgVP3uKl+7n6v+OmI+hhdhNNTQc/Je+kt59eF44v56PiBety6Gxo73EtHYCa6oT60bxwvz0PbVuToTWiYTDNoPTG8cI9MbsxWOz51/1FLp2YkRmyRiRPtquLoU42kKcbAXf8l32QqY2oKiNrVuJ9xWnayrR1lWPcVYGSrDOasQ1Zh4VqHpVtmlGGzSExrZO3KCBLh5qPFtQy7/wtn2W53kT1/YQ5pJAPDzEXcWHpi/SemeELbi5sDcf1IHsNJwrzj4YRKEWIHtD2yn1doG5n/bod4HfhQPpDqQ9z4o59Ab/rnnAUadp0lCEobRyUDwn89aPxhfnpdFa40f8AlCUt3TtPhaefTtXgH/ZDzj/qrd07L9dnlGzm5QfXzW1i5EhQkN27oibXFbGMvCCgQ4Aj1+Rtk/h3LZzODDJx5Tgtng0VuPFx+W1/ePbjp20uENpB/UornCA4jjSoDi6CwnjL5G0fRP5Q3gdBEwQobwBI7pLayHwqRlDh0bT44H/bq7T9L/PQfC78KB9MdRzTXU1VRTwbJQmkbRFmd/RENLD/APSY2loHUYSXP5Ho2nwt/wC3TQ0+iItmY4IGfRtH0Sm72jo2jeYbefzZhTGVU3KqblVtyq25VxqutV1qujBV0YKu+0q57Srh0Kt2hVP0o1mIZq307P8AWZ+fKNPacoXF3zIceL8TIncTL50Dtxoj8bh0wWBzIk/UrZTJrmH9J+Rtf9u9bJ/bs+Q57WcUyKx/BRIjYbC4qDEuMDpS6of3jmYRcBxPybT5zuFMf4mu/SoEa8HGmQn0ufT6EquL8QSIfEJtz1A6IjK4ZCinaHwiyj8rZjOCzlu+RG+i/wDCg/SZ+OktaeIW0boDk3gOjaPHA/79WJ4ChwCd4XfhQPpN6LguUevU4R55CmMp7nXOEwEdoeP0L4l+hQYz3E1yVxmVAiM7Zq4uVxmVGe0w02MwgK63mr9LpEGSMUFp3FbPGJb4TxVbtBUd7rL+woMSIYbewqomlNdFiRS+W4cF33Jd7yXe5ClF1KmJrVL9aoOsq37irfMq0MlWmq01W2oQ24VDcKhuFSMKkYUgpfJieNVu6YH1mfnyZTfGVC8bvmO3Pnh/SHNJIB4IkATKbEjRnTbuZPoftcnGTJgeqhxBEaHDqx3UwnnktlbKC3n0wdzoreaHZ2wjUOh21wQZdEWKITKimR48V5cwdgJjg4TQ2thi0S/ytpE4D/wtiPcfgr4uFzV6PFJtbmj1Wy7QYoIdxHVkFHaLZPqE9ztriNaPCBvQAAAHRMdL+xGD/QhbU+oMAH6uPyo1yK6JRwytmkIQGOo/i09QuDRMmSDg182+Fx6tTcqpuoKtmoKNEZaf2vRQYjLTO16K9Dyr0NXmc0+I1zCJHeocXcBSVd9hUQvcYZDOBVb9CgRoz3RDLdNVRNKqi4CN0j0TRHAlMIiMQd4UJkUNkXKT9ahQ3RIr4tR47lb95Vr3FWhkqyxWmq0zCtMwrTNKts0qNS2E7coUJrWNElSMKQwgxo4dDmhw3o7L7zLC+HEtziFYi+kYp2zRnbjGKYyhoGFGfPu28TxTGBrQPOu3PXZ6YP1Wfnyn+6mfVd1DwTYLoe9riU14ci9o9U25GJdXIeiD4jIoE6gUSAJlXtpfvhw+ymPMSLI8SVtj3MYJH1TfCFso7+P+VtjjS1g/UUxtLQ3CjkiE+Spls3/xWxjuf89XbT3QGSgJADpidiKH+h3FRP7qCtoJEIy9dyiwGCBLChfTb+Ftu+A5bG2UBqiPtGIMjcoMACBL1O9XG2i1x38EIb6xDB3OUYMh7M8DcJLZpDZmqDBc2cVp/wAJkRrk14dOXp08N5T4nxRts8P6imsbsz/a5VNyFMLanicJs/1KpuoKtmoK4zUtrjwrZbOZUF1YD4sT8BX4eV8RD5q+30BTNpJnUwhXhpKu+wq677ZVx/20HRPthFryZ0gJojDC77ku+yFKNqCpi61RE+4ondsLi8qBBiR+3EcZeii7POHucdybCm1u8qy3mrLVZZhbVCbbEtSEJmFbZhPgtcxzZJrI0NobQ0r/AFPo1oVG1H/cATYcYOE4kx1Y7qYZydwUGHbhhvXjVuNtv+SmtDQAPlRWl7mYHy3XzuEhzUOEGcz6nzz/AB9B6IX1Gfnyn+6EPqnrPa+NEcWmUk2Gx0LcPRQIbKJes01jW8AtoBMIpsqBLhJP7O0iKB2Z71tUojA1u8zTfiKQJAKAww4zwTx3qP8AWgYn0OE2kK6SLI48JpjaWgYV1tyjpmMrbSKGb/1KtuoKtmpfEQZyrUTadnp4zUKIWxQ8gy9E7adncJElPjNcwtBcVCixYbZUEqJEixWU2iJqE4tY1tB3BRBcp7vgq4n21HgRojphskG7XDl2A5Oh7VHIrAAwvh4nCe5NbFa0AEKJsznmdSh7O+GN0RURPuKh2sowKhJzimbKxnAlO2djhvmhskIZXw8NfCQ66irMPCtMwo7hCZuaKjwUDZJCcTeStmApLZeF0lIKQ6JfN2sTtD0q6YXgHUi9uKxuN5+YQDL99iePqQ/G38+SmMqpuQjEh1jerkO74ldh6leh6leh5V9nNHaGS9Vs8doubitnjGg9k8U8vqqYwzQ2iJ6wir0R24QUYO1fgYRg7U5tJIkoUKLDwv8AUZaokPaKg8ETCdCixWCblY2j76OyPd4oxK+CbrK+EzFcm7JDbwJVhuSrDOassUfZmvhmQ3rZrb4YEu0OKcITRN0gmvgxo1IZuyhDhjgwKQRhwz+kINaOAHl9ohlzWkcWqFHY/k7Cgnv48uHkXsD2yV8M3RNyfGuCiFvJ9UBIAdSkTJz/AAmJ4+o3iF8QJeEq/wCwq6/7ZVyJ9tVxftqqNpU42Au/5KUbIUoupURNatxPuK2/7isn7hVn3lWRkqwzmrLFZh4ToUOoblbZeHZVDNIVDdIUhhSHQ7ZmF1Q3ZkgJCQ8nE2YOdU11JTdhbxe8uTWMZua2XnImzQ4m/geShQmQhJvkiAeIQAHAfw5/j6jfEEOHk38Qn/Ub/wALTGVMZVTcqtuVEiAvEl2+lviCHDycT0UTxN/ip/ZJjKmMqpuQqm5VbcqtmVcZlXGq61XW81dGCrvtKue0qs6FW/Qqn6VVE0qcXAXe8l3uQu91KUTUqX61S7WqDqKt+4q3zKtt5q21W2qhuFQ3CpGFEaKx0DobxCHDycVReLP3A/tExlTbkKpuVW3KrblXGZVxmVcarrFeZzV1uCro0lXPaVcOgq4dBVx2gqt/21W/QqomhVRdKnGwF33Jd9yXe5ClE1KUTWqH61Q7WVbOoqjmVb5lWwrbVaarTMK2zCobhUNwqRhUjCkFLzMTxDoHQ3xBDh5OIdyi/p/eJjKmMqpuoKtmoK4zUrjNSvQ8q6zKvMV5vNXhgq97HK6dBVx2gqt/21XE0KqLoVUXSFOPhq77ku9yF3uoKUXWpRNapia1RE+4qH/cKtnWVa9xVoZKst5q01WmK2zCttwqG4VDcKluFSMKSl+9RfEOo3iEOA8nG4KL4WocB5uYyqm5CrbqCrZqCuM1K9D1K6zKvMV5nNXm4Ku+0q77Crh0K4/Qq4mhVRNKnFwF33Jd7kKUbUFKLrVMTWrb/uFWnfcKte8qwNTlZbzVpqtMVpmFbZhW2YVDcBUNwqW4Ugpfxp/i3rd0t4hDgPJxfCnkWwgRIb1U3KrbkKtmVcZlXWZV5mVeYrzOavtwVdOgq677ZVx/21XF0KqNoVUfSFOPyXf8lKNqClF1KmLrVETWqHayrR1lWvcVZGSrLVZYrTMK0zCtswqGYVDcBUtwpDCl53gn7ZAb6z/ChbRDi8J/xcmqIpDpHEK/DkN6+Ihq+zmr4wVf9jleP2yrr/tlVxPtquLoVUfQFOPgLv8Aku/yFKPrCoi/cVuJ9xWn/cKsn7hVn3OUSAJcSnwWUDimwWUhWWYVpmFbZpVDcKluFSMKQUv2uY6IkSh8Mejvlx4V2lp4eqbBhN4MCkMJ7gxpcUI7PXd+f4q36h6jeIQa2Q3KkYUvIxPCU76QTfCPnncgQ4TB8rU+/L06Jicp9JiwxxeE1zXeEz6kKLcB3Sl1I4lbfg9G1g2Zj9JmgZgHquiwm8XhNe1+9pn1P1npiw64ZCfFhnZ3V8VsDohc6ZNIH8UiOFwK63pHEL08m/wlH6KZ4R8xzmt4kBNex3hdPo2gThOC2E9z/n5UeM34dxBWzuqgsPLqQmvBfN09/Wi7hVhAggELaOztUEp4eRJpkvg2nxvc5DZoA/QtmbS+PLhV1B2docNQ6Gva7gZ9EffCcmGbGnkiKmkLZz3csGXUi7O57ybhlhM2SC0cJ/lAAcB1I0B73TbEpnxTdihepcUatmI3zZ/+IKJCdGixn6TwUIMoFA3fwGYUxlVNyq25VbMq4zKusV1vNXRgq57Srh0FVv0KqJpU4uAu95LvchSi6lS/WqHayqKY3HqDiF6DybuCP0kzwjrRIlLmDJ6r3UsJTdnbFAe8kzTNntRgWncehwm0hbD9N3/bqFwHEjrfCwZzktn7JiQ9J+XTFheHe3C2guigShmY9U0zAPTA8cf/AL9DnUjgr+0O8MD/AMqKzaSWuJA/C+Eb+pznJjGsEmiXQ4Ta4cls5nCb0Qt0aOOfUiCOT2CArW0njH/8JkKni8nrbWe5I9SdyZuaPwn91EuS7J8Shd3FLJ7nb2+dmFMZVTchVs1BXGalcZqVxmVdZlXWZV1ivN5q63BV0YKue0q4dKrdoVT9CqfpVUTSpxMBTi4C73ku95LvshSjagpRdQVMXWqYmtUP1qh+tUO1lW/eVb9xVsZKtjmrbVbarbMKhuFQ3CpbhBowpD5sUScCqh0jiEPCPJu4L/aUPwDrR/qwfz1SJhQ3WXUO4eh6Yu0tY8tpK2OKyTwSB2lFdejWg+QktmmyK6HXUEeCgz2mMa8KR2d40HrOk2O06t3UJDRMlAgiY6/FQdzS3B6Ye6PGH4PUcJtKYZt6kHdW3DugD/Uv5t60xlVNyFUzUFW3KfHp5r46EP0uTIl6JW/cBwCusRiMIkUbrYjZAloKujBV32lXfaVcOgq4/wC2q36FVE0KqJpCqi6Qqo2ApxsBTjcl33Jd9yXfZClG1BSi61TE1ql+tUu1Kg6irfuKt8yrfMq0OatNVpqtNVpuFbbhW24VDdIVDcBUNwFSMKQUv2+Ody7XS3xBeg8m7gv9oqD4B1om/aoY5dV8QsO8dlEMiNyE1zoLg13hPA46CAeIWzwIT4kaY4FP2VjIzeNJUOFDh+EJ25pPJbA5oe+a2qI14ts3ummiTQOXUO0QWmReo+0QHQ+y/eFfgkTuNTXscOy4FTGVEbDeJOKbbaAAQrjNQVxmpXWZV1mVdYrreaujBQiERD2DIq6dBVx2hdu7XR6SVcXQqoukKcbAU43JC+1x3jeu+1BSi6lTE1q26ZNatu1lWd86irXuKtDJVkZKtMVpisswrTMK2zCobhUtwqRhSCl/Fow7Kq6W+IL08meCG+G5QfAOmYyqhkKpuVWz4uc/0q4zUhtMIuLZq6zKvNRitI8JThEYZwavwnHbYgk5u5OjxGNHdEo/1Dd2YZmtnvQ4u9vjUQRYjC2kJvxrBKTSjD2qJ4nD8LZoZvRRu3JsJzeEgqYutURfuKh/3CrR1lHYoR4zXwEDmvgYHNN2aEOAViHhWWYVqHhWmYVtuFS3CpCkpfzOJ4D1G+IflVtyFcZqCuQ9SvQ9SvQ8q/DyviGc1fbgq8NJV72FXXfbKuRPtquLoVUbQpx8Bd/yUo2QqY+sKiL9xGHEl9RNguod3hUGD2PEVZGSrDOasMVlmFbZhDZodypW2aUIUMfpCpGOtIYCLQSD1NmMtrjD+bj50TwFS6Wb3N/KsswrUPSrbNKts0hUtwpBS+b6JngcoPh8o1rht/5/4FieA9SF9Vn5R4eTKZKlyg+HylLZzlv/AJ7MZVTcqtuVcZlXWK6MFXPaVcOgqI59J7KnE09MH6rPz5QqGJBygcD/AC3cpjKm3IVbdQVbdQVbNQVbNQVxmVcZlXGZVxquNV1qutV1quDmrowVdGCrnIq5yKr9pVftKrOlVHSqnaVU/SpvwpxcBd9yXe8lJ+VJ+pUO1Kg6irQyVbCttwrbcKhuFS3CkOo/wnqQPrM/PQfJHgmcHKDwP5/gExlTbkKpuQqm5CrZqCrZqVxmVcZlXGZVxmVdYrrFebzV1uCrowVd9pV72FXXfbKuP+2q3/bVb9CqfoVT9KnE0qcTAU4mAu95LveS73ku8yF3mQpRNSlE1qmJrVL/ALiofrKtu1lWzrKt+4q37irQyVbHNWmq21W2q0zCtMwrbcK0zCtswqG4VDcKhuFSMKQwpKX7CeC7PTs/1mfnoPkimDxKCOP7DuUxlVNyFW3UFcZlVtyrrMq6xXWq83BV0YKu+0q4dBVx2hVv0KuJoVUXSpxcBTj4C772rvshSi6gqYmtUv1qh2sq2dZVr3FWuZVoc1ZarLFaZhWmYVtmFQ3CobhUNwqRhUjCkFIdMv4aeHU2f6zPz0Hybf1KF6/ImMqpuQq2agrjMq6zKvQ1fZzV5uCr3tKunQVdd9tVv0KuJoVUXQpxtIU43Jd9yUo2QpRdSoia1Q/WrTvuFWveVZ5lWG81ZarLFaZhWmYVtuFQMKkYUgpfzA8Ops314f56D0TGVU3IVbchXGagrsPUFeh6leh5V9i+IZzXxDdJV72OV4/bKuv+2Vci/bVcb7aqj6Au/wANTb/a8Kg3t/aCpja1RE+4rb/uFWjrKs+4qy3JVhissVpmFaZhUtwqW4UhhS/ZIsSgTl1Iz4x2gMZhQopdNrtzh8l7yI0Nuf4z6KR6YAnGZ+UYXvKsDUV8OzJXw8Pmvh4eFZh4VqHpVtmkKhuFS3CkMKXyCmcXKD6/sr3tYJlf6t2/stChiIB2yD0X4M5VjqvilsZjZbj1NpHdFDgFtcRzXwgD69Dd+2OPJObLamEeo39PBVN1BVs1DqRfrwOiLHiui0QR4eKh7R2qIjaXJz2NMi4BBzTwI/inoq+nZf7hiPlGeJyg8XfPc9jPE6SZFZE8JXBNcHCY+a1zXCYM+sO3tDp/p4DpiNqY4ZCEOD8M6Y7Q/wD1bC95YQ704dTaPHCPPqOFTSMqA+Xdu4hbZ9WB+egN7RKhduM+J6cB0vhh43r4WFzViFp6kT+5g/hHwk8lsjewXaitub3Yd6gqDDMeM4xZ8FE2QNFUMkELZ4t1k/X1/iUxlVtyq4fTsv12eVZ4nKFxd86NELZNb4jwQ2ZvGJ2ioLAzangcJIiYIWzdm4zDuiJFhw/EUCCJjqbdO238plWzy3zYeoRMEKDCtNp60TZ2vdVMg8l8L/7jlVEgkVGpvRGNyOafCOKYGhop4dLmR3f7kltGzxA0OMUnehsY9XuKYwMbIdMSE2Jx/wDKiwXCJBm8u7XRFcXm0z/5HCY1rGho6jjtU9zWyTWRp9t/U8W1f9Wp/wBN/wCFsn0Grbj9NmU3dtkTm3o2L/d/7fv8xlTGVU3KqblVtyrjcq41XWq4MFV+0qs6VU/SpxNIXe8lKJqVL9aoOoq3zKthUNwg0YVIx07J/cQ/Ks8blC8TusTIEoX45mHUtUM/pnOXWigh7ImE17XDcVSJz6ILh8TG3ovYP1BAsi3HP3n9KgMLYTQUSGiZKESGeDx0PYHtIKDDacx3+FszqoLflMdUOjaz2A31cUd0MgaVsLQYcT8qAS1zoR9N46m0/S/yhwHVjD6Zw5PqpIaZFMg7VCnS5pmqtt0tTfiSe0QPkQh38c/jom7Z3ndNhTRf2m5+lq2hhm2IzxNR21lt3o6S2RtMETPHeqhlVNyqm5VbdQVbMqtmVWzKuNyrjMq4zKusVxqutV1vNXW81dbgq6MFXfaVc9pVz2lXPYVWdBVZ0Kt2hVv0Kt+hVP0Kp+lVRdIU4ukKcXAXe8l3nJd7yXeZC7eV3mpSialKJqVL9ak/WqX61S7WVQ/WVQ7WVQ7WVQdZVB1FUe4qj3FW/cVb9xVr3FWuZVkZKtDmrY5q0OatDmrTVaarTVaZhW2YVtuFQ3CpbhSGFu8lsn9wzyrfGUzxHrETCDQxu5bPvaXZPS4yaTyUGJcbMiXS+F+pm4qHErHPobBadqiAp8BlB3ei2QNs857+j+ou3MaoeyMtNnxkodcN1DjMeh6I8SiGc8AoLKITW+vUDpk8us/smtq+OhS4GeFB7b70Qj2hVsyg9kGI/SU/aYV2G5pnlXoeVfZzV9uCosUGG7slQ402N7BV0/bKuu+2Vcf9tVxftqqLoCqi4CnF5LveS7zIXeZUoupUxNapfrVDtZVs6yrfuKsifqrY5q21WmYVtuF8PB0BWmYVtuFbbhUNwqG4VDcBUDCpGFSMKkYVIUlJS/hWyf3EPyrfqFQ/qP6+0vpZIcXbkxtDAFchj9YQew/qHR2Qqm5CEdgcQXK4zKjRGMcIjf8AKEeGcox6Noe6kkFfGf8AtPQiRWvLmQjI8QviXfYcoj3RtpYKOHoqovoxGLFfHADfDxU42Ao0DaIjw6oblRtw/wBwKztp4xgoezxmE96qYutCC4frVp/3CrR1uVr3FWRkqy1WmYViFoCttwqG4VDcBCFDbwYApDCl0ETQaAJfy7ZP7hnypqYyqm5CrbkK4zUFeh6lfhalfhq+3BV8aXIxSf0FNiOuHu0x8Ss92q4v21VG0BTj4C77kpRshPbtEuy/ejs+2PdNx/zNfAvPjir/APnw9RQ2KEMqy3mrTVaZhPgQ3DgiXw/9qoIsibQRUyhgUhjq9o7e6n0ThtLtwIAyocNsMSH/AALs87zJLv8AkpR8tUo+oKiN9xW4n3Fad9wqydZVj3FWG5KsMXw8PCsw8KzD0q1D0hW2aQqW4CkMdRv1CmfUPltnM9sin8/ux4fvx8nsn12eVH1Cm/UPloEOna4v+f5ofJ7J/cM8qPqlN+qf+EJhVNyrjMq4xXRgq57Sqn6VOLyUoupW3eryrXuPTsn12+VH1E36p/hswpjKmMqpuVMZVTcqpuVW3Uq2alWzUq2ZVxmVdh5V2HqV2HlXoaus5q61XGq63mrreaut5q83BV0YKuDBV0YKujSVc9pVz2lXPaVc9hVz2FXDoKuHQVdOgq4ftlXT9sq4dBVZ0FVnQVcOgq4dBVZ0FXHfbKuH7ZV132yrh0FXHaCrh0FXDoKrOgq47QVW7QqzpVZ0Kt+hVP0qqJpVUXSpxcBd7yXeZClE1Kl+tW3ayrXuKtDmrTVQ3CpGFL5Wx/Xb5UeNN+qf2mamMqoZVbcq4zKuMyrrMq6xXWK63BV0YKu+0q77CrjtBVb9CriaFVE0qqLpCnFwFOLyXe8l3uV3mVKJqUn6lS7UqHayrZ1FUe4q3zKtDJVsc1aHNW2q21W24VtuFbbhW24VtmFQ3CttwqG4VDcKgYVIwpDCpGFSMKSkMKX7cfJ7F/cDyv603xnyMxlVtyFcZqVxmpXWZV5ivN5q83BV72lXT9sq47QVW/QqomlVRdKnFwF3/Jd7lSi6lTE1qh+tW3ayrXuKtcyrIVpqtMwrbcK23CttwqG4VIwpBS/lmwfX/wAeRmFU3IVxmoK4zUr0MP8AEmx4dfFXmK83BV4aSrp0FXH/AGyq4n21VE0qcXSF33Jd9kKUXUqYmtW3ayrPuKsNyVZYrTVaZhW2aVQ3CpGFIebqbOU/I3oU/GP43sLg2NM4Rjs5q+NLlf8A/bcrr/tlXIv2lXG+2qo+kLv8Bd/kKmPqCojfcVuJ9xWnfcKsnWVYGpy+HZzViHhWIeFZh6VbZpVLA/wpoFfBSH7aIs4zmY6Ru21w5dG0Q4kSQDpD1VuJAEw4uHqEx4e0OHydonZfL0UB1cJh5KFFcY8Zh9FGaXQyAUzY4Qbv3lbOS2LFhTmB/CPTyWwfW/wpeU/Wm+M9UmQJQ2l/Ew+ygZifyKhVT6+VeaWOOAtneXwwT0XIc5Vjoj7Q2FKe8n0TdrNYa9lM+ozdtsT8Iva3i4BNe13AzUTdtkI5HTNu/etj8Lz6VbupEiMhibihtkE5TY8J3B3S8TY4clsJ7j8FM3bdG/69EbaocIHfN2FsjJMrnMu4/wAa/p/1T+PKjxJvjPVlNbQdwht4lNbS0DHVc+JEcWQjIerlF2d8NtYimYUJ9cNrl/608m/ILYsV53lrAml8KMGEzB4dWPtFp7Gy49eJ9N/4WyfQattcRAMvUqHsTbfa8S2Nzu1Dd6KK2vbYY5LbGzhVYKhuqY05Cite5smmRQ+Ny1WovxUnP3kcU3ZIfrMprQ0bgtp3RYDufR6J2wEzlEWzPl3Th2m9RzGu4hOibOzsn/8AFd2X/wDwTYrHcOnY915uHJ5DNtmeBYmva7gUdmgEzLER8PtDZeF37EfmHpHmB8qpuVcZlXW81cOkqt+np/p/1T+PKjxpp7Z6xYYUQxOOU0hwmOoVBNoljs7intraRlMYGMDQoe/a4346AXRw55NLRwWxztb89DdpguMg7qHvNrGGDqvhT2hruXXimUN/4WzfRYts4Q/+3Rubtg5tX/rv/itp+g5bP9GH+OmLu2mCf8dO2/TacOT21tQeWdl//no2qTCyKOM+qWtPoFbZpCAA9OmBuj7R+VGb/qoB9E6D6t3FO2h8LxsJVTtpjsNMmt8xMKYypjKmMqpuQq26gq26gq26gq2agq2agrjNQVxmoKtmoKtmoKtuoKpuQqmagq2agq2agqm6gqm5CqbqCqbqCqblVNyFMZUxlTGVMZUxlTGVMZUxlTGVMZ6J9Ewp9G7KmMqpuQqm6gq26gqm5VbMq6zKEViujBVftVTtKm/C7zkpRNSpdrVvmVbarbcKkY639P8Aqu/HyJfNHjTfGeo54bx6dn3RIrBwBTzSxx5KE8vYCeiacwO4qboJ372f/idNzOwfwtmEcvfJ35UaHHtO7xbPswMJpcT+E0ACQW3RKYMvVyh7M34Wo8ZTWzOLoLSeiOYob3Y3qHe2adbZg8U1wcJjqGQ3qHEERtQ620/Qf+FB3Qmf9VGh3GFqhRhKl5k4Lc/bGkGYAUeE4uEVnianxYkaTBCIymgNaAphTGVGDXtHaEwdyD25CrZlRix7CJoRWSG9OfCdxT3RGfSJ/wDC7+M5t2dI5K6NJV72lXToKuHQVW7Qq36FVE0qqJpU4uAmtiNc87u0jWcLvMhSiZClEypRNSlE1KT9SpfqVL9SpdqVDtRVLtZVLtZVDtZVB1lW/eVa9xVr3FW+ZVsc1bHNWxzVsc1barbVbarbVbarbcK23CttwrTNKtQ9KtM0q2zCts0q2zSrTNKtM0q2zCts0q0zSrbNKtM0q0zSrTNKtM0q0zSrTNKtM0q23CtswrbcK23CtMwrLMK23CtNwrTMKyxWmK0zCtNVtqtNVpqtNVpqtNVpmFaZhWmYVtulUDCpGEAMIKXkP6d9R348q3xlM8Z6haCJFG7D8IqCvbQ7c2DLmVAhW2mfiPHoAA4dEUGW70TXVBEAjetldviNG9o4LYvA8+5PALXA4WyRAYdOOiN/qNqawcFtcQQ4dscTukoLKITG8k59p3HcUHsI3OCJhkbyJLZIjQYrZ7p7ldh6leZlXmc1GiVspaDvUN4YwAMKun0YVcf9tVxNCqjaQpxuSjNjuhkTCY2NQ3teilE1J+zB/icUzZ2s4Eq3zKst5q0FZarTMK23CobhUjCpGFSFIdMv4sPI/wBO+q78I+Ub4ymDtu6ZjKqblVs1BXGZV1mVeYrzeavDSVd9hUVkQmcMEFGHtz9ziZKG18NlLWBQokSC5zDIIO2naCWgyblO2SqXakhseYjlAhRHxXW3Sl6pmxNBqc4ucrQ5qyw8U/Y2/pMl8HGO6sSULZ4cNspKhuFSMKXkIkRsMTP8gHkf6f8AUd+EVMZVQyq25CuM1BXYeoK9D1K9DyviIfNX24Kve0q8dBVx2gquL9tVRtCnHwF3/JSj6gqYutFsXWmQ3VHtlQ4RrPbKsjJVhvNWIeFZh4VtmFQ3CpbhSGOu5jHeJoKAA4dER1LHOwF/TuET/HzosVkITcmOD2hw4fK2/wCiP+yYJMaOSjCcJ/4WyuqgtUaLaYXSmm7RtUpuhblDiticP/H8aHkdhE4jhP0RgDJXw7Oa+Hh4VmHpVqHpVtmkKhukKQwpDHzG+IqF4neSiCbHDkthhlkN0xxKdEY0yJ+VHiiEyoqBtDY3I46Nsh3DDC2LcHtwflbSyuA/lvWzPrgsKlMLYtwiM0uTmg8eh4o2uHT68f40PI/0/wCo78eVZ4nKH4ndMXaoUN1PE8lcjO4Ml+U25+ojr7XFdChTHElbNGuw9/H16zojWh3JGGS1mpzp9UkDiUCCJg9TbGgwfwU9ogxYb2eE9G2TFp2Ctj8cbrOG0ud2SAFYiHjGcocKgzqJ6dkNLosLB3dA7vbCPR46I0YQhOU1DjPumK+Gd6Y9r2zb/GR82Yyqm56f6f43fjyrOLlC4u6DORktm3RxM9MKLFftDh+nrbbvEKepQRRtURnp1tpP+opb6yUOGRvcZnpc9jfE4BAg7wVtkOuCeW9bD9H/ACornNYS0b1s8S5DBPH1Tooa9jZcVEZWxzchF1WzUnxQ3KJEj0sMNs9yjxI74cnQlskdrC6qe9fGQMlMeHtmOpFuU9jip7bhqtbS7xRpfhMgNG8zJ59ETsbZDd6O6NtEgyIP0lVdmob0NohnjuPNbiModztdI8Lv4yOpMZVTcq43KuNVz2qp+ld7yVL9SoyVbbhUNx07B9R348rDnNyg8XdBIAmSiRen7kIkZ3CHIImQmU0DiPXqEgCZUPaYUR9LVtrZwZ4KBntUJ2pvW2/dFbLjJbPGus5+vQ91LHOwm7M2MLkRx3rZBS6IB4Z7ltDqYL+e5bIXQ3Wneu8dEDu9oiQs7wtqeb3Z/QobxEaHBbbCLe8b/wDJbOZwWfhOlSZ4WwBsom7eqGaQpfJ21vdB2kppm0HIUVtcNzeS2R84UvVu5Oax3EBRIZA7p8lDZFMdr4rhuVbNQVbNSuM1K6zKusyrrFeYrowVdGCrvIq57Srp0FXDoVx2hVu0Kp+lVRNKqiaVVE0qqJpVUTSFVFwFOLgKcXkpxeS73IXe5ClF1Bd7qUoutSi6lKLrVMX7ipia1S/WqH/cKof9wqh/3Crb/uFW3/cKof8AcKof9wqh+sqiJ9wq3E+6Vbi/dVEb7qoj/dVMf7ipj/cCpj6wqdp1hU7TrCltGsKUfUFLaNQXf6gu9yF3vJd7yXfcl33Jd9yXfclONgKcbAU42ApxcBTi4CqjaQqoukKqLpCqi6QqomlVRNKqiaVU/QqomlVxNCriaFVE0qqJpVUTAU4mApxeS73ku8ypRNSpdqVJ1KjmVbCobhUtwpfL2A94fx5QqGT2lCPHoIB4rbW0x9y2QkwGkqMJwn/hbN9FidEMOP2j2SqoscuoMmjgtnil02u8QW2Huxie9QKPixQOyntqY5uQtjBMbf8Ap620sntLOclFbZiCK3h+pAhwBCifTf8AhQXuf2HupATQ1o3cFEcYkQSHYbxW0FrgIjHCpqhvD2Bw9VHg3JEGThwKgwhDqL3Tc7inNMB1cJ271ao21siQiyRmVBjWOyd7U/aWxOy2cvVGIyFHDh4SN6vNwVd9pVw6Cq36FVE0qcXAXe8l3uQpRNSpfqUWCXsIqUCE8QgHEq1zKbsgbEqDt2FZYrTMK0zCtswrbcKhuFQ3CpGFIKXRL+H+vktg8bvx5QqH+pQJ9rp2yHXCOQtj+g1PE2kKE2hjWrbWVQfwtmbTAYosEl1bDJydD2mKKXloCbspZ4I0lZcfFtC7GzRgQ6bTxV2HqCvQ8q8zmrrcFXfaUe0QbfBExCJUKqPs5lLskrveSiQnvG8hfBH1iFCBISDjJO2Fh/UUzZmsbKoqy1WmYVtmFbh6AqRhSGE+G14kQgJCX86/p/1Hfj5sxlVNyq2ZVxmpXYeVeh5V1iMYaSocTxdkqDEdv7CriaFVF0hd8cJrIjRISUoupUxNaocf1lWvcVaGSrTVaZhW2YToMJwkWpkGGwSAUhjrOaHCRTG0iX819V6+R2Eye78IviaFVG0qcbAXf8lLaNQVMbWqIv3Faf8AcKsn7hVn3FWRkqyxWYeFZh4VpmFQzCpbhSGOlnByhev/AAX6r18j/T/qn8eVh8HKDwP/AAX6r16p6swq25VwIlx4BTiY6f6f9V348oUzg5QuH78VMKYUwqgqmqoKtqrai8S3KtquNVYVxquNVwK4FWE9+7cquSuBVhXRhXm4V0YVYVYT3q6FWFcCuBXArjVcarjU94luQitkrrMq6zKuNyrjMqtuVW3KuMyrjMprxvmVW3KrblVNyqm5VTcqoZUxlTCc7eN6qGVMKYUxlTGVMKYUwpjKY+c1NbutMJzuaqblVNyq25Vbcq41XArnJVnSjUfRdtdrKk7UqFQFSFJS6n9P+q7/AK+UKbOlyg8P2NxkCUx027+mYyq25VbcqtquNVYTX7lXyVXJTOFMret63repKSl1JKSkpKSkqVSpKlUqSpUlJUqSkpKSkpKSkpKlSUlJSUlJUqlUqlUqSkqVSqBhUKhUqhWxhUDCo5K23CtjCtjCthW1QFQFSMKkYVIwqeSo5K2FQMKgKgYVAwqBhW24VAwqAqAraoVAVAVAwqBhUDCo5KgKgKlSUlJS+ZsH1j/18oU3gVCEvIudLqTCqGVU3KraqwnvFJUJ8wnOkrh0oxHejU0v9V3iFak6pU5Ut81vW9GHNWmqgKgKkKSkpfy/YPr/AOPKj1TD0zCqblVNyq2qtqMTtK5yV3krp0q47Sg9+lVRMLvEbmU5j3cXIQ3alaOpWuZVtWgrYVAVKpVIUlL/AIA2M9+1HompqpTU1NTVSmplb1vW9dpdrKkcqk5VDtStc1a5qjmqFQFbCoCpCkpKSkpKX/COyf3DEemSkpKXTJSUv+J9l+uxH/jLZPrsR/4y2X67f+M9j+u3/jPYfr/46ZdEv+Lti+sOguU/+Lv/xAAsEAACAQIFAwQCAwEBAQAAAAAAAREQYSAhMUFRMHGRQIGh8VDwYLHh0cFw/9oACAEBAAE/IVgnjjqJa/wFxFxFsWRalhTPnL53cIQivBUHsizJ4BLkORcFpXLHzaaHIvs7hYprMS9PAJG0tC0i2IqylTfI1lSdI6b/ACewushdQsCfKnwR+iU88eUSuSwLEtRp2lqNAT9zvFlkiv6h2xbnsI5on21cb3qEVGS7p3KFmuloWxZRbRYEhCIII/DP8tsLrI0o1/YyFUHjnkR7CxLcaKB3SyzgLicvxgspttsjNxgl63WO/QLzFdqJZlkQ7C0i0iF/OHRdZUP/AAGns0XUp5D2w2bCHWo5loJdReEeZdZ3RKFgR7SyLQhwQqMcI/8AwWVyWBDsLIthkyhFbZEO6XhdF7SXAuQOi10XAubkj5jONnx6f3f7o/Qwk/melErkvIfELCsHwshsUguaa0pRwUUu4lzGjVyTmnaLBZLIXCFxIhwQiCCCCKRSCCBIQLbXB8clH9v+xj9Dq/4UNvRSiVyTyI9haFoMDBdO4MSIXJc1PtybRrmi3puZqRHkXHW1gWxYRDgQggyw5OcJUSXMzb6CwNpJZFlUbSWYnOJGsLmUeR8hjH6Koi/gMkOS8iyLQtKa6Plo9wvK1p8i/q1YFlHciTbXXnYRocs7lOxRWBblqWRHhECCCMUdbskC5NO3uLTBFIqp5x7CcpPoO6mlGKQqorWvVkS4RNqLJM3SU9MExnF6GT5j/NWyiHKLYsi1LGo11ll4YLZfUdgWpIRzRZlhQXpylMO5SL7O4WRU0tCyLYtIhwQIIIpBBH4lMgWi6FaZrf0aBboyNdqJROhhLKYYRQ2hUzOpn94tFRMhKSXsXOCL0T1JZjSqo52XMrRsvd6NhCTbpyuS4iyLQt6yXjv0SNIXZfUltSpNkdyLMsRbxbN9KlUWd4S9hcNNZluWpalpECF+PWx2RDO/T1nwJKU8CprI1t1kJBM22FVF+wKgukzWeBI0RsYQwPa4FgOdFUaaREqu4QJDQztr1QsjP7jS70yrFWHIlF5FoWxEb1FtQT1Es+cLKznE9NKbM9pZE1FvyfIaPdSEjkXEIlsLglkWiHBC9NGzSFqffv0EJtq8hSRyn6BPESzoo6yZYUu5E16VxkCFFOxHaTppdymR20dPTkiiaBLbNbGYjImw6GzIzwN/GqIGpGceYmTmz0FITZUSe8hCZzj6NU0t3XfEO7BKEToNKmkTGrP7aQULkkTMmEugl9kSbEcpm1N+S5ESXMy0IFiW4uIISDLRFp6t7Hl1ICwj72u7odw2H708dezSEJe4KQlX798aMpMy0XSwIyNUx5Zak/YzObUtKG5ewMdJbId5uqdZIhqN/wDjNebZiyBTh/c+MadkyD0SSWthkQgtETZIV1CYJPcIoQndTJFWIudpYf6MP949EUOUH3OZKUt7DGeWRvepZDhUTPdioNzFoUY7ZuU3JBzEqclnQIiypPMYyZMpGyfenz0QIGvQ6/CaHbA1aQguyfpnHd1CuLksLUa1ASl3WNE7wIrdEh05nq3uE5Xgp8BoTS/TCEJ7Zi2JFSIk6dhIHeCthEg5QtTgzELCf/aNNltfNNZ27bDJqUOymz1RptMDTlNwZ8xYlLhIhqiz8jL2WxDyQkmnbUeuyhtLV4ZUwIMxXJBmahaEOuNLFhfCrwJN6P7JvdGRxjAhDsxOkozghcNSE0AszlAXDuF9SNpPxgeFkPyyN8Sp15aIsI8IdDfRFBSO8LgM6kN8plsLtBYFsK4yEXWMQLJKIEdmNmhI2R2GP0OoSD4WCY0ik1NUhnby10jcDVpTa1RkNEprFuw0qGZ8EQ8TSe3DqOfW+zxRmQHB1piT+icxaGoOBaBp9DNQsEEqmpy/Ijf6taKCoIcJOICFSPdGl8iJr0U09cjnsm/czUyZEF5YzQbzLQ0osjMqYiYy9ziij2gxaGInIfJELzmWzVYGi2CfJyZIyMnCnn2zYi6dwviBSMwGyhmiKhO5FN6hqJ+7ZBhQyNnIdyGThVIuhlRZuZt5EO+Oawn3qbiO3NOJZCTggsQKkMvNjLxpsaQu8JzhZNBDdvaOFhk3SIpYXr7CqEkPRtI9G/Ryae1gciBcLRDk5pYHsrjTNdx9Djs+hrkx8mUPMa1wC3F5RGaUbnwJTJ5k6efD4JpG00yoyZMIpzSO+4XbQSD4RNes3RGmHm2aE5g0GJMDoE3NlF52TYiS93uZ/VzRoWOC3KeaIMk6Az+szXCFJKcoX7RCmeDP/NUDRm3kTByzouGQ7NAj0lMiAhrP2DHySsLEjehGbc6DgnktuEhYM1IdgaGg+eeWpI8lkXZLJ5TNL+4gJEQlwV2uxCS0bOy5thKSK8O+WXgHSxLSIcEEVj0bSahj4JZiRoscO7BGj6yElhsuzMqCR83eMfoU8BvgacBN3x8cIzE8IGrhk44CN80zUY3YzHUMb2FM96jsFqtdnajSVU3LxIGOpLPVSCHomGuh83BUlLSECJQRJchL696Mi0l6TVhrvBn7aawSShEjkS0LEty1obwLgkpnDs7ihXPLMnPmQnGbYSSWxXiwJtIJYj5r9UM7DNeJ0FKrRLJCbPaEyoPWRZKORzfga8kkZnN5M6ZLQ3ENEUakNGQQhZCW5Ugk6jZqhJLRfhnjevWQ9dJrqhoXvGP0OqZSaWDssfEp3rGJQisLi32ZJ/6hE3U2ozW/4G1qww3mFxSjYkek+5bDZymoLJ58QJ7OdzNIJh2ojIicESCnJZmja1NDOdtaD2szRmTibjD6zizIawCboHJBa1vwQ+4tPAwC3Rlk91QLggTcHcvedCNS22rLFVrMtCMhBuZei5giCWurNERAk0MpzuSOg36oJGifl5xPp6DjrvUZRZGOwaPdo+jOOUTigZlQ2nUy8NWYTbXCvQXRG+XnTuLFK3UB7roPyTqGg3EKbYToOwglok+6uRcw7lGzRb/xiXoj2LAsi0IcIikLir6mUzYORRgmxz/EDxvA8ek4oursOFk7xA1W4UiW0fAob7O+XJLalk4sCeAzrVEu0W8VyaZeCIltSOwStxblgWS0NCGjXAnpRfYSXFNTnsOpS/8AgLYRsLqpTCVrszItD0iaBsy3LQsIScdXaizjv0ULfoD9ziBcno/yKH6R12pt136F4siHJbFgWdSO+WwlGRXtMxtx0RnEcRblphZ5uy9LouKC4L8zRJEj3EseRwhOR29EzTCct8Xb2YGSNseai5EF0pjSeTQstEN+HX0kOiNAjbruro+m6ZErktB8Itx8Ohuj5nVJEJFwNUe3J4DvRD7KzXpz0FcHfLTLdDYlkQ4RFIqzYRHVRnYWCe4tUZmWH6FnwTJ3cYkCBZCEZT0VfxHR3wvrv0zEOj06MouItixLMg21sustDg8QwXpe09iK8dgsBbgvy+pEN6Wd0sOmy6ZHsLAXAIcVR6pmwusqV47lcxtH6Fn9BkRi99xRa6j0D3e9arrOFE8lij8BKLiLbyffFoPhVcuvFigTgFgS7DPuIFYUN5TplnpZ3i26n25a+BcDwWEQQMggiiXUddqt+sZsLrIzI/8AAz59KxBanbC3Ckm1dwU3LT5HrJcCBIJi5imieVDS7lKNuih2cssulK5LiLIs6I+NS/uR3PBLt4Uu2lF6cCVANWtBWNJemRQv9rPvDvlh01qWZY+CHYWkQ4IIIrFI9G/QvCh6+sdF1lTpHsVze96NAdF7UlDfJFkNWIy/ZqRfOQ0QWua2thqzHmxWm8kQuEOLWkOZlo8FwQ3vQsfZUiTglrRclHcgQDIBL5rHZlifXFqWkQ4I/Ir8qxC6yNefHRNNFwxxyXCyHxSyI9oxXWW/AiUylWom0PAtAU96GsTOJUlbOqK8LDFFmCyStT6gSdPEWxCsZSs2HyOG1+Uen8LXTVUZoHU1jtUXmyzHvUk7lNHtLE+mEvYQuDIgggjDrbmr6UsLzqSg1LZ7E5aZdR5fyxcRbFiW+BFLnO8WXUN3SXIuC8L7Fu33AAuE3oRR8+0P0WlrjAvUaPxD/FSuS4ixLctaFih3fg73gf8AiUadhe0FqWNIXDQdisN6XlE2B3C3TLiFgWouILgRCIpGCKQQRSBZFXtk0bIDH6J1xoX8SkuItS1LWpl5ju+KJYF9RW+DKWFDfVAmhXB3i1RWRaiRtLItECER+FITMHgxcpB7g/Raxrj4X5qeSLChW5aj49NcfgfD4VpJ5XhILQsVEsKKempBAuZiy6SzFxyxIdhaRC4IXrH6PcXWQjaXBq0Z807oTQ/RJIQaD+H8FPJFv5LEfBLEaqR3qdEJ0o4DbGaFkd9CWVJdHIDAjO6WGJdFsSzLIhwiER+JXTP0e4usjUMxyMaAP0WuKH29JZclkWJDtLcY/wBSO54OLwGQWgEwHLrpHtLTp4Bz3oSx8Ep5imCG5feGTv5pke1Lcsy2IcEEfwLf0z6C16yM6SfY6PQeXwo9B1klFgfeFoWld7r8Fvwo1gZ+VCTRy6g5oRn3oyyped8AAlyjv1hsy1LItEIgj+CPrPTHt6t0dN+vEpUthaqiE18vg5KW0FLr5z9jEvd5o7KkJWiltEOMOoIjOpK/r8h5LkNAzo9ugySbbyG7CuV/4NmWaqB6cphb9d/hHj1ED0wv1+9ZXJK5LhYFsWRZFoWRZVW7ODQtM0KjSbR0jDPSeg6iIr344E5OxByZmWu9j1Wzm+wtZo1K6qHmyNppn/fQu2h4Iw0iBYVhaXFO14iNlPopII3qVX03rTYj1TwvC8WRK5LY+2HxSzLeu+4W3Qp0Eu6e1qB3ixq7fl2a9ZChF9neLRZw6QWBYFsLgDr5BaiW9KowJ+hYvhEhFUkoRoQVonuG2fahZk27mmhktFjQ4OaZ2NK8Ua2k0VPDgMrNNUNrk00kjQ4Y4rAEnwZZMd3DQvd/7fR4CVNNJl1QoeSTMkxwJPO2phD/AMpTIu4ySuOtXrexmIu1VucndKeJ+ksPI/8ASpT4pblxndpjXYpEnb6C1r2d9IsqC6J6lTueSz8i4aRDsy1IthDhEIjqTTURn1kfGIyJ1msN+iMzqsMoKyLOIIRKiz2D45gTT0dHvZv4rId1SjaPQllJ5pE3eVAMfO4QM3dyNoFuOYx3kpSNk1sQaZbPsQ/WQEazUzkUC4ITzPBi6THI5RrBCmh5MnnRZ4azFt7h3MIdHoxSUxWVGSihXn8BUETAWMRYX0GZcosD7Y+0pFvRNO78H6FXCyr+htaFPCm2R+xHMxOF3kPtDveRcHzQQbSzLMtECCKQR+BddXXQ/iEnl3IcVZJX+iMkidJrrH35mqyIsKj7pGVcJBoLLmxzFvTIjbsPJVhKmREby2IljtXNHBt5GWfEWwfkhtsH/mFJQiEKkqbWkCaj/wBG9M6WYhAIYOnJC0+y6CyAzki5jNgT3FmnDb8jgDIyJZOsZHuZ4gxdok4SJOmY32I+WtchnRWWSHl03KCjmRfExtiQrFNjg8E3+BUtcgxevnLnkK/5LIli1LcshcCLSIEUgj8zvV9dHxjI+/A7i9Goky41FzHYxw8HeQ3lkKPQjQ1lFsLw9hBNE85EZmLJ2nkmNRbT7At6DJaCILcjYBUkbOlDvTN0k2UIJKgZj54JTkuCgzlLYyBd1T8wJG7O/wCRBY/qyz8Ddr4zTl7CxEkBTMdTuMWlOdmb3YTnilOdHkpgeIxtW/ibH1ka42WuSMODxyuSyLA+0INpZUt1ivD/AMUnK1SWLAU20KWqQt4SPc3I/dD85O2ZK2qyqWw6PusQEP7wzxLvHBkd5F82fGwgo3Ran1QlaL4LQztBC4IXHqNBaLJJcJVhT6NUP+Ase3X1DKy5AetFkip11nLkWn5ilRFc/kd6qtsWB9MJGzwQ4RC4NJ3HzxVaI01KH0pHZjWiKSAkkoXoJXKGnVHuNP8A1LY/Wjh+Byr2I7eE4iTRn0bATrXyWtKWWVjhOWu/IwTIU8ZXJ3LC/tG2a2LgjPovCjc1H6zf8IzZ1kMk06EMuS2x0+GqH6FBAVowQ6oixPuix8ln5H/tDVmFoMzVv8D5ng/cjj8VCn0KfRXcvBuo9ibUHN5Rct+5biT/AMRI/wCAl/8AAhcdTb1e2BVfVQ6LG8S9LK5LAtiwLOvVxnfLVW0YnzaFHtqNZE8R3DsEceB43ZdjnJwGrjuQ4VT+Oh+h1WKk7Ghg3qP2On/az9rwVUv8w+kPqiwiF+RVEbYUP0G3QsCzHwy0rx3iTmgRbCRX9M6ergUCeI7xZVgvcFUrw7pYYi2pBtLUsItIhwiKQIJkJZdeDH2HoqNlejNYRsvjeif5J4PcuIfCPviyqVefg/cqTHAmV/SySkPeYJZ1UTYKmMnekXDFxy1LItIhEEIggikdOQRMhwQuvVY9BdZGUJEIWlNPs/RkoWft9ZU3EP1lxH2R9pSLQaqa1bvwW/E+jIuvSXxJ/sdGVnBrcb/81i5DyGlbjv0iDaiGsyy8EeEQIIIIo/wzORhSE36uwutsPfIXAt6N4X6NqGbqEeNtEOUWxbFv5LWv/wChHdGENLsJ04fYjtTmYr3yZWmsT3LRLTB0GdU47/mmShZCM+gPqi2IXBHpnjiZuFqyP+5HzHfov0iDSb1qn6JRrakhKJwxylrRb20aGbGeXUZsLqoRnfAf3uijBlyQ5I9haeaJbCQvob3YrEWfA4vGQ2rgUu+iez5qV2IN+wzC+cTYCUDeCVz5EnZ1FsSzLMtSFCb/AAKilnnO0iTghfgX1UPGzTXqQ7TYyziE9GKRqqmmssE9TKnR2nkbSTb0RA1+QSlMTRfohKWW425LWZexVy3AqI126GLqrrInOhajHuks2DM/W8FGwSzH6UXFSuBob9TFxPyIFoWRFf8AQRuPgmVDUhcELpvovAjcv7Gp51JfgUgW9S49C8b9/iqJosKvbQkNyyHbqxvReHkJuppwon4Wiz3ZNy1QnumkwHINUCRCeTi1R2ERnpuMrsivshVNfvA0LqrrI1CaGfL6qxPQ0AbTfqvqsQbuWIkSaLJUiFpmjTKSV0IGpxEDXiX6S3BvhDpDUUVGRhQxt8fmrNSgZRySHSy2erw6zhGPI5VJM3RLeWQXs3K5EUFYWWI5ZlsomZO4P7OBfdbo2B3GcgyWY0mszJWryHaTAs25oM09bIbCHqlHq7kQiaovstDyLKnffTySuUXELjFiW9Vr5dZYeBCEyui6EWLLCPfR6E8v0jIrHz+pOznYdbu9URaasjmLOP2fQWfZ/sze5/fQWJuNIZ+5pvrblm5ptgglgZpJFuJNx0W1msIanrUluxGMCCvRCv6w0ac47tREI5p1QgEXGbsLtkvboJKQ09hVpKBVAWjQ0u5Sos4VFznxj5cXx0fZE4ITh2hHOOgzNSTyTaL7syBVtBApiXCKV8U7jil6Fge2AzS6ge1NGR0rViIHHwp1sXQkTwooFa+D9aL2mSJ03d7yWX5NXKhW5YlkWRaIcEIggisCQiyKpsfFjH6HQxV7JCHqI0JrVnQPUMGglmR1S9T3FpmQ12oGhQ8PLAuTM/evYsxuI+emezecStBPJDohtFkiCWgyq0ad55qErO4TJE9uJpbxkNvVbpuRWf8AnhbNURHlmpkh8JlaEJKFRo1dEK4B5FwJfEJJ6RES6IfKCM9dXfAkQd88EWSXM6m+vglcoaNVPvCINBtYuhoP0IvPwWvAZvLEOl1BIXGdehzk8hFjQpRRnFKSILWQp6WxzBwlJwuJDmom2Q3OVxXT9zp7IS9gryExC9xxFmMyyLQ0lSGISMyFEU5RKJZcCE+yCYn8zhCEbEdVdZGdJr+DH6NZN2EjtYElkSso1TFD2a1QmcrkPrX5Bk1+ENWglJn1OE7kMIRyujLOkNPZQxfq1NxBKXaIMDVBBqW8mQL3YYOAloElWywYZHDFg2cPIhnKEyOtWQnukdzyxyHm7xMdb5j2mcjJhFE/YSAsiu5P52bYu3DKwSaw90XqRVtI2QlqxubpHNk1blRL5QmRHmLiIGWX8D7ykWQmpJ0SJ5G5ydMiDd4Id/AcLkGemmlzp+vtCeiCOHHehppts18R+9C3GHynpZLlnYNRLVuSFNPTW5c8hXfJ+hi8SG0QgllFwSDBStRUElozONvOyQ+M4zUEEUgjiMX7k+5CxNCGkz0Ckukk9yX0mNpIF7zl1Ouusqcmqnwpt6JjQfGw7EDwonbnyGpE4ZlRhaLnMtpkFWQrMHzPEaNhpRJIcaqXIuc6C326NP8AN7AlfohpWbgTJXJYGnGk3QtiNmRMlE8/ZIaCrKsR8bIfhYhZCtG9tB5VTU6LIczNsx+xi0tyzHbZBQuw8kMZEFXDYSFRYlxU7IdVqPgXOp027T2kQNLzchDt7mgLyLL8ilob4QkFcE4rAyUWvsJxksFpFgggQRXIhGWJMzVmFEZLIej7YXlPTqZszWmn45a9ZE4EDp8Mbeglcotj74z2pxGg07ab9ipkGy8CGOaZFOSwL3SUaiWnZn2Pcfbhq6IkvASZKfJAGRYQC058CXkmo2WwbvVoaTJ5kg/6H6GJGz8iAymaJg2KGTiuRxteBoo9iwag/wBjR12RHpJc0106UuTJZ5GFtbTJP39BJM/sLXTreNROYajYkLWbLAloLPV65+sWvWRm9pFx6UaHXMkLlpTvifyT/wCi1o2ul7Q/WqC8M3MP0s+/L3kW35Il/wBiEZa8lSEn/gWxYRC4Htjd+4LXoL0c+HOiTKvAogJb1juSuZBpRrq+fRaePuaML8G8D9PuLXrIyo2SuTanzUIhFIpC63zxMz8u6PrPor022NYn6fc36UrksC2LUsxRPLJ4I2p89GmP0TOe41v450enr9hYF6M+m8UpbotC2pVqW9aL53T9SokTkV9UeyM0dZgUcHitF4TUrChO4W6RAXCEnQQqvlGl0F01lLvQLT8M8SGL059ZG5I2uUWA/wDaLUsyzoWe6NHPg/Qj6kWAfjSFeead7aFhSZOedOs6S7oCCRoh3TvFmotuWBbFkWkQ4IIIxRmb9ZDSqCLmoZ8g0PRqWY0OLRehfrUPHK5LAtz7ykWRHsP1ovvB3PBZ8R/45DbwVMrwf2S0qwTTsEsPBbUNzWj/AFskD9TO6WBUntSwLAsiHBDghcEEEEEEYI9fub9ZGpIFqM+UfG9Gkn+ufG6i60rlFhQnRMtqL9yL78FrwJv+YlCQXVCgWVNmrWtsHAZ/6nL5BI38hX/JadNalrTrHwWngtIgQRWP4K+uhMrE0M+VTP0UZE7ng0c0LHzRrUsRpN14O54P2I4PGcVGLqltB7ZWD3UhPtpL2mSurQuM71Z7UXFF/nFiWxDghEIhUj1DaSW0lyzT3fgZRnRo1+Ff5FEStlUZ84SJto+d+D9iPrz9yJ9KIcTH62WD3EXIwxzUFyv4OSmKX/YzCltox6UaTtLYty3FwvBaRDghfioGlObpPizInp5iPPIWKH7CVoiNGlDUZp/kyN/QvroWJK7HyjRXQsiHCIIousGkfg9dkjbeQuSF0tOm4fDRrRkl6Kjy1NDfuJZSlqvJNi2JM0NPBMRfowmskKWbqcOif3FWRYNbCG0tWqRTrqu6MvKVNRvNhONbnZ4X+ffXQkVz4psfOFpo/QpPYJxPj9RBKy7FOR2UauexJ2v0W4TbNYd5I/SmWCVJHktigr3hzGTQ+a8f2Ock9xZxt3NsPuKQsVRU7WGvYbSUtwSccNYoil8SXIQSz3UE8mrvDBB2ZQM8T8hbCErVQ4tokBLVOZJVN7hphjYUr2CkYrB4H+HedX6GUXEWw+CPh1sfI/Bab2PoiyontaVNIWAhSA2RMyFwq/MF6OVzEL+PFl9tYXK1MIcTdmyJqt5UW43Rp8HSx3YmmpTTWBpNNMzrTtsQvgvfE9MDSaae4mXH+sQC2zIQu3VODTUZxJ9jgV2IPflOyRPc98ZDilLuMOspXgQkbwfmqMqdcW0uwfnZ3EOjEKW1SQSHukEgTY0GQ8D6b6krkuIsh/6VIsC2r3+xFx+D9SPoD6MeYOBxcgdJ3wa8ExPeYqg6w8H7UXZc0CW9UVfHeLdZnwy1OCLCIwQRiVNblc/cE8Ho5yph7OLOvDQxPc5Duf8AyIVG5ZC1J+RySYzIDJtCaYMqw0MyYvktBNE5fDXGK16WB9SSW4tMlPG1Bp7o7gkbUhymAQgRzqjO/YdIGcODLklcotj7qkW4p5UIPWScCVE9cz8D+ptOw7OeacbH15CiuIJN3k/Wz9jw8xbYMj3Up8AW3g/WjlM7106VJRC6Fc8neLLFRGxwYxWRaRDhELA6Iao/Sui06qMqlrgfJQvRmoZj8PE1vlhW/dcG22bjJ5dQLwQ2RkImj/xsSaNxrEJCJSshIzrZsMZapE8D4mmjKC3JrISnULknSAj2EGEdxoalegNOyrfe8HEvAyzbSjvkkCbRzac7MXAHskn7dCiLJaRIHMvij16l0eW5YPSd4sUS44uKW5all4FxIhwQiCMMEYI9e6sQ/Ss2F1USO+CQ6fNQtFV6DWMq7iRSlFhRrUT2hyFsINo3pu74GxNnsQwTMTKexGQ0SUinDgZJzbbjwWmRkStJFiirgM2Y/I9eu3gsPBcHODbqT+WkftZb8xLDPJ+xkJtSzLMtCyhKQI6LSf8AAn6jYXX0V+OMtf3DAtSzp7jwfqRJp4KROchm0H9jP2ssK2y7R9UfqQ00/GgLcUuveQrtV0MnVaFkMG1mFkQsOfOZzAwGq0wMYbz/AH/Hn+GI0mCkLlCNK0tBcY+gFxS0iBHUbzDT3Gf3+k9xH7R+UfRfXf4tdczevxPpCMD+SMn7vSNyukN/46/VLDKGvYWpb0NyqRbJN6XAvjx6D9Ekp0Xk738mjFlyieS8ll5PuiH/AKDrgBY1Aul9nfO6WGW6kKJQpSYXJfjoTbj2aSuTFmc5ua0XfrtbloJWywfGIr8WPT0iee764H+ClcosD7o+yrwWxYlvWy58Hf8ABZCd/wAKHE8zyp3cn7mfrZ+hlmWlaCeBmr39yLLwW3g/Si+8YCY/3siP3hf8juHeLdAqjG1LcsyzLItCPBDghcEIgjrrrRlOET9GzIgOR3etdZRPJFt5PsqJYjXto7h3xgJ1NJwXNKhWNOkY94gfN4j9CL7BEuP+5+5nd8lp+T9DqLbluWJbFkWkWEQiKIIwwRSCPXv0q62uQsHvT0Zms/245XKLTyfZDIsaNq3fg/UsAO7sv6PP0DNsnvpK1EJxa6T+1kP9hI38juligsRcMsi2LSIcEIggjDt+Rfo36VdbU7ErEDLksD7I+2PtCHUrAZbrLHgfSmfTwHDRbgcsPJJoLcdAzswR8qszmXxTLcoDDfyn3B3PJbfmnSdpaFoWhDggj8ExWYsDjYiREzdr/wB6OwlWbflXrV6eh3F1nqLVXIoTi/8AZPuT9jLryKMriUxJ2+C08FoQIx6Bh09/4XXZwuWZ2oaIdJy1OcycHcjsDHFs0zOzlIitJ+QibJcEcimptamkNX/Qk/6VR/eNhlmblxsJRpwxIaHy4NRXZ+pYjfC8Lq+o/wAA3DEuK/N9IZCEbyddbKBNZ8DaRtuESRlc43CRKejwPJSyNJOcSStv/YippPkpLl7hDTjWwZAGJp0Sz2QNll6d0e1/7VEKKtCyleLBJ2b3EjRRKFRGdVzGjhMR7xjbEcVQTNnmjQY88USRraHHqS6zo/xErlFsOM97xX5Y/RvQQPkdaFkmfczbrOghONgW80YsqdARqdBCZKaywaJMaxJPM2wXkUC4T3nF3AAWecefNyndUWyryMu5wAZVjIHSRIyJiIvKsdoa0TUZizTNJGf+QSDksEurwx2SY4WDV/WRJRef2P7JWt5tMCwOBqmjh+VRjlckrklcosC2LEtyzM0Xzu+K5OF63M5sC8OcoB3xGR2FpX5A/RvQ+OfLxKcaJDOZjyjUdm0m7EpilalYmUwkPHN00KEkvyGch7hODWSQ+JJcs1U+9NIJiSKYTkMZeunjpTE6p50y/sUhXqBQXgRDWbgz/gqcGt2DT2Fha2jYFedCyfBrUEujqpBW6DExvko8ys7lsxSYtIUTYZZrg5Q/qZBK4iIS4si1LWiWpa4YpLh3/B3fBY8D9yPqDh8ZAc9PzoxfFwfpZ+pj4Xkt8FSM8DNdkcZHBgFU7F5g6gZEdG5lOgf3siMd6Z3BeFwXQrx3xJ5wCe3LUtiJaIhEdRYPnsY/RMTxkUnEhie4yQhIzFq2rFSmJQPzSmIqxOX/ANBbJyTVUn8hKfI2lZ9AskJQa6jElvLZAkzybHzOPqpNN2Rdk0bJfd4IqlqxLnCndDXmE0ZPwlqOKd/sxh6bTJsfoRD/AIJV/wCIuNvglC0aJwl+pn7GfeUZcZ7zBo4xuPMbzBA1Z6ZF4TayJWlGbHLJBYrMty3pVmWRZFgWER4RCiEQiKQQRgikdZ6UeF5v0u5v1kZ1+cMfomfExhDU69BCHbShZj13nNGd7koT3lTk17OndLnMJyJE08y4MjdwJHo43EnRbws4yyf+x/7Ijtno+HDsXBzv97GxHYZGeaV02nz1oK3/ADC5+WidymU85/YsyzG1NOLiBxLrlItCHBCEI0xSTRfn3p63frLBLJ5HR44clt5Psj76mNOw/Qi837H1p9MJMjyczy0FHykk2eTh8mA0nsqgn5haMFnWt+RBwWb+5e8i2JBgUUM4tmtTMoGm7EpQkSww91f8QOOa01Iy66vd/lNvzzHr1lgdN5JIy0K5U8E+6qvDc/vTv+RfbLUsKF9EJGniFxCFRvIZ+wNjZ6/7x1/moe3WWD+16X4hl9Nu4SUPf+aIPYXVWBZ9wfo2P4PT+FrH80Y9ELBcQ1baG8zhCT0Lj+ZLshJtEwEan9/0jFzjfwuy5JXKLiLAtix8lt5LUtyyLQtMN9H7UXn4L/gd3wd/wfqR+pFvxPoa/ToQRwA9l1kJPUbM7sjMzGtXJlXouWPlH7XT2pYUKQaI4BzsclAXxZEorgUQRSKLB/b9I9DI/wCKMOS0LIsyxLGivM73jBFeR8RftZ+hlvgCFPIdkj66Bc0b99YKYORL/TL3kS7+R3i3h2CtaezLcsSzLYtCwLAjwi0IcEEEEEEEEEEEYIIpGOMUEVjExYNBOXWRNV8L9Ixf09CZXJaUawLaiuvwWww4bYfW9sqJIxxFv4J9TeUiW5Jf9ju+Tv4BnZFgLhFogQiCCEQQRSKR/DnobG3VWBfk9BJcR98fbD4Rrokc2dh3/FcHiNlXHmryeCkBt/BzfE5yg9fOLc8gkc+SzRwbCxLYtEL1Sc65kPqNpLPAnwzvXP8ABPoM2NuqsDByRD/BPo72JPQOA77yS6fIlLtRr/EfRE/+RbjUXm85zs9y95F55o7Ih2C0B4JeELBFsS/DRI8kqz2RzogngZNyGlC+irObNJ8HOrzexoIaSLJIvpHuOTeoKxv0q/BvoPShadVYFTbLf6RInmyGwinGw7L6lqJQmj6G/dnpXo9WM1e5dGqSXiaI0R6JB5h2MCK4PzUMVtxERsBVqUkhLMk99fByYhFMr7YHbhOiRFyoXuP+KKCwT/0Q59Tb8e6J+kVdvS/PokzCYZomZL2r4QpPsjDGgP2Qzv8AUObmszXoBP2gFyPjas8K8wbsa+afMYlGzUjVDkhOdnp7C+CRv2zF8qZFrwdRiMoaLjYmsEBHObdkEQlYX2KOFqPUNG8qHyjaF1gQwpoawJQFNKgZc78VzxZfQJHlsa0G3qR+enHrHVG9NVXV9AsBVfodukbS3Ito1HgTCbp6Gfp0ZnRVfMZDiVGVfgJLMngzJmgKZAtroNJBGdcQG0k29iRWoQZ2lOeBtKW3kMeA6Jyu+FL1Sgh4ZFeLHbE19NYhtErxkkufNwIi5VOpO0BDFyR3tlNPQXIRYu6FpgbZu9j6Q0RFVfYTOK0NChEkXRENPm8x6YH03gyJXJK5RK5RcQ+AWxb+T7Izf/Q+0PtD7A++Ncvtqhn3h98P/YPuz7E+8Psj7wf+4WJ90W5beS38lt5LAsC28jk0FgWAmuUQ5RK5RcQ05RK5RPAWHk+yPvD7QtxqRyRceKJN7ibQ25n4Euwn3F5K86KPYRakdOWjeKKRhRSIYGP5CaY1ORmpsCMVmhrHPWjRNTuK4UipNjE60y1mHrDnnuKNc0loM2pz4CUiEjKrzI9kSWpaZquaeKat3+CQ0jzIRWyngZDZ5JakaHEwPC0CWHYJ3TbuLbdc9zItmLR2rDlCKUHnYlGyguItiMEINpISmbctaNy6tULYWQjfsa8VwOWTTIfU4HKX9MnbSTZSlFWZmI5To0pG3/kLi4QO7kv8TZGanGR/tZH/AFJt/I/cz9zP3M73ktMtMsFjDhxaU1qWxlaC2FwR8EXELKk5ULIXCLYssG3tcL/SMxXnksPyWn5LzyW35LTLL8ltj42WX5Jdn5FSdBshcIfCIWgVRpRHTWF3ikjqt4x5wMSBY+2DzjbwD5iWywxBCUanqzC5FruhySZGb0nMe4OaBDaWZk5tl2NNx53lyn+zZrw4IknVZu7GNbl8ROvIHlPss8zRx0Z+pC+gObzZwZAyhNolZVFrd2BJLXJdqWBkGkyT9zLnkd3yWRAsy2LYsiyi0iEQQIRCIpH4l1eB6/gFv68aejc4pK5LYtfJEFuM11+Cz4HB4SXIe6vxJ5IKqD31Zqvk5nOAYFolGRzI1VcXkwXw9MbGZmsHnhITly3uW/gh2EI0rBHUQNFuDXPot/jniX4Fb9YsPwHxCyPthprcv2IueB9eRenjqPcQtvJZRM7ALfU5UbnJoT7su+VAkG1LMtS0IXGKNyDkQQiStS7wQ9/rEFuTeQ2GW6UskLUaJB0LaXgmfdCMwNlc/wCRYucs1rUjf+TtOBZPn+RfeRJ2FgL/ADiH/gLj+CwouizOKR3fRZPTLDpif9IgqpvoOjWic4SFzhQ0Zr8jtv0qALZ8DkSIfsNGJ7qBm0BHCEHKGlaqN3/FVv1iwTKx+iY6Ug81JEb4QocahZfAxrGyCJejliPOc9aGM85yyFosCGUJcsgQa5WDMGiWZd0M0aFujp99PDsOgtf0sI8jMbS1aRCaa2ZJnIEd3Kk/Mz0SEMlUKxPqV/GFqaurHqhb1czH6JirSqlZWRxkImlZPfmr3Jwn2jEqQ0aiKNSyxRSM85XFv/A1iXIcsXwmrDoDzKfnJ/WwbGtSDm5t5IoObzDsJLKtZY2aTOYIdaGhlf8AiIGk8HB9wn7FIDNM5TU40iHRmvhekZlOQ7idoTtkM7pOn8Y3NWC2GraQjilktmJ9DLcCXUrmsQrD0ELG9DOWSoP0BEymazryO5TcYnTTM6WAwMhLVkonPYk9ymJQ/qsUGcoIk26KWoCG0d2iM0kQvBIe47JiNNpjQrKwlomxtOTXgkNN5IT8WlIiDTOvA2f8BIlCXRc09Uss2MukM+vMkasCaIbue7J6BaFtV68dzxTGFmrAr8u672haFuW2DCmzggL6QS3L4M7/AILXwftRe+C98F/0kSRCIunshceD9yP2ItfB9IfTVIvrBDMeKGdw7hPIyaYzgR1+elyqPF90W/ktS1LbyWpZFl5JtpYVLrA7x2xSFSmXcXl3aRK2EeF04F8+kaBh5CR99NPSTzWE0mNcl5i07x57ZDMrysTyexcxfd9xyRmmzrHeBHg7EBYq8T5ujIhyxnyQeVKegqcnIiNslpJC4IZq7ZbklsHQ0VgsHhIp1gfEG4J4iI1vNnK2ZELRtUCmXlBIsjz6FxUJbUqSg370XIy75oUINSoIPUnFiQsOu64pZluWJZFohwQQIIIIpBFIIpBH5SERSMEdAtfwvaCRSUuay5LcHy+G/wCy5SgsoiRaWbShaMaqX3YtQH5M9x5xQA9ctWFkoMBPUpyP0o4/gfUFpO2WfQPTLDyFN00lhTUyYUS0uKXR7KURiKu0liJTnN7FmRbDT+EITb+Ubi19Er6crksiwLUj2UrDeZy0bDhBg7zJf90JtDUHLz3LXwfsREzDgS5M55811aEXJ8vYuMQuCMDuuUIjNx/Ni9C0zLGxD4dFZ/Qk2zwN/wDk5C5xSn9odzyL7lCuOLilqRbCFwPQeQyru/8AjK2lBlVBv0b0dH8j+Myl+YGjDBuhgfAyBGywS8E9fRTLm7/nZQyh5i5i8Xi4Xi+XC9TCi3qbvHcNnMadmJy0ZJkMWVZiwywyDcXBfFpj4mKaUJ6mTozL3O6NfJ3zvHcE/knc0kBM4wsNrEyKebcsC3LQtBw6CwL6I40gsi4Qboti2LiLiLiHwBDI2iHJPJEolEolcolclxC1ECZC0HIM8cLHwMhzOERtBNtJu3EOWLiFxUoRgxv0eigM/VW0tRNNZY5R2cGIeRurXqhbUEW9JvTghg0zvCaiLiJE0I5EuSXJIaEiMAjwR4I8ECBEhQqUaGlMSOLcSBHHlA1ECBEdKPCLAhwjsR2ohwiyLQjwoM2rcOC0WqTmLJGBBjO0oLVI+YXhnTQLR3iFyNybZi4sAwgLJZR2YUgjpfMDwLr6BRhPoZdHIk5UlFwsi0LlFjUGJTUGwzE2ij8xh7E2DbmNyNPIUpzMmUjMJYsYIoogRI/lzfKNk+jyDKZJKGjdFgWhcGjcSpw4IRqHfYmbx7IaGfoG24oE0Aqs3G3cKCgkvLoJBYIECwRIEL+fxe8MTgUTtNGhIlwToSJE8xrkRU35B3SGzCjuFqzJiyWywiJHggRIECF/8Q/uf0JSKiESCMAhEIhf/JP73/wTH49o94SURRf/AC/+6PQgaI/+X/AZGQ0NDRH/AMqjAuTuIIGIHiL+Jx1Y6cfmYwS9onQYnECmxj/jUeoj81//xAAsEAEAAgEDAwQBBQEBAQEBAAABABEhEDFBIFGRMGFxgaFAsdHh8cHwUGBw/9oACAEBAAE/ED+Cvl6rKjIeiyn0T4tn6ZjLlwjrZFDkh/ZRN/7T/fif88T/AJZhk9rAT2l4iXd8EzUeCCbScsSLgJPDBnI02CQ2Yq7R5EiohvSzFt8IoVaI3qiwud3diG0r9zFX5Ycn5Q5V5n/kzBSh7w6gHsCbF4ZR/HCjAfULry96IAsmCVFHs4pgrgB3ZRKSjQCJAxKlBK1XGpF/+c7QuNvpmhooS5J83LLj8TMFe+/3g6a6K0JUp1NAsYAn71ZZLIhzM+zzE9/JP9mVtfliVOhm7RsyiZspa0Ox40l+0zuJftDGudmLwJVMnM6yim8HeS2MRqrfcVKp9wuu/Kf+DHsvmHcedAAUDSP8SUbSP6qe08QPBM2xKQEpKJXRXr3L1uDF9G9NkIdVf/NTENWpWhA1rpEEMViz3wlzL2DodMmlnEUI1ZBH+YRHL5Y/3sw1biNVaNVkV88sq1BY7jDMNxCPMBCm02Q2e8J3Saa9tWdAqpTH/WhzJ9we55QM3eZdxgbiBi/bhmHgh/XQNv8AFMW0ANpRKP8A5fGl63pfRfUHQ6hKjv8A/NJUqBqG2gYZ6c9JqrdjBPtFr7mY7SogFT9x10k2YYUlEGI1Z5zCrMbrvyzeFpj/AJTuR+YBtdA3/GH9DNyvBANhoGIRh3iHxZjUTrxpfXx/9E62Grq7aHQkrRNXrr1qjo+nUwzBpZENx5j/AHkd0H3H+4nd80COELVLKmL8Q4PBDhb6l9ecYFHKXQQwDynupsaWO1TjgCgfL1DfsiURX8H7kTUyt5Wr0X1Es3uMH3snB0v/AOCqcacei7SoHoGteoS9doAbzcseYjv5p/Y5XJPhHvviD2f6nef1L9pb1QsMVjHtnCL3ZQbeBGZr7vNgPyytv5w7L5m7f5wCa8ViowHdeKCui+oZ6E9qA0UqUgLlSkqJlYGDe0ywigby/A0m1++scwNDfR9A0IGhwkbZTUPSf/iVoenWtdJqQ0VpiOhLvQ6CWLpiOJ7hPbT2nmVM+WIF/niP80FxgRk7rxO2P6guT6mDELLCAi1C7Zyy6EEdogvBiOOCbyt3m1iu3kc07f5YHwvyyhgLBIORCr2EA2IaG5I12lTEIhDXUt3UKCp5gY0rVcQN9Vhuy4oagIPDQYgUAQgI9JopK/5hMPilQrLt+7qML6a9AJUx+Qi+RzDb/wCrfTZ0YlkQcz2XmOX96U7+eP8AdyipIcJRvJwP2xDl8S3a31H+tg23giOGnbedmKuyhxn7YX5lYOOBC8Cht0l3OXR0bp9z/bhysBd/Mf8AXAiQ5YoA5/DD+phwl9T2CVgSUlEolaJoolGjpiMJfRUEmKUZvbVaNTe+u8RTvAlSr1tRWhuXHVrOg6OLiEDEoR3QhlGwaPGEFqezIQf+iwUC3BDeL0IRhQDmWlPo0f8Av94xiZ6jqYGhPzCYoQydFfqzoslk9wn+pD+xiO/nle/llG8EuMTh/op/kwfl+oQrrhoKwIwgSpsUtNmCcCC76eLcEu38NDtKgOaCFzO/fyQL+WBG3lAX+cO2SBx0Luy/w5xfintp7UDKkIrUpKIE50AOi4dD0m8fSNHqdbGracmrc0dCE8WhDCVChG1HekIBN4IqjnWrgLm58bMYsAp2jnMF1wTtDYrhECfBDeCq8EWcALZYG9P0RpkTKFDSKr0NAtXLdnrLp2ywe0UjHfXfQIX0uhoQAv3hiTcavTeIyyPYR5PNEN/JH+ziIsO9KP8ARnvvET4f1G0pH40Ze8uxO2DwLzCM5X80eA1KTmdtxUXtTu2fAcObzR5EgHeXcl3nzmQv5gTN35hymGOAMP8ANgW3hgcgeJUVUAlEqVHQ03ZWjMaY6KhGEeqpcdDR686kqbP9zAEIGyPpHl1XYbsbNQ2i3yl4m7010UwIRtXNKhd9L0uoBogPtb+ogo4JayWAT5IYo0kYY8zACag3aK299YGxWl9SiYHx2ndg7IBiKWWocMU6rm4k62DFfsUlvtLO2UWMTRMRRq4BL0XuiXJE9y+5mp85E8Sd8JftecNviZyxAk2kUYOIpBa4UTYBB+CNnCYKwcxEMdzcZhfhnuke40WvP7gqVP3Ao13vd0oO3hn+dHt57Ke1KJXViV6r2iLm/BVB46wRNZiAWwRQBE5H1K6HBTuHqHQLQg7IldkYZNDQsPR+bL9AJwuVohBNmZUkUTDGx1YRemohKCJQwpIG7DNStKlStHQgZdLQS0DYuiGindQI31seAIokZ1lw56kShxBptirVxrOVKqwFGbGoAQm+to8wkhd6AC99Mvjl1WI13sEIq+CGvgRqGsafYgJ2CXKolN3EJ88xK2u4xZzcFhPeRJc8UWpKupCKKnvK1iTsojFjjZzAl13Gzed+7QW6/cB3XmD7vuEYPaYJU8MVxCoCmoyqHGppzHR/RVKcbuQ9AhpZurY4IbDpUCZNgb/2QeoIHuxPmTnJ/rHqOsJVJla+4ELfh35i5ZSh2G8K1plSpvJahPZCp33G/kw6kAA0yyUbyGVcsH47Ytg2akIRpSkAq4lIyzPQLmZflSoEdK6kx2dLDDeOpGL3QcRvC94GbELHYlGtsrAV32ARG6U0+YqSuw7rDpI44ubD5zqSC60IQiEuhKFWKmK7EneFR4VHupqKlQYyS9Bm98INy8jBlzbIpe26YbYwLY5QDSVTChKQhd0bSvcwZoqHsoxCW4b33wOMbqbYXCCa7MNsEUbIAFTglRwMkvHtGO5KosKNgiZRruxlvRiEWEvUKqLyQl+0fiujZDJLJRiOoieuw1Lvwg9E0ZDfwi9CEJhbtPxPdOD3hqQJYbssmKX0h2L3pBL8HADdQtWzLfUGI2TSqTZEzPVRluyF+GtHzk0XYcrFWeLpsQKlBsQgeB8wcQaF92PZI+6fXaUD/RRUAptg8Ld4bSxh3QFERbWJORMRwiIbUanBe8FBqYhmVYkHcoeZnb8mBH9LEyxrSu7FxXJcA3Zj8IrFlLO8VAC9tDUbIXEABJzCSMpSrJ7hlargC5lj5EEO4rEUVsgFzsTtccjzCwKlz3pjBi2i8BDbIz4shRULk0PL8k7Tfgjxj+pZtETVJGMQjmtXzLbqLMFPuNeIJ2txaqVQyWZh/K6qVPJW0MKtQ9o07QhbbZ4bg+T9yq1LiYqaCNsb0MCEgwIG3DCsbHdiGbfgjZDt5tUBhnJHvyUj/F1jGX6GekZQvli32iW7s6GDNkRbHu8unOZyWy1L9EgBWberRyRQKtBuzm+xDHU4Dvfp4cRnDuxECl46SK7x4joIlETCUywTIyBqQlLqwVN4woWhcFhLhY2ELlEI2QSzHuhDl98G+sIEjb1e5zKQAURJpagoygri0PBPtATzFbQHs2PY7wAShd7viHydB+TEuG1FotiIocTHHLgmLdoQ+QjSoMF3kWMFX1M1sgVhZ2oX2nZhtOXwwbHnuy1Oyh8pcM6m0G+QF3gPdy5U1wdjKR1LlLCUoe95ha2cLaGg2wMAo5bW4mVNKDZnv/ET2PGGWvDMcEMHQ861ARfaQstk4TbqMK2jx2IpiHB0HtA7eIFgtoncovBDQuLpczDafcUKVfcs8s55m8W5UFwj4vGBbeCD4eIE2CFV7ImWJ+yBFo5i544gEYvdCFpUxKlUaOtQQJaRUQIaXDvA4hD68S4090O7DBqyEq187YU+UlO8qO99kSUix9UrTL4orPtGS9De26ZR/D/Gl5qJ2i51SP7qjTsUCy66CEIgELEphYSNnvGaYo5qYCUEoBrucJU+oARVIsWu0Y/rLUhlKQWFVUH3mMqop8zODhFEJfayDkLgUQPYuGhBPTfa3kdTiOmlJqqEIAvvPQQ1x/vH72lDaoZ0FJqynH1BGkRmK20xrtNxITWKRCG1nUO6xEDXN0TBw0MJM1pDvEGNNheauBUgbrA4cr9xWJbiVYRXPmK5CVcUwBpWxwCUhK2myluuKN1mZ+QPOMxUe8j5r7iivVXAUMYHVlGVIMer4QbaAtqjIxCV/DAhVsE5AfUG3p8Ev3cOeFTcirM8JAjAR2fzQPlfcxf9Id95j20/xIBtE4vFDtJXgmECVKEolExKNGMYaEA60QWMWwrT9uCUJ8SiBpcxLjpcEAADtqQ6yXCbpsriK8iTFjefGMB3lurQkZz110mlnyoqnlVxlu9SoQgJvYIKPtoMTugUe9XzmPVQ4GriIjXe4ws3kGwTf+gdCENEGoCsJa5nGwYs8HaGMTiqdgRkE9NMBOVTNI3pMYrD5SVppBbcIrFgvhUKjkMbkVE3ICwe46FbU/CE0t30TdtfSoaXKdye4QbDHvdie8OJ8sSp/PM00+ERvPtplJd/ETBWAbQWXNcOYVZvHAM7LA6lAVgzhmY8ELbRG4MWqiIWduCtVYyDvuxUIY0BSCq5OaGEPvFUpU4ABGw4VimEcPdcbjvKn5DAQl17qJXUe5WIWCVVXuTLi4HJMdLHwSnl3BAbBKlVK5iEqUSiUamJtMwGgCX0XLjoS5fQ+pTFl6Ot61FmEYbau8WOh03L61W3tHi4BiJPhCsRydT6lTEIbM7M++MND86XCDYOefhJic/qfbDC2AR6muJuQPtkwF2cfONqwY7Sdao94Ozw6GdBzFAWJK1rfamUeTYAzi/PHBipZudyUBfcEVbwycq6TJK24pzBrErkiu6AqyvdggvBVWoT0lgoQHrALS9Xlzi4T85KRLoHvKKJl5YqEfUqmYeFfBCjMlycMAUpEznLwyyGcBIJ/GhBzeC7djbdvMP9UO3lFMj+qjdDZGNXsnJGVpyQ3giACxh7tR3VfJtNVRIBKIS4/avqbOPqYlx+JcuXLj1XqsWV1kWXBWXnVc/pSOg1zovQ0TMI79GMYy1NTQ0voILDuSoJhGYI7srHzoP4jvpxHUc9Bo5JcWLLIluw+UVK4TPePVYnMQLpU5YOBS82R2j9zaM2T5vohnOTabrEj+ISvc5gAA+xisiJsyzaNyY8xypdiyluhX1HdREc/Sy7v54BFX7lm/5TLdPmHC/Ma6bS5/Y5+HwSnaqf4E/xIf00r2lFbTNYNTGiySpd25YlJh77vRZ4HuYlaXL6CMYa3ovoXUGLpcv1b6Xrc9A9dQOh1vqIrYEYOu8oURgabNKlXMa4TxC7QcwlTPQ51rQlWiAADZHSXlL9yAWsivuRX/vO+Im8vqLuG+oq4H9R2xY4LcG2aUKFcvCpduKbDgzIe9aIXvFbeAeR9zuj7nx5vcZaqWCwBp90qKgEm1AtjUBrCNXDCiye9aAwBgT2qHV72i5fo9wzOOs2l6XpePTfWI+m6Mv9CwJtHPoX18Q1rS8wigzeBFlSqGFvURwQ0qAR0I7x0I5NKxLIGuR8RQFwYm2hvpm7hpjS5cIMuiLVSCkNxyy4JLaFPljXggDbvyrbwkobPHEzBPxNxSIF4n1CJOIXLmOgjuPaOqm8V2HTuXLlxS+5HBGemcLBuiZ679a/XqPpMGm9KoWGT1DLF1GNDaOLQ2jiDTn0HEWXN3QE5ZtN2EqiVF7abTMDoI7xOIStLzL7ojxn+hHk88T388e2Yni3iI7W+pe0N9RTjwQUxCxxO3Zx1tY20hI2aOZLitvA5oq5RbFpebtAIDxyKoYN8Ekc0AJgGUftL2me6I8MLG5EWMYzj0L6LmyVO82lSTpdoIgUe5qKBg3lP7iTaUUhYweknZhDQAcSj5gm8dX07/S7aboHQ9CY1ExoVA76MWhn0XMNSPOgTKoTYQ36MR6XbUcS+4iJsn+pBjZ/cP7OCtfYmTZK/wCsdQeCHa8Ins/1BmjwztRuWG83QThLzEbuKF0U9Jq7kj3cGbZrf9Us7+WcizfeXmbfc/1IFz8wLjANvDAjHiJ2fFA1sQNFQISOaQFEICLwSoEJibxhpiEBUNYlf5Iv3R03uRPfDN0YxfUJvFiXoty4a/QIEZyKLeQIefQwRNW1VF7C3tcJzECVwQjvOdGVCEu4DS4aC+qoE50YziGg694Ry6kCO8cdBsumzRxhFAR6DfQCPelDnzSrH5SV/wA5Kf55SuDfnwGf+5P82e6fUcdmNil+oIWTYXGCC4D92JbjKju4p/QIxhDMe/LIqb94A3+Sd384DnJ8ywb8mBLCFxhB2PFD+sgVrwQvMPERwEoHQAO0rpJWrL6yPoG2DLogekOnOA3gI9s+0N4iPMN1y70d4w0Og0OhYZS2d43tu3KzqRZbsQk3ZfyuYe0YGmM7QnMCdzpY3cIyukQMx2hK0d+ivQZx010cS6l3EN0h/ZRPfxpVv4kS38sFUW2q38TtfjHKHgnAC+peY8Mtx45fiF9AoqYPtl2x/LGsVwascu4pdv4oJvN+8Vd5C7xdhc+YAVZ9w3X84U73ywDaC26QD+CdqLgxH9VK9oQCA0AlECVKNT0i1BCVYIEdOP1Rs0cmp0mpoFWZZsI7sV2NFbDfQMYdFR0elqmEr2SXO0wacaXK4h3YSR7xOB4e0eQ5gyl4tgUIwR9jH3OZa/ZPzPdleSUVFvSoa3tgjbJTnoGLrZ3I17J/pRHc/siG/nlG/mgSftX4Ge+ftOS5G0dgQU8UyL8GCZJX7QVcD5Y8JME4ZaypivFLN5cU3ZZrZRLbU9rjcyxF+8X/AJsOZvlgTIMgf4dFBseCBfxQE2eNFNFEogJi5TR/QVF+gIs6upWoR/VDENugHWOpo5cFvsp8TSq9qfnQ76LF1NTTmG82dWqmXuoAxTMWBvMF2QRaX3Mn/eZ2FwzywjSbX2weRkyUPwlO8BYitKxEaOI7EQ4b6ioS02hmNMhzsg/FEnLU98M2t1c+6sV23IptSWmSl0bN5GckX3ul6W4oNwwL883of3N60/cp2ECkD/HAdigDbwynbxQPYeJSUSpUr0L1vpz0bdBpYXL/AELmCXbHfpes6eei4M5bi/oHVfQFzK+lUrqvQ0mnRU0re2gNjlY6rSNm2Ub+WD3CI7xWSDv4jKNk+pbskW7fcRz14IMV8WZ/MIoCCX7lBvFBnMhdymW9WZJZBhbusOTzy8Lavee4fcTC8cypzAxDmlR/Amwr4BD+phxkJa2wm8L/AH6+m9HorU6j9eEwh/Rm0MTf9GdD0V6CdddN9DDaV0CBqaVowO7oaDUqzKzrJltDMUIdu488C668o1Vl8sENSoKPDAdpMMH9R4QQKVUrmbKhSbrgTiEJUHWIdbDaXelwdLlzOhPJSkX2n6ZffkigMWgTS/SUXpfRzCP6s0IbzYTd/RGlfqa0rXbqY9VlSyWSzuRDeFe/kj/exkJbmOT/AIZRd/gzvnibX/MeHwz/ABIFLJbZ9h4wyvGl2XDjcVBiynuPMBd0zHwthSgqS+hqHuIY6LLzL0tg9I9AwbTYRrq5IsHo2y9H0iXmZiEOgjv+tNCbR3A6TStU0rr30YEvqJRrWmJfRZ3J7aP9tEN/LH+5iBLdw8MGfwY/8xDvhKjiSrt4IFiAxiQ2yPlnY8ksMHM1fdEbyF8iU8UsV4zNa/Eb8wYZcy03Lyw57fcO9flh2cDdaTf4ssv7M4xTFsQgPbRWJUqUlGoQEI21WcwntRbtpX38uLR1vpOog/KV+tMmvgj6B63OldTnqYfp6hHSuipzGbuiaY0xL0siO5ENy+5Uf9Yjv5YlJ7bwxD+rEcfigMg47HimZlMs2hu1T7iuwfcE4pa3pEXFFPf9orv4kOTwS7eFi3BRmHdli/nPdP3PnSiVP8M2Lww/o40GPiHYI3XEXKJUoqUSpRCVpXSdBow3Zgsz0HQdBor2QOWCRoHdmI76V30WPRehpfSS7BKDgIrT2Rek1PVGJmHVfoHXXXtMaFaKEdr80T38s/0Inv54nMG8n/CzjIDNCReWP9RV48cQo+eCOJGyB8s7Q/cU2OXXMZbBDn8csMg+o7hfRHngulzOWZYKK95yWfcP9sdmyDSYO3jgzHgn+FAuE9iAaLrj0yLrct6SbIOt6X0Z1uX0MDKboVLOsl6jFGtcILAxoMC7/MEcdGPqjPqUIBxUu+B1HoOlerjos7k/2onv4Uf72C38+jIUnwztX+mNqF/qY8J9TFZ4YNtJqxK/c+2XZC+4KCgijg5S44O5GF2fHLKtfRLm3wwxWpbvMBS33AufOX7t9s/sLPaQhhfxyvbxys/5T2iAlSoSiVMaVMR9IY6X1no1oJTacaX+iEXQ6gzqdC9RFMpJsmzKe8GzBY9p5hIpfUaXDQ0roNj7QJEGKL3itSY0xMSzuSzuIlv5Ig1+WOU+ec0h/wBGe68oSnLZi/B/qUyJ7NLBHkgj++5afKYOckGhwhiu/ilzkPaHnT4ISThMTZSR5VgClPEA9+O8AVTy6MHtMDbwwLYPogOx8T4EBEgaYh056WXpcvoXMvS5el6XL9A6Viw6mc+mYjmDr20bvWvTExHRKIb3N2HS9JqIFr2nFYhiLAmV6s39yqWzaVmCfMoyjdJnb8kS3gRc+WJbzpdlTkp4YlWT4jDiQ/q5dvgyyiDvHBSfuOahjvFhTFtmAbrVysFcKtp+Jcil9Qfd/RBqs37TvQBy0t3QgqtvucNL5ZTun7YYWkK6fBNtPDAdvBOSse1KwA6Y7QMRDWulS8oeoV620dodb6V+uv0WYCHQaLXSrouX0cQt69joN70EySKDCDUNQ0qVoQhHldo8va8THfQkQ4YqACM1FC3tJBvP9Ev3hbdfHCVHCqPeNo8yB7/kwGAZX4IBg/RD+qgDgeIacVcJkHcYBUYLhQmejMO2t9BM+saFeBjdDG8Jku6vQHgAtXgIpMGkd/hFK12tIM2v4OVPoEejmPSOqo7y5VkuGm/pkeqr0GlaXRC7mQIRhF1oQ0nVzHU1YErSpUqMqVOZuSujnRi9yYmUsQfYShyfMf7Sf7Ep380v280T1qr2sO3lcruh1Y5MvtmxnMp131NImtwhmdCDLjCExhTe0QEdJDfoZHFyZw14TVOL1qJD+rDZ2L4HqZXVSZ1uRKgCuH4k61Paa4MwunxnvIyKstPMqEqFN8LUC7tk0DU1N40IsDk05m7rYSugUIINtA9MjvrUrQImZU2YTtIkKiZuEdsqJelwQ20qVEqX3ESNko/l0QM/6xLeNcKeDLuXxHseEtceOdhPqPC31LzEsPNB8k45Z9rQB3ZT2v4I3uHiWYV4jnuSSQcNzsMyefY7wqez3h/unuvMO58z/wBGeygPCdswlUS2Zf0KGLtvEwZApSU2juxxeKeGuix0vW5ep0ZCSku6hc9d6BFEZYUXsYm0C90W6++OBk8ttBK0PXcv94AUAdgrWtKhvOHz37MdS2/kpUREOwtLEILUXsC1iAMqTcg6sFtF8zmfTNg/x9YlAqh7uiTyf1BQThyQyCxbDH2xPteo0Jv6rZOY1Qwnv8kPyILJiW1r6XYsaXGX738xYJMg7SEdyuJd3sTGWGAFKUImzBStsMKcw3n/AFBfV8M3hNnrNATCSqnMIL1qBK1qVpWtSomYGihukT3mDv4kP7aAczQ3k8KfUSsLvxMuH+pyjHjjsXnn/gwRxK/ijbgZa3CUnJfUWc+KXb+BLd/HFGZe5vubSr9znlwWgBvfuP8AtYHh5YE3INH8MNkH1Oz4oBwaANa0qVK0q9PZCUpGJ0XrcuXL6H5CFUGVZ7DDeO7GP2P5giSoMdWXodQRIRbpuoBBlN5UrEol99oSCexo5zdwlj5MvklSosPsGAS9K4NbW2vV6Js0B5y/mA+CjB5WFRFR3vwRtWscoEt4VXTBhntlTc7EJgLaC9vNOi1XYGOCbnyosuPl34MJKA0eLl6BweTbD7FHgggoV9SCkqInwdRGHvKoYbau24IAREwjFQwZfkOGVoHj+8yo2oxV7ka9xBKogxHaP2ztnFUT4MEBzM0RUFX9pa7f4gqEd4EIIGoESVU5jK3Jf9iVfykf6xGI4PyRJqX/AIjOSPiBjAoOF/qNcifUotTFMXndg+w8xyUcs2ndwQHmo+Iqbf1L/wCMFX4RUd9E7zGTKRaU3g3N+YW/uw0F1Gw/UB2Iz2DQwBAShKJRCohMV1Xpct6XUjL1z0hEbaLNiLkl1WlaU9D1DFe6UHItPc6MYp2pm9i+gHSQhBiBc2YLjWDR6Xc1UTtBuVZuqoFrAmVGR/scwMA7mW96JcnCvkR9oALF37hK6zs8WU6zvGEx7oi7CW3ATALYGNhHxIwzlD5mVHJfiVVlrm5aURACMrJT2Sh+7gDRiSbH2JaaH32hAdNTdKztFT886EJXtONLCN+wnZmciMFlyYlmMApscKGB9lnWkIU0nNZgw4rIjH96cItY25YYwVwRwmBR+ELX27KWAQIGGitvoi/R7uYhX70pY82do/uHC4sOKF3bPid0fiO2HxGFa+iKGYW5V9xREOdIESD5+WWweawDEgtvHAdvHNmeKIn/ACh2CYEoiGUlEqUdATHpMuX0XnqvodtH9EaEdVImSdnS/QOgbL3SwmKNHYiGbFybuh6k1qBoTecxovPZpUNA0oLf6xijkYBBCGHhVjBsh0ooUqLvBveGd3zzFjjQbVjfvhXhJRVpjPM46SElIVl/akNl1uw3+YZSAoAmygliESBP9S7mqSbEvupK9v3YLYs7wCo6UkeGDuDRK3QiPYnvASh75X7ZmiW7k1wQwl38QutnbvO62t9wYyvuUFq/MezA3Be6wWwijanuhgQ/tpa2vpE7S7hi7sFoe0NajaXdPdcvL33h3CUAegDhgRj5qmNmvFFBpUxOenHURoY9L+tel/TXHfUzcSzQ9QB+GUCK3nt6sq5k8wZnM2mGVjUMyPMSq8/vP9sjs5PhOT54jGreE+b6i9vxhtmxxDpitiVPNAi9BdUF2cE2FR0aFqsuTr2aTAr3TLIZGBkVfmAJBTJJbQqBqAVvErJj3iu7wHS3LgxYHZvhGjNbC4ShkcbRUAxDuP8AWUAH4Eyv7Epw8ExuHiF90lEolHaUQpmNOZUNGtRlwhFt0DQmdPf9phDtgeCXGV2AHRuUEX9Bcqbou0I6sv8AQupKjh/S16aStDS6gLzokz0VrzoQlE/aEKPlPnlLabK8WJmC+4lqURFQeYJcCwi5e3Bbu33Li1/uCMv7wK5X9zhU/cBR4+7CSDf7MKZP4jQPbxQE2RULeKffn5jsmIMKMhSMV+w4l19wMEpRwNBBQAGxrc99caG2jL6ENw+Un5uhN18eIu/8WxF3vwpnpP4ge3xpvyuLP3c26Bc/JY8Edz8pkpPmXbTH9jHh8ks28so/mh2/mJ/2ncfmPdX8wiGFRqgtxqL8sxZiPvN3IplkRorLr4XCBqb6jTAGKG19RoE3ac67pzm6UwHEDaIemGqRhHeVOdK0TQ3iWtHeBKjv1nqV01DSpWpgxAY6DStMSoGlaEphTLMdi9zQRToiiG2btN9HS5cNLgy5cIMGY6HJCl+IhU7acy4pD5Bqf7JLv4kP6lP8VA7+JBlVnvK5jcn6GKUp8KCQmaMD+J7xi7ufqJ3zYPT5pALMPKvgipfuJe2v5ge/yIB2+/M2TwJsh/WbIXwJQbJjtrel9Nyy0NCXmX7RY5lmg6XmYjg6mDoM5hqIOYswIEqKjENjSpXRUYaGrWNDvCcupNkIYJmBKzBiOIEqpXW768abxJUcMs7kQ3HmNeQ+40f95Uf94zEeEaX/AJiH8EeG/wBRF3vqJppvqF0pJs0GhUsBTiuIfMv2k8cPYodomfBK30xrz4J7GcklRlcH3gIl1yztEMi+/RAwOhU9zp3RNXRgy+ohKjqpPacjJ/Y1dyEUMHd+Uf8AWyzn5TuKvlKaNnywJyK+WAfwQWTe7J/iJTt4kC2L4CewQjDdjodJ1EfWOjjQjCPSGlYdCUaGhTtKzExGDacCKOtaVK0DoCiES2MEC9EzA0UOSNbfkJ/qk2X54nvE7Tww7xPhiXPjOEeMo/hghVZByyTxTEcKD5+Z2/NiMVfcX2ldwxvAXjilWZ3l9EMBNfea9nySndX5hzt9zmXznvX3AGPJlrD+kwL+Gd3xTerxQL+CV7EolZgY0AiBCVKJWJRoAyiUdpRKgSsQOdrmJd6BncTcIuj6FQnPQQrX2ntDUdr7Oi5cdLjvow1qXCCGJfSdbo7dDrUHNdRAzHRlSuitHSpUIbxgQNEp7QO8uYNx5le/mI0P3yJmZKP5Y1XSoNtf6Ym0ycRaMlDfUzgN9S7aBvksOF5jS0PuBmz9y9wR3WWzYi/BLv4JbuvExypZmDm75lm6fc76vuA7PLQj2kP+OB7eOAFHjh/RSo2IGtp7UpoRKICIdpRe0olaUSofGlRw8WwiJcNDv1XLhBxL12QRsNbly9TpJsSIwE7unk9HUpRNHV6BmemmEu+CWWF2LGpe0ldVwjvCOiTCLqKVcD06j0EI76VZAreZu9bDdiO/miW/iRAr8CJv/bS+A+GJm7wy6z/Cg+IUcj+xBtn+o8EVtoC7eacQfcJ2D7ltYImYTMOR+CWmT+puFfiF6v6iK7wC3f7mDI+5tT/LFtzziu7flYHh5dCA48Uw/hqB7eNKXBfUA4PEoQgktglcQAQJRN4hKI6sNHS5cv0al763ow1s7kzUGYtqwHJFVwLNL9C9HaOqdd6kIuep4qaKtIOtaPUMOgIX62fU3Ffxsqc9Iac9DiETSwncHmI/zSr+YlbSf3EjMzOQ4zBf7GJc/KOal/UXHjiGq1tsl1/hxrwkxKmPtANsn3Z2Q+WLAoSmYuQvz4Zdb+CCmX4ilXM5YqOfJL92+5gpT7hyD+YC5v2xPAhFBt4oXQA7B9J/kyvYQFxJUo0ouUQIgMImjUEPRUHoIkAOIL3rBTLfMfOJt9GIulzdm6HTWnEHOta8Tec6VKXDajTYc0RlFJvSOmR1lITZvLEPhSKEKe0EYRtn4eoqJcPGh6RoyiBz5ROSO7LvxxuY6Yl8RNRcQlMIPYlHDzHeD9kq38aI7+SGeDaw4iwuApnvAxiByLNIixpExxvuoCCil+3kzC8qLVK/e5a/KhBRwWya7VFBQfUECzwUt9yrvH/VhGU+4Nz+YpE+5i0U8GBS/wAeBbeOAFHhigk/RhG1HzNyBAAAbT2JRqab+hfTcdoMem5fQTKD6o2zboJzAJACSCVBuFTBsQREBA+5GXOek3lgCq7ZcdllwQmhAnJEU0F2w3fFxUqBV+IG1yC70nMBue5DQNWqcgwuWUy+BzLXyqbir6nwxlwYLhAGohbOs6HaG029J0HQaUqsSvvFUbpvAAD6mx+wizQT5i+6+5lpsN95l2S+NkFzmvxCrn6yKYfmnfiXZf7nLf5Zcw7uPdQX92VO58wLaau1w2m77QLaCrEOynsSjtoaJDbXEJhrfUMQdUvSCg8qKrt7zXO7AAAPQIywPTI79L0GYlwqJti4by8xwzf0+dG+dDQzHedg8/3AgRmbIvzBGbYo25oUhDDlXfJFnYSUllbyrbCO03IRDZzllY/81Gjuz+8ITcQOYR5Qh9rfKBHRMyEPZWK/KWxjtWnxKlQ0N5jxysGoXeG1ROfB8QkUJAVoQIbKcdg6Y8ZROV2Oh63aBjXjSiV0GlaEpUta7VPeNBt8T8j+zGqjUoZztK0TU0vQQ0HQi4QI3u4+biMdR0JoPRWbQhGR/DkP0DA9jTNfizeo4Fk+B6XQJeO1mfMSggt9B0NHpSMxD3GxqWZt57at2AogojUTEIEFs3mLD40BF3A4OYwz9aY1wBTNyGIMQYGjMKNsohdgfJFqHs5iAQ7Iy1J3OAEBXwAPgIAUTBecY8/MdoSoKNxcxRCHY/aiFjn/AK1GbmkV3IApba1M2U2FABGNX4qvdl/uTL5dAgZjhRR8QJusrWBcCE0m+azFjVNDtNopLIRlDdH5nvE34lR/LaexAo0rStAdOYyncjXnyQrf3oLfyQ/vNAS4xKUWr+J/iTs+GYv+GkOGJXuIK7R7XkidvzhpfGEZXTsRBN0LcX0DSodBFjpFXcm+k6dopQLLYzioRvpz0mgvTEBJ/EIqh4SwsgrWtKhDB7PwIyjwDwpUrW9CNXBaKLj4RvFKuXM0UDdNiUuxelnZqG0StCCaYO3cYSAQF7sdTQxDMqWaS4cBGgr3N74qBZa3FS0MwitoWpQCnvU7tXDLoqIP3pDjrS/c4EqpzQ9nRVwYGgTeGt3xUSS4Q+kx8IE4+YXfl5NEHfCIZjtU5hANsKfDK2HIm35/4z/w+8CFFuV7HQoiBT9kLf8ApKvuFUB8xTO+I2hXvHANYMWSwFxYwtku/owZJQJjtD42F4nbS4BlG7EKWy8pBkFjuEOGFkQGSwSY4je9MoFSHuzJ9T7PqXcdy9lzfwR7FHe8IEc+GC7wzNrBT/vDnX7gN1I/vEKP+rMjGEAHaAciABxhwiVbBAalSoZQZQiXVs908GiiILiD9pToeg0OsLIG9a4hzrsm+laCOzpUqUQI7TCrXv5ZURYAhVDtEUpCngI0rC5JScVS9WqsohBoOzwkNCVFNwGHy4mXlAyEqOwKSHwytuT9DRCKdhQSg2IJCLBCj3lUim1EArNJ2SOyFexDCHb8DcspWc7BvD7mBkYMapLczarKYtTeGlQEDfkgqglfG0W4MXvywG4wHAQJUlVtE2m6IVr2Nkjg7TFEui3BoSuY6EIFsZ2s7QG4IKlAQ8wTiEYS1U+0odoELNo27oQPBZVKBziEx3IH/NMiH5SVfwJUz5puxUAGW+YLCPf+URavfZTkFhpwU2jOY4NbhMmElPfYthvHkyleoOwTaqz5nIeaNeAEi0rbYjrK4cQmANA7IZmkC3HBEkkc3BNu0qPJ5piyn3FwN2LB+F9yxyn7TLdH7Z24bTA9kvt4Stx2SZth/Xy8RofaA0JAL2iK8QVA25gDdNgcQWNPcYqQ90MaawQxrI2z882ghKSjtAJiVK6MaLiGm4PQdF6XB0FUuEnvR3YbMdSNpH0TUh0MKu8Lje5tpWmWUs3jRJku5cHdXEWKYtzAGzYPNTcCrW8O9Sk+xEgoLffSLb8km0GJGYpFUuW77Jebt/2nBIH0MHEABMAA3ylnKcqkT3lcdDTvIKEZsZ9GoajfHbsypaKtZyUyqwtnY3SnxWXNe8Y5QEv4xF9k/wCZ9+v2x9K+gUI2B3Vu0ZVglyRd4lDZ7ocWP3lGBADvvbLzSs7khQI7uEZky8qEp7Q7A7TYCJFGI5HBF9IHa2hkAvsJTv5iUBjrTwYXf8E/1JYZpgr6bxqd2GMTggbFqP8AKEbEDmf4KqUkxgBxBtvDM+Hgih9keL4sA41drjTdglJbUfFbl1bZnwfUBSl2IMB+Mpv8OM9sI34CCuc7m8uXDTfJGq1Z90HtZgHP5ixFXlE1RbPeGe0QxMqLcKbMxQ1pLYvneiBvGMD6PAXKkJrMIypRwd2crg+VQ7EolFbQC5RCVtuPsdiHxRg6R0uXpWHN17l6XLly4mmt6xGGyfJIy2Te6XS+u9Rjo8+nehosK9qlu54itQiSj/yxtHxGLpXTUqBCVONCGhRF3GWC7wDKnMN4tJinhzGLqLGZy1YWmKLpmAHu5Y0qYPwm8ih8AI9qgEYvZlSFc+CU2YabexVz5h8kQ6fBeYGWPmAxbK25ZlxSbHRD3ioctqjswElW4hy+WDa+kQbdpbYoQd5Vd+WIEzvctuAqYe7hcqRSZZeXhiZPRKEG++0q4rWxYLs3MvkBZe23fJ2g+3lDbaoFF4tYoJtwtvRGvz2bgsEaI7nSYMOqxmzmr4nfke8LWEPVboo9oq9h3cORvtPdMZaIbgeWFkYWJUnPeCELaJYWZDgrJ/nQPj4lJkxAmgPeUEqPYldkolEKIGbhRO0WSQAAYA4Iwv2tc7y7XxcCEIb9a2+/BBhL1xHouCXV2njouDptMZx0XCDpcuDHfW9R1uLfRWj13qbsxWh6JCGgo9itB0VNW3704/EcMeniG0ysqoOlVpYcyv8AmiQ3i941Pa7JUvk3AiuWkcSCfd9M9/5Q47fUqJ2sEXgknReIQXiyDhlZSlNhFIeyZSSji3RA1g2DGHgmscbfEq7tlsyzcM8E2gXA5GHyVtsogRRHzERKvbMCClGyQWuwJcypVoN4/wAwE3cP5CSqQVt7pAFaL+HHMfEPlQkNFVuqZ74KPa+IpbndEM8aEppxpZMTHbq20uXqsVSY2ITNn2cisZDsmyDuC0bdS9b6HQYQ43LtdkmN8WWIIo2BrRW+82jiCGgyp4lrQly49F6svpuXqy9DoJhB1YerXoMDPQJ6RpFEfNNrTD2xYYB34i3uvxBtpW/u4AOz5js+eX8ctDBJY5L4JjzO1uhA7d/EsS/Gy0WYF3wvEHK0DuVgIqApFeUW+XZZUgnaB/xTYvAge3jIXFeKcFIbfqGBBbUFEuXDeXTpiYqOmJiWVMdBogfN9ljnaW1ohnsuPTvoYaE56saDLq+7WYpctbNqj1XL6bhL1PD4lcFQDsAdF6cw/RkW3qtYQznStBrfrsuHQCVN3VeohoN4xWkadaqWisRjaUzK7kexKhiFVN5UMTEqcTeXoQ0+xSUu5SXicaXpcuXLlxZcGX6i/oiXHbqrQIqah1T0KiqEqG8vLrcdr0G+85Y7QiUXpfomgS+Js6coaVL0doMQ3jvGEd5kwidCaVq6UxM6cdFQIyoJCXA0zK05lncnfMT/AJJVv5p/oQLeGGIaIOlopvJOXejVeq6EMQ6HR0YdUoBFVzNw2Oi/RGX17TmXB1v0TRh0k3BCGrQg6MITmbHoBqGtaAaENeYxSbEDmJRUEVAQiZgRl6V0VqRzqKhHaVGOSGNKm+JmKVDSzeWVE2Zf6E/3yZafNMv/AHiNXB7TQp8/E9/xnsQT/jgm3hg207bqJwL7ZfsIrc1MQgzW8HwaWOc+Je5XiZ8xd5Mpu33L9/JAkyvuex5Sjn5gMA2E/pEIZCuNICMd5h8aI3+CNRjpz0A9AgxqbUYsdyJp1uh1Ojo6u8doaX1vUOjjQckBFtCBqEXiBHaBK6iJ1iBNowhK0TaLeIYmU0LaYe4gzk+YH/PFH/BAd/LP9eN88+2WqPxYPs/E3Rlk2g3NNCtkv2i7a8EeCNW8U1EuzBclPzHlC+WWGB+WOzVPaEOeAPcfqLYo+peQpv8AQRZzVEb+ebt+eW7tnvDZt/cWVR/cO48z3PllHBgUP8qAP/Cf5E/wph2eJT2iHeIgXKCUSoBzEUmIAiTGla4JZ0Gmocq3l9BuZ+LhDt0Rbes6Xp5gZ7pT5hFadzqrq31Yanfo4hoHW7wOh63jRkwlTiBpgtUhzDzEyvzkrux+yIb+BMN/mjmmmVhuVf4UE2gRMMrdmgHP8QMxs5Ux3H3s4jywLjzi4EH5YoY8szFB8rLeTAe5fUW4vrTRy+CWlY/Uv3H4JdV/TB3P1tRFirUO6f7mS1cG5XnFG1v3BSDwgeTwQ/o4F/HP8OV7HxPbQ7ToRoU3lYZRKJSUQCUTEohVQ2mJjRcQ6Ll6XLl+ksOzRZel+gaBSHiUmIm+fhJ+Eia1A0qENSPSEGIfbIy+NK0ZXSaMwOguoy450dL0E7kT380r38ko3D7IPfyRL+aUzQar4Z7/AMohsvxF3LBsIE7R7MceHZbyinYfLP8AfgiYo8KYd/imTaPiXUP1EWwqvicTM2FfuYi3+YuyqRcffBrldu33Am/3zPID+OB4PFMERweNAti+ieweIDRWiElSiANwCUSiVKNMRDTfodb9Nly9HbQ9Qiemehvl5IR9M0GuYrBPZ03RV8eB3rx0iF6G0DVxpfRe0RZdoFQSocwJTCx/qU5PzEf7+MYRaeI8fkT3ZZECDRkvEXJa+oq0THNqNBR+2PH55dDd5bgm8m6gRATMXiEtEZE3hU5SKC+SVrLPuz/Xi7nyw7PnPfeZ7CAmNuC+HtBsn+TAtvBOGke1PansSiUdElTGpXo40vqenRalBDU7bbPMtaRC0Nbl4gy+m9L6r9V6dkIeq/o2rjudBH0DTUr3NbYRAj2S/Aw4ZwH+FLhQZDxvIFwsCK+2QTBG5TyZgwfuL7T5UcovuKbBjwiG+H4JbwPghRX0I5oFHPlh92h7HngmG1F5m9Rpuz/yYtiQFUMo/hgT/wA4Fx40B/ihbs0g6GViUVpjpdoOnP6lZybBN49/q9pl+gQISAjAauA1Ub1Wfi6Aj5Jxm6vBK4X2UqCORHpTEHQ6TUjL9cj0mo+go4XVevHoGO5B6XoNSbGPzbco7uixRv2rc9ubgnZP6JTe0+0CY0AQECMoqby9MaOmIYlsXaIl7Eqp7NArRjGGh1DWAWrDJLskr0VBagQRBETWtB6oMgORXZl0QLQHux6ku1Y9JGlV6rALQtE7nrS1IfEn6MHZgAWfjiWH5GoTmMIl2osUg7pqQoI2hZKYE/JCXco1EIVz99tE2/iFYjitd4RbE5ht6J6XH6AlMbNCc6pHfpvpfQLggYh01K6TTTjVbz3cMqHXwZn8OjgwYBDqrVg6+8IwrSku+8dDV6/deAEVIZva4OZRqXf8ZiMPH9BgbYBWIEFIXneZVtQPzho6N96y8I7ul6EwI5H0gBG8JFttKX8JWSid5KzklYx57xLMVwBxFXCCOElkgD53NaQ7rUQz7Vl1CGA2HhPfAeSbATwvNdghCALFCYJ8u3ND/aIUaJRoCAcQyhCQ72VhKi+RbSyk23jRQC73ZLqOXQ595YDoUDQjvAucypfqGtSug6alQ02YRAhDQ67s46r6SuUiHJEi/wA0Q388F/LDwSDDwz5/0wciOT4UD1UTjl/U7MrEpeYrsXyy/j+5ZW2Zys3GcteIbr6oqNd50jlgs5XZKhe0vLHQh1HWE+owGjmoT8ToJtFZw6RYMOhM5fwNBGcFgnECoOtiDAnGF+xHaXZZklQKzb4CDljZGyGgQCLEqD3U8mBsEEfbSwlGjoECO0IbdgpIpmzd2n4QDtT4AjlCCxhvFTnEBmAmL4EG1R4iv2HvRF298BHqhuENme1O8kuLd+VN5BwApkcMLm6ILx2Zie25ItKd3wRcQIDEErVfKxbiNuCfkKhmFIfzzAC2L2vgm7QJeYM6EJeYbMJdkrbSoqa0NcynT50stLI85JRuPMzf9iP92QW4fSNn/SJlwP6xiXHwz/2Ge68o/wBwjs1IuwsCbSY1P9VMMNNkJaXmC1/3MM/LBj/pG7HlnaCPZC3hjNu/ilrmQy2o73igF34dLv3EDm/LAOWd1vuL/wBpZu/LMv8AJlfGVmDWfswBjxkCKPFKG0olSoRSUVKIAaGgaTE9nHdhBS7iUAvCMYECEIbSta6yY45JlVPfpgRjR/d+SVl6NgIIy4ZvL2L5TMKZ0XFmo2hbqCKwkU2WV3YCxkg3aNVWgsTrXIcBnaXpko5vQ7TicC3/ADm0dCGMa1MACCxIlwlXAl5nEHZSEsi2/SMXGDCewyEvc0YJeMfJB292TsmgyigylfVyHtBm4lBQj5Sb3iAywxLG4lafuRDc/slf8SPN5NHIe3y7g/1AIN21IXPd04KzVJGcwtLE5IvcxUP4pe2pt0eAAe7DZQvligEEdnyTJjywyE7tpgQv7IK3D6jxB+otF+pMex8QcnhBvo/UzDPJO2Pv8827f7i+/mg/5x8v7n+xA5PyZh2RjB/wT/KgO3ihweOAbeKBbeCJOxAO0qBmDO8ACCZoQGIBriY0o6L1JcNb1u2sul6XqdOo7JlQ76EQeZUPiI6cyoQJUqJKPR7Phl4Bsss2Q86VDQAuZfmZGGq1YtzvFMeAGYrao5+wYRaAjvZENuFKUKxbYxb5grCtvuX7hrbIyxcHL5j01Qm2kfm1D3DQ0SzVJSxxV3iGxjTIBRNkfFDSjOQfyy932Yw3IKCP9aKUx7J8MTq/wZmwuBdxFWHglB8bfZzGgzEH5MKustB3RWx/cxnzolsPmKHCbWTMbMXv4IZfCgubX0QxjEuitoUZRi1mNVw70+53PPCnK/cC48mLbryxSr/JgyANoBRP62Kn/NBbeIlOKeISTKVKlaVopUqbwCUgGlEKlGZUamGVo9AS9DTfUl0y4Rz6K3euQ6LmyMMog+qOlzsnvk3aqTl7EdBAgQmb1p12IR1qcDtEWmcGfQWcuYgUpK9/JH+0lIr5Y4K6x944SD8bPDDC6rr8M3akG3cIxmG8lkgQxpdFtHgMjvOCNLhgLZhwSqhjkzCAb3HZ7yhMASFqCl/zIo5W/gRVabhnGlv6osuwPYmbIO1SwhTOrdGp7swEtpXnHynun7Q2w8sJRDBmH/HC6/xQNtEBRqU7SipRKLmJWlGghZNpjRhHW+q4au0vouXqTdhoSpfpJoRaOgLIOaiaEd9DStXok59N0vovodpUHHUdZPx5aOjBXYs8xHtUFM+SJRQ3iNsX6YnzfDjw2+HK1wrDHhllIqTEKgOLNjF2w/c9i+4q4ExPwoN80lhZJK12hlO44CWDks41fud1ICFi+2Ao/vYFuImJyi9oBt4YDc7sEBbAfgh2jxADW4DX8UvzAxtbU31BrN/i8bXpuXrzL1uXD9EaMv0CX0bwjv1EdOOt2l63HV31uiHoOrCEyY4P0B1O0vE2aJqw0eg0Z8BJTvqauwvLC5m6XllmGiGmBtALYfogWxfUyjUAOxAIx+Y0xm7KJRqpCEd6m26IJw4v1bdNy4svouXEatC+ZaMQ9N39U1XENb1rocdRoEWHQNb0Iumum76DQQSOYGjo+kRbf0ZCBHacMOIzforqIQDc8SvZqBF/9szDUYb9RHW+m5iMNdoujJdCMA4Wi9DDrNXVlDY5eqR39HbqNTV6SPUSpeqdToTnR9OtXQfSdamBLdK630mF6MTEDDqBlSp7hNwP5Yj/ACz/AF4lwnbb7BG/CfUo7LF7iHwcHdnstSN0CJm5lQgaGhq9NamJ5IgDlYD5Xqet2gS+nYl+rv0VjoJz1u36Eiu0qVpc3hEzoRIE40rprV6DR6Ke2lu0r2lMqY9pZ3JYM+SP9Wj/AFaVb+BGIJ/mlH8k73kiLUxtixLf8GXmH4Ym1Z9Rt/jBuPGZj9ub/wC1Eub6ll/tz/Pgj/wlkxIVSTNHNj7mXX5w5wfct49A7ZsZiafwQXYPqDX+Ilm8yjMLG341gfK+53LfbAdvzYHtIL+KbMXwSqlQhsze0v3daTlYgBhoS9K6HQ6GVcaKpnjsiY5+Wj6J6BGGta1KmBCJpXQR2gauDrI7RaQhK0dKZWYa/ZEWnzRP+Un+Aif8aIfzRL+aJERJNGfEz2Xhh/nZTz8pi3cIn/CbNEns31M//GKgSyiA+32s9wQIwHNh8xlx5Y8Hlh/YRU252pPDF2uzAXB9SqZ3NoeCZbi+Iuxf6nPmBbeWBuZz+WLd5qN2+5YWvHeaP/Fns+UO/wDLLN15YF/mxRj2WjB7eOf4cA/hgRgPqP8AQQHh4nsp7Se0QERKlZWVAlDKJWtQCURYVmLCStSouty9SEC4wMvVli4wtfUOYSoaVq9B0XDeCwhk+7CK2K1I61K66hKzocz61rSugDOLnuEq4vuP9eie/iRP+TRwsw9t4YnTd+pe4fGbYX6mzfcSllL9TYpcB5Zbsq+YjY+Zfxxx1Mu6SGzFL7Uj2IKUD4juYe0HN4ovVzMt+SCptPud1o7ioLLr7xyLfKgGy8p/4LA+GnBfxynbww2Pxyr+Of50P6qe0SvYiL1EgVKlalR0K0xKJUqHUVKxpQ6PRejF6lUNtGXLl+iQ1YaB9I0IBH2nu6sHeyZQM6VNodDDU+NH41I3aMQuMdnLTfVjQbkr380R38aJ7+JAb+SImZN9Ufpm+t8RdsS7XjlXZoIWPHZIj8X3LnAPlmRGniT2WP8Aki+5/UXsNrtEGfElmUMu38kvykW7zNrd8w9lfcB5+Wd78oDAO3gmHH2EA/ggf8UD4eJmaCU7QM4Si7qVKDiURCAmPSdTb0cS5fqV0vSZZuhHaHSPpG83wlTiHpHSw3m70A6SLzp8+v4GO0peUlnceZT/ACkTw+BEd/GlBM5gI4UeZOL9MT5fgmVpY7CwEWqLt/HeGgxf2mDbfZHEHyx6qA1QnlqPYBuq4MfhQtuvkJh2Is580FiD7rHO3gBJCnNvuMCXDuyqv25/hz/Mgew8SlVRKPBKqOlEQhOXoI56L9A9Eh6NgPQ7Uh7HmNl/Zjs6+YFw4b2/ROUJvE639FvHEMxw6E50dodDgh1HQRWoGmEH6DMbvVJ+H0ViqUxc0PuNMyLbp8zj2iD/ANlBYH7WUX9uV7eKAUeFN2vGlO3hlBVB9ShEuZ1S5RLO6JjhAeZIw/SMrVzD0CK71se/YILhvC5Q94NWDCY0CqHuwZlvnjzAYpsS71J79T7pcIRn5J9MYa2KH5I/y0a9wQYZYig17UE5gHHsaneYam5D9IMod+MKck50DxTSwEIDMbwm+ClIF1WBR+Ikekj+lluK1OsJUwhGgh6O2V+grMN9Ma1pbo9BLBWx0L83+zpW49LCHRfQabGIi3qYOtvXVnXZcv1D2HNwwiQFqwIF9g2dRGhUA3XEAiCdzoQiABazKOUp3OkMTjgNnd3gXafMcNRQEiho+0BtH8EB+zxDQ3JR/isAXk+2AWInswm3Aiiir1X+uoXKWoK3GV7Lqs7gOzvW7oTJPG1Mzr8yK1wIFAYDUPanQ2GhHggKt+1AgdjZIiwB87aFSVNiNRRNK+Yg6k3eh2h6aQ0W3Ry6XKhHfUixzDTJhoI+g+kRJXRU5nMCISoHXsRPcPuJ5fPAqwntme7qOo9k7xla2a4j6NhVEO/UQXmYH1CABtoOx7sd5rJfhEGrcjbzKZ7yCfDoCldjdYZgRRyPReTD2ZaTMNubzBsE2dtQZ2dfZFKUvZ99CGobD6Uq44Ybwzd88TwjCkEYh8/ZUcswAsGnZ04YjaNt1KeKAN4uLHis5lE4/bpcAQ9kBKFYB45GBfmP6y7O3Y+WUEzo99SOP74l8WJxMQgQbe5X9qOTyZ4iEThL7MXyZ770Sz9vcFVEsjaPgYGNHqet0NeNahiPfS9XrvWuhs0qI61K9pZm0sinclmmJ7DzPbeZ/vT/AHSH92Shz5Y/3cr3gLAFbXidglds31BpiTAX7Ta7H3PgEv3GX7/RDeZ9xfdPuHLb7nZZsh/U/wAHUX839tLvE1ZczpcvoNDVwmhWLe0aDo3aUsMQFRuQV3ulz0kfvil3StYcjhIdhVSxIEcWN3tEJgF7IUZ8UcJg9Js7QgD3SiV9w9joFVhKpibT+wL+9eirWO0XYGAhNp0kDmW9O6RiFX4ajULmjy5cNBb1skJ3dvJoanktxIfhS3uh4AoFW2JVmmYu5BbDTiETQm+Q/ohmVi6QbpMmvHG3YS0Ss2PgmCb9JDkRizw4JSZ88P7Un+rAd/JG7TpLi6NtrP6Zmx+DC2r38MT58mpISLT4QJFdu4H/AIpTZ4Ik5oLtJli3Xnnb80u2UWfziliB3T47ghkvuP8AYMsv95ntUOQgeTAchnC+OX7D9Q5D4n/iQ5fwm+OviKZPjCDhcCzLz4uIMRKosxZ/7T/dm3+/FP8ANLsVn88OdfcP7SVv/af70Vf+0f7acl84p/eWGPKPeeWH91gPCAbQN78MqcX/ABKqG12hVQErKhiZgdDqaL1o2/8AoZStCmr1XqEroOGV7GYPuaPSaVgpIUUBYaHnPo1Yq2HchtMPslBKO0c1HKG1IUC/U9yOQsb70lm6zdzUq3B+5ol2+S6agB2WF9523K5TEAPI+6gu1XwcmpD4cISmVC4obpLhoDnKSKlROGFmFSKWYMSMzr7tsgyLmVqRnE0z8o0t/wAQWhIYVvlsqK48RawpM2IvOPuHdxY4J8ybtPswUZH7nJCZblDn8EL/APnOAn1DlPEOSKlXF/uZjun3As3N25RX70TYL5YBVH2z532xWqwJQQ4BZ2eHNDtQK8+Of4EP6WN7+3D+vm7Xhh/TQHYvqHaJTsTNLtwYCVM4QxWJUSMURipUrQIytKqJpUxohoqOhU3Dqeuatw1JUX0zpPzP7Rts3Rlc6OlQZnU0L0rWwMtWsZhNiXehqzAD52ZTYMS1mY4L8YoDS0UMxyCktQPnclBb5oMRbfFE+89iMB2gICJQUO+CYA7KdiLTLuesDvKO4ho1C+9GVx+BPmO1HhxjuwoGv5bgCbTMhBQD5SP7w2Al7v4IzkjyL+8/H4IOG5YS/eVpUYgayoMl+ebdr+4Fvf5WByXc2mX/AJw/q4hUilYMbLnBGd/wTHsgXECrCUwn62IhKlQmK6sehfS68aGBYR21PRet9XKk2P1a5nDTGt+gaM6/Yv7RxTmLaoJN3TdZSRq95XuPMTafGiVv4kf6JEz/ALTFMuP9ydn4ijwp8QNs/wAShPDqEVJqWqXWE7XUzqD5hYAECFUfcz2RL6wxXmFlhKmT4DHxUVPtb8lhTL+IbZg7sBhm+YDrJ+5dYS2HGyEOVCdkg+Vs8+FgAAA2CUdjUcwWAE+AxfxsbgRdkK3ynv8Aouf1r0EcSRfUfRZz/wDGYJFhA1qV0mp0mk3NyUEvmdgS7cvqDNi+BFWfpJfvB5n+4Nu/uBbtCe44/sFK8EgIGS/BATEVLS+BN1T8EC2CBGFL2ko37G0d5xA0GXoeol9JBzGWdweDH0j/AOUQXBtKlf8A1zUqUsuOoH0ToErWufv+xiY6Ccut6tai6G2lx2lKvtK5fRcJel+sqUjH2kf/AKt4SVqH66vVrqek1CM1XefvQYPQx1Ke2pB9/wBnQrouPoXDTZLg5tBlv9NSoFu7/wDTv0Oda9SoP6N6Tovodd9TS5WobheOIZjREN/NNyi848MeJPgY87+pkWIpin3YwUgWZP4JvLPbHQv/ALvaMXRjDS/RrQmxh3+zCBnf9Cakf151kvoZTM61pWlncl9jzH++iH8xM/8A0iG/kJd/Cle/jRH+ef7cr/l0EmJGRPY+GIY/ay/b8GV8vKNmPPl20AriSUjJD2IY2S1aaH+sg2Sn4gD/AJy7+GCbeGIIvYh8S8WQ7RHJQ2nMhijcf3Hi80uIJKCzLNO/3plr8sz4i4V0P76IQHdNz++iDX5Jmp8sQNnD7J9wt3Qm4Pxcaf8ApLNvPHtkEMlpVyMWMduCHxDggkDfdZhLb7gQZv3FrpAbB9SnAaPnKgJR0jf/ALbRjvGOrpXpENqH6EJYH600vXGjKlaKHJKS0eZ/qT/XiG/nlE695D7fixH+CDSeBfqf4cTxC/gllMCyliLuEe2fLLXGT3ipEs2l/oI+x+pcbYq3/GL38EwScsKVhRmH+7P7XBXk+YAgaVwd48piq/mLbryz/wB1gJgywbOfeVN5p3hAIBtks6zP6WB7H9TznaH9BOx4J/nTseGBcPEqdp3RMrGcedLBqK0qfKfKVoqVAJUqVoqVoBKjoVK01AlSsyiC5TQBlZguHDDYZcHpvpOkZ9n9uMYsV0XV9EdNkpY5in1dDrcJcvoqKRPcH3E9/JEN/NBdvLE94c37WYWljhE+oKqT6l5k/UE2SNVn3ME5Hyy/Y/bM81zBS3OEECzfiDN0ReFD2CK7zKW5X58mDcrHLcuKvKf+KzYoz20Alg/5QW3glXCe3GiqgZWe1qAraAdp8JR2lJUQ6iPW9AejfQlEslRwS7ho9Lo+g+sRaIdJHSok2ab+kdIEvabFjUWYqM20q5vOYEqBGUN4hv8AcxLir2aCGf8Ae4OUbcCzct3Wg+XF23hl2zfUU3Mp4T5YMCfZFux8wWsMVCoF6xfUH3H4i4pIv3RHePMbhcZyn8wru6+Z7XywsVHnPDKNg+p2B4gV4lFbSu8A7SiUSpR26ToqMr0C0O8dpbiEsTHpXpAd2Xo0FrQFrKZ+1BEsbHZ9XYl+o7QhoPVdvWekmehqTOmyNsmRDpv0y4Udi4OlL4hJfxEWrX9T6heWDKEJYpPkTgH8sGzcS9hfaHsTDuKfEiqz9Rdz9EE3sf8AZJBRVk/kFAv7MCkEor+JjI0PCdvDtAKoeJTslSpRMMQICVK6K9F6SL6J1hcQwpqRzCbWKw+o7EYs7ZAbcPHEQiz8egSulUxbLgHywZvJI+cS29yckUVy1RSx2MBbx1vFQ26D0Xpd9S7/AKEiVF0PQd+gm7qLZc3Jdxsw9M6RGhlQ2DxpR2mOJsxrTaXDRYaXDoaEN9gwXHB1qLTQLigDoc43FhYw0NUe0ImHnLPZK0dWBGD1XDpPvBPolf1wa9mEqw+1uCOzAwBcxWRA2GnEEjv/ALRC/gghq0UptB3Vw3cCPF8Zpg95UAjHQF0TsBazy1JYor7IkG86f6VRGS3hIPsPmAKySrWlOM94KW/mV7dWw9ZHbQ1evnS6F0IwlRxokYSpeeoIriCVN4gRxBvR1OhYR3honQ5WJiVJkCGl+hWgStaCrzlrLjlNoy5eo9DpcuCS47MQ+KZyV0PAido4AVAEGysG3xoQ0PE2l/aG2KNrjK/9YwwakCNBbLEgRZWl760WGffbvB6CZf5vvBahTtB1NLh/91Cf+XeMgANeWU+5ljgWINL3eL/Y+92O0GT2Wp7jJmQkXfeHPPjGmlw6YqI3L3ZewehUDtTT9kWVBnmXTMKVfzGu2thA4AtdhO+nOge+tkucbIoCRu498WNiX2ITezuVH2F6hLfiy8/Axl7qlZYMPu7O0BDMNajDrdoEcPoEWtduoi2oTYNN5uhCboBUHoWwQgMrxOUZuQze4TCLxoy9SO+roRaIR2go5l0FQ0NNyB8sd15Zwx+CKZ+AJgHfOOi5fLjHWzS3S4MY6F2RS7SneCVExFb3iX1OnNNS1g2m6PaHOTs6BS7iQgIF4DczBBTOeJr7biO0v7JtNBX4JY5YTVpEVQE3tAQAFq7AQK6jVpQwZU9owWd58XlakqJFS9hIKxMIaEISzt+clO7t8sJbZEUSYxWifkFrxHQ1dAlwXiSY2mwkegcQtGOB3fFnYARIZuD7j3hQoTuRjqKqGQe4Ol4hiKFjuhnY8eUYR7ATmFXMZ2V83LAqnyigbxWBlEtUl68E/K37YrECGixCGhr9SvaJMzZDg0s7ku25PYeZ/oE/1of2ROX5SUfzk/yUefxIjR8aP9agf8KJv/JAN/AiqvyQTaIIvF8xa680/wAdD+qQVqPyJ/iIf1SXfwp/nJU58KPqvGn+6RQr8CB7Zfcin8abQZfZD+nT/fIf3pGwvxomx5SH9iRpf3ZyvNP9SP8AfSj+Yln/ALEv/mJVv5Sf46V2PiRA/wCKXug/bmCIv4ZQwysceOG2ebpPMVLCl5CDvi+CVs/TMjP+5byfMwCsYZAf1A7AIF9AZuzix26GEIN7cQ6KbhhKzCkqBotDHL7Q1g0dOJhVcLERIZVSO5EKCZ9i7kSwFIe8J4AaEIGqlUSm1JQ6kXzFZS/ukt/Wi5uE7ZEXkh22xDQg89kEHFP3QYQpCHaGxM0AG/fZAu4pLPV9neCvxLrRgDRWJF0IY4Uq4CNBrxfNRWkvUIlGO6X75EdhZfYQ4LKuITkYZTDRZYJMpssoxPhkYYooq/nI8x/ZD6gyNyJcyMB5gRBm5tJjkiqaCaXBFJqoy/OVaCwBYpAMxNk48UcErtpf7MaMfnFtj7hwH7hdmqX4IP0i6b9jZhfi+pvXwQD/AIkrNniYtviHL+Ey74aN1kgoLxUnhT8kCOX7hdb54ld6A4HcRG8sMsPbg17SyP7kP7SA8/M9/wCYwEwAlJ7KZLbodlKtpXLniaJmKYf4YIlTbh2obViUZ2G0u4zRWDMnFcGzbNvGYarU5JL1hP8A2Y2C/kxdG/lgwL+WL5+WNCSVmPMlBJvJ5ERmrP8ApHOwdnyxF/uQhEjcgMW8x4z5YDYQO68MC/8AOU6/HL3B9TZB4ipSECUdZ0iOzOD0XoghletE50GY6UxL4hTHVsBGGoh35QdQD2IUJzwJSCMrQC7o0J3WUh9D8Bg3Fjd7SjP14y9yVeda8EZwCk4IQdXluVFBaCC1q/UZcHUpTZdmMxP+6MAvu+WBjQ+yMIBRFVMtd5Mw7H4IjyfiFd0ZtBvNpVk1Wm7FbX84guy8ztl9y1AD5WWmxj9F1YMsIqoVwohzvaIpw7AQRDt2cxLvEc2iyylS/MEbb0wBx45hr8E/z4Bt4if4WlWYNtLNtASiUlEr0qldFaV+lJs6JoGYrce0Oh1YeqStRl6XGPEPGlaD6JK99eZNLdGXiXphZRpcGJAaVjSoQSO0yWsVPv0aJWWicn55u/so7jyRoJF7/gYwmLCfED7uBNuymc0cUlH54SpZ9Qw9WVyTlhyiu4d/aUs1zUsls3pCkEYqTcTNRpUNoTuW8qBlj/2hyXvdlrd7skfDz7sGCbk1qgMRtPHKVQMQKImpUK1WX0Xo57RwggA2OR7xo3oII7N56gucGh/8xauXXdKpdb6T1r1rpNABDshGX6h0vhl3zAOx9zvecjyeJAmx+4mSwXTwxPn5TgEfZyrZZPYuLGhvqWZJLYT7YI0DiBi5uQke0W2+tEbDHBBm5fYnCJzTLhpOzUt3aDnf5gM3/axDbNmQX8M/zYDt4YZsIEOhdqbEXABQYBRCEtyoUvLrX1PQR9pSAWsGGGx1eogubKj4ZsQMeIKpFf3IPMin0xaPZPlSrurIgqomVbhuaibr9Y/onrf0r1nQZuUzXf1ToUpF3EKzR8xtyfzGdvzJtsPefkg9ouF4kt4iq28EquJXgmEgUy8w3lQ1QEaM2BzEysdLnov0SfwavdIsbFD2EfWQB89/RBE6tGytYb8hTdncgRMZ2Ecaz9+canQEGPvSh+cvnI+9jNs5vIm8ttfOJS4kCAb0VL06sS2g0Uqob6V/9C61r9Nx6DGXGF9BpUrpNF6izWNEzOlTbS2XCEuXKhL6BYy2HEbBxc4gMOc7FdS7Ndl5g7MOAdVRAaCWIuLdA6HiULDe2HEhI7xw9g1qPTfdKIcUtkshOdLGbTQPg4BtnRnbUxQhv+YxjoRUSFxqw6oZbHkxIoCn3pT/AGDUVzII/DE5x/FtKYnZFB8wqHV/UyLpYUgfa4ID+Q9nQYlsroPQPWP0LrXRXqvRWj6pGDKK16rsR9z/AG9XC7zfVWpo9AQmYaGiwxDxk4YvRjLWLsy8le+/ZAwaGNGQ4gaVKgacEfGUI8JGHQTIanErYmbZKXgdjQgIfsqLgtL5VkSmsw7hvDard1QKNeDKZhQHcj1HwoHPAHs8RN6CB3vgiM72y3UquCGVipeuTVN1UVg2z8VlaGhdEbxgK/fEpX8QwWO7yEJ+9n7QAg00YfhlZSAB2JcGnsAgYpafJLoqtnEet/Qno1Mekypz02db6D0HqsxK0YbpuaVLL3IjufyyyuCLn8DLtn1S7dziR8se1WUM58S2vJQlYPz0e6nVqMfSUJXSMmJmp2hFxu6EyLdYA1tBsplBqEmc1S4AAyy5RouzoBQJU4CBU8kWg1KQIJKRpX5UdJGXU2U3scQCqMPu99BYLtQgELsChB0qAJ5SXjk/JhLDUIEXEWg0sCzim4dxtJyuRiYqMN+GAK4w8YjL928QmTlkzG8P8mFhgcGhpetwmEk6/MMrYH7ILhd9fPEL9vM4mUYrd3jTsdQnupCttbGIf3EZu7BHj4Yj/Vh3/hjYheL9vBBmH+oEY8UeYkJtq1hgt/uQp3T4p8wZr80yf9o1Y88QL+tZaGP7n+vD36Mp7E32n1A27HtHKkFtjZDX2IcEg/GL+BjHzd4/z5/BBBribLJSQO7xuWIO82hlc8fxF/8ABPl4ocYQDsIM2T5mpgwsFX8cA/hgV28B5fqI28EDwp9QCZ8cXEPHLrzwgCG88otHiI2oNgDk7UCyF4n+5z/NHg8s2780s2iLs/TCKV5Z/HXL9khox8FzueSVLmg419xUv88EP+0eGInDL2Vynv4ZuI+iNVqJAY1XI+537fcr3tBCoAuPFACYldBM6tSxuyMvHSw6CXDUhvFTlEQl2rglICDhh1L5XeLrRuvs1GR3D5C4t5yM8NQK0zDsiGRWiWBVavw7y84IDiEmrFfib4KBhoPC/Y7moaYj2zxgyyAlHs8w5QxRCoqOI3cQpw1IfQsoEYu7xL+CeAplkhllB2jYYLTs8kBMTDfCdvHab3jxjMVCcFNwKKBUctBGILeEE72VAhYJY1vCDt3EO48yzY/lgvBBO2Dbh8EOcfECgviiLbgOL3Jvq6GxeIkfrXA0Tz7opv5GFH82POWDmG/85QY8MpP+MD/gns/E28JXtoJlKlZQlEB2lKlEpKBAJSUlVKlEqVohelRPT46KNGUSpXRUqYlEo0A0o0ohUqUQC5UolE9qIgERKJRKJSASpvpRKJi1HErbS+o1uEJZrX3q6Mel6g0JUNNz4lReE+vmYMzv1iX8wrCn7v5Qd0/eW4rSlgDUMY/CO3tYWpWqiynFq7oXcwrzcVQKDvWnviDXjZMxB5fCgyiXwp2ngKvwZdXe2u0RdNQsFP51yTklDskVA9mtoJhfYI1cdgRsrd8DCbhauYPdfywH+SwElSwd1bmOvwkBUAfEoqb2e02fAB9dFHU63/8Ag7l6X+lKvG36Mw9A6NrzFrjGO0wTExFIs5ll7xEyPMqa/LEjJ/c/247iNHGC/gMCxY/EFYUDtiIZnm7WfNQZRWRXAfLGAQkQIKsCmRfaHBbPiFwaPEGBTDYhjP3Jdm1g7zywHh5YAKisWru8mD28UDuhmUhsaXBArxBDA2vW5cP/AMk9TCH6b/mVFpXpkxrgNw0fDEXVTys4/wB7Lzb+5Zsib1l8RcyXxNJaPiLoBSoKGWTa2XpcwfHklJy+1ADH5MBkkKvzkNk8JClQfU9t4gy+IAza2HdbqXL1uX0XL1uXLly5frut/wD4h9Co/pXZCDUfQqKBd5epHt3hsjArQlzFyost0Lhtpel1qwsgCjmdxz/S3/8AHf0VaKBmHoO4a9FQ9LHo36j6SNGVrxKg1WCaFRqJMyHwWFMNLvRTz0Ab9mTGMuEX6FzHTufECcBmEY+UfUP1t6NEETHSarRBEvTEvWyUckwCKNUuPZQ7SIx2pTlAn/zJdWz8Rxf2RE3fEPdg8fslgf8AELaCfiIJC2SQi8MMZHERQviWfxx3w/U+ZgscNkg7+GbC2zATd8GskCrjwlA0vqGfHhE/6THd+E2lt8StZDKrkA4n/gT/ANRiMYrTDehMMInlkokEcgN8XMMBXEn+5lkiEBMBzHklW8hzxcywgUZEd55px/kn+hBqrzQTbzTPnzSm/uy1CGHZeZ/sT3yD5siXJOz5IX5Ep380bYb5qAGEolwCJ37eCCJYwGBptU8uqzMZsVN7wwlmLXIPiA5gMFpAEibDAPBAMdF0nu/cmSbkdDQdD0CEI8/iJCtZiGLdL1PpPoVobaohBVnQJq2Vc2kxFS+SGiQXA+5uS9hHCZ4RYXWuoGaxcwPE0cyN2IS/PQIrxZbFJhRkO5FTeKTOAiYntANhFuEt4RTFEr4Ji2J7Ayi7BKXNSi3iPaIFItMErCCkx2YHlnym+7jzuLbyjaVGIRvW5fvKs3bwFtswNykKJLM4jvAEVwJMgGo3/wDCf5hFf4JT+iP+SWb+OXXfhgZWxD+llmESmwJa5EANrlOxmFGaqqQiL9iNJxgh3UK2v5gRUHA4915m6PJGr/tA6H5Y2VY+4935ixk8oUuPKVrR5w/kUFWXmNrlUE3inYw7eBcSN2CgDgSspviJYCV3gJR0HTTPz+4QVBxH0hoammCfaYvvEt9/Qu2/okFW7UBRmJh3IhuImZ0A+bEC7hKGzEcLRq2U7EURYlFvsOYa8ZhVS7ZkLjjRe6XkvklQHGAnsRAqJFIBAPBPYIbdHiHGJ7BCFSUSggEqV036JH9Lf6a/1d6nQ3B9A6KKXucIYCKTECVpcp6UmCFTEKmI1TK8EutS7lJ7hN080YVGYCNTgt0IhNrBwkBMDpsUcoSDRYAImzIgdUCEtg2VKxAj+2y0sZ7wplPuCLZj5gW0B2E9oi+4QooE9meyR7UA7EovY6a/Wn/4i9R9Q6Pk4fxokoiR2jSDcMc8Rf3JcbRsojDtBtiDke/FUhEDwLziuyhvqwS259yA7OWsrEuyrgjuCAHKHYwLaXtEB4R7RPZNQ9glSiVK/wDxd/pn/wCOdDTLz+5K1qBmIm7bSGprAyvaAOISU4jiolWbSpWgS4P/AMe//wAOf/LJ9a/m/sYIkMdAwYQqv0z/APpBD+nE6z1ToRHv+zSmW4oMuXDQ/Qn/APAK/SErX/geIMMcRmuYakKvQYdB+ndD/wDE1K9V/wDiVrXUahK1A3G37EcfxKIDpqiaEIQ/Qn/0DqrororSpUT9NUr0K/8Ai1qEqVKlSpWgSoRWoLvEFUX2jcjEdJUSVAh0CH6o/wDi1rXRWtStAlStFSsap0VK0CNmB6NRiuipWiaVK6q0rStK6Kla1pUqV1VKgaVpUqVKlSpUqVAhFaoVvKOHumEkRhOYSoIkTEqMIMNDqZXo8/8A06nMSba1AlaEdE0JmUR1dKiaG/QSowLj00idNa8w5lSpUDWuivSrStK0o0rSpUNSJ01A0qGn/9k=)"
      ],
      "metadata": {
        "id": "2ufXldTEagZt"
      }
    },
    {
      "cell_type": "markdown",
      "source": [
        "#Practical Questions:\n"
      ],
      "metadata": {
        "id": "LBcpXCh_albc"
      }
    },
    {
      "cell_type": "markdown",
      "source": [
        "1. Write a Python function that takes a list of numbers as input and returns the sum of all even numbers in\n",
        "the list."
      ],
      "metadata": {
        "id": "R71I6Hplayhu"
      }
    },
    {
      "cell_type": "code",
      "source": [
        "def sum_even_numbers(numbers):\n",
        "    return sum(num for num in numbers if num % 2 == 0)\n",
        "\n",
        "print(sum_even_numbers([1, 2, 3, 4, 5, 6]))\n",
        "\n",
        "\n"
      ],
      "metadata": {
        "colab": {
          "base_uri": "https://localhost:8080/"
        },
        "id": "uzPPJWf_6XkT",
        "outputId": "520a6f22-8d27-48bf-f1e3-ad30d61bd13d"
      },
      "execution_count": 7,
      "outputs": [
        {
          "output_type": "stream",
          "name": "stdout",
          "text": [
            "12\n"
          ]
        }
      ]
    },
    {
      "cell_type": "markdown",
      "source": [
        "2. Create a Python function that accepts a string and returns the reverse of that string."
      ],
      "metadata": {
        "id": "Sjni-8_ya1-6"
      }
    },
    {
      "cell_type": "code",
      "source": [
        "def reverse_string(s):\n",
        "    return s[::-1]\n",
        "\n",
        "print(reverse_string(\"hello\"))\n",
        "\n"
      ],
      "metadata": {
        "colab": {
          "base_uri": "https://localhost:8080/"
        },
        "id": "gNylKRNN6f5G",
        "outputId": "dfa48bd3-c402-4e10-c317-5a57375f0ded"
      },
      "execution_count": 6,
      "outputs": [
        {
          "output_type": "stream",
          "name": "stdout",
          "text": [
            "olleh\n"
          ]
        }
      ]
    },
    {
      "cell_type": "markdown",
      "source": [
        "3. Implement a Python function that takes a list of integers and returns a new list containing the squares of\n",
        "each number."
      ],
      "metadata": {
        "id": "6PcHMvdMa68z"
      }
    },
    {
      "cell_type": "code",
      "source": [
        "def square_list(numbers):\n",
        "    return [x**2 for x in numbers]\n",
        "\n",
        "print(square_list([1, 2, 3, 4]))\n",
        "\n"
      ],
      "metadata": {
        "colab": {
          "base_uri": "https://localhost:8080/"
        },
        "id": "cuZGSd6_6ojQ",
        "outputId": "ab1d0ef0-52a7-42c5-bd85-cd19074bc361"
      },
      "execution_count": 5,
      "outputs": [
        {
          "output_type": "stream",
          "name": "stdout",
          "text": [
            "[1, 4, 9, 16]\n"
          ]
        }
      ]
    },
    {
      "cell_type": "markdown",
      "source": [
        "4.Write a Python function that checks if a given number is prime or not from 1 to 200."
      ],
      "metadata": {
        "id": "FRNs30TRa-9r"
      }
    },
    {
      "cell_type": "code",
      "source": [
        "def is_prime(n):\n",
        "    if n < 2:\n",
        "        return False\n",
        "    for i in range(2, int(n**0.5)+1):\n",
        "        if n % i == 0:\n",
        "            return False\n",
        "    return True\n",
        "\n",
        "# Check primes from 1 to 200\n",
        "for num in range(1, 201):\n",
        "    if is_prime(num):\n",
        "        print(num, end=' ')\n",
        "\n"
      ],
      "metadata": {
        "colab": {
          "base_uri": "https://localhost:8080/"
        },
        "id": "IFqAxqrY69l2",
        "outputId": "e14464db-581e-44d7-f4a8-5292bd870811"
      },
      "execution_count": 8,
      "outputs": [
        {
          "output_type": "stream",
          "name": "stdout",
          "text": [
            "2 3 5 7 11 13 17 19 23 29 31 37 41 43 47 53 59 61 67 71 73 79 83 89 97 101 103 107 109 113 127 131 137 139 149 151 157 163 167 173 179 181 191 193 197 199 "
          ]
        }
      ]
    },
    {
      "cell_type": "markdown",
      "source": [
        "5. Create an iterator class in Python that generates the Fibonacci sequence up to a specified number of\n",
        "terms."
      ],
      "metadata": {
        "id": "HDWZw6NfbCra"
      }
    },
    {
      "cell_type": "code",
      "source": [
        "class FibonacciIterator:\n",
        "    def __init__(self, n):\n",
        "        self.n = n\n",
        "        self.a = 0\n",
        "        self.b = 1\n",
        "        self.count = 0\n",
        "\n",
        "    def __iter__(self):\n",
        "        return self\n",
        "\n",
        "    def __next__(self):\n",
        "        if self.count >= self.n:\n",
        "            raise StopIteration\n",
        "        value = self.a\n",
        "        self.a, self.b = self.b, self.a + self.b\n",
        "        self.count += 1\n",
        "        return value\n",
        "for num in FibonacciIterator(10):\n",
        "    print(num, end=' ')"
      ],
      "metadata": {
        "colab": {
          "base_uri": "https://localhost:8080/"
        },
        "id": "Qhzb-9uj7Jjw",
        "outputId": "60411944-ea51-4d6a-d812-fe60f68d1829"
      },
      "execution_count": 10,
      "outputs": [
        {
          "output_type": "stream",
          "name": "stdout",
          "text": [
            "0 1 1 2 3 5 8 13 21 34 "
          ]
        }
      ]
    },
    {
      "cell_type": "markdown",
      "source": [
        "6. Write a generator function in Python that yields the powers of 2 up to a given exponent."
      ],
      "metadata": {
        "id": "3n5eFABLbGe3"
      }
    },
    {
      "cell_type": "code",
      "source": [
        "def powers_of_two(exponent):\n",
        "    for i in range(exponent + 1):\n",
        "        yield 2 ** i\n",
        "\n",
        "for val in powers_of_two(5):\n",
        "    print(val)"
      ],
      "metadata": {
        "colab": {
          "base_uri": "https://localhost:8080/"
        },
        "id": "FWVmGQPW3hN_",
        "outputId": "ba15957d-14ea-44f0-aed5-cd96434c542b"
      },
      "execution_count": 11,
      "outputs": [
        {
          "output_type": "stream",
          "name": "stdout",
          "text": [
            "1\n",
            "2\n",
            "4\n",
            "8\n",
            "16\n",
            "32\n"
          ]
        }
      ]
    },
    {
      "cell_type": "markdown",
      "source": [
        "7. Implement a generator function that reads a file line by line and yields each line as a string."
      ],
      "metadata": {
        "id": "lmVK4Hj4bKGd"
      }
    },
    {
      "cell_type": "code",
      "source": [
        "def read_file_lines(file_path):\n",
        "    with open(file_path, 'r') as file:\n",
        "        for line in file:\n",
        "            yield line.strip()\n",
        "\n",
        "\n"
      ],
      "metadata": {
        "id": "pgsOo3-e7ubX"
      },
      "execution_count": 14,
      "outputs": []
    },
    {
      "cell_type": "markdown",
      "source": [
        "8. Use a lambda function in Python to sort a list of tuples based on the second element of each tuple.\n",
        "\n"
      ],
      "metadata": {
        "id": "VrUMN6dZbQKo"
      }
    },
    {
      "cell_type": "code",
      "source": [
        "data = [(1, 3), (2, 1), (4, 2)]\n",
        "sorted_data = sorted(data, key=lambda x: x[1])\n",
        "print(sorted_data)\n",
        "\n",
        "\n"
      ],
      "metadata": {
        "colab": {
          "base_uri": "https://localhost:8080/"
        },
        "id": "tadZJl408AbY",
        "outputId": "659a6e3a-a2d7-428b-b46c-41bfa8df742b"
      },
      "execution_count": 15,
      "outputs": [
        {
          "output_type": "stream",
          "name": "stdout",
          "text": [
            "[(2, 1), (4, 2), (1, 3)]\n"
          ]
        }
      ]
    },
    {
      "cell_type": "markdown",
      "source": [
        "9. Write a Python program that uses `map()` to convert a list of temperatures from Celsius to Fahrenheit."
      ],
      "metadata": {
        "id": "u9a3rFLBbWBX"
      }
    },
    {
      "cell_type": "code",
      "source": [
        "celsius = [0, 10, 20, 30]\n",
        "fahrenheit = list(map(lambda c: (c * 9/5) + 32, celsius))\n",
        "print(fahrenheit)\n",
        "\n"
      ],
      "metadata": {
        "colab": {
          "base_uri": "https://localhost:8080/"
        },
        "id": "tYO_39Yk8G0O",
        "outputId": "d1a5750a-b678-48ae-ae93-ea4359386254"
      },
      "execution_count": 16,
      "outputs": [
        {
          "output_type": "stream",
          "name": "stdout",
          "text": [
            "[32.0, 50.0, 68.0, 86.0]\n"
          ]
        }
      ]
    },
    {
      "cell_type": "markdown",
      "source": [
        "10.  Create a Python program that uses `filter()` to remove all the vowels from a given string."
      ],
      "metadata": {
        "id": "e0wMXw_AbZ1j"
      }
    },
    {
      "cell_type": "code",
      "source": [
        "def remove_vowels(input_str):\n",
        "    vowels = 'aeiouAEIOU'\n",
        "    return ''.join(filter(lambda ch: ch not in vowels, input_str))\n",
        "\n",
        "text = \"Hello, this is an example sentence.\"\n",
        "result = remove_vowels(text)\n",
        "print(\"Original:\", text)\n",
        "print(\"Without vowels:\", result)"
      ],
      "metadata": {
        "colab": {
          "base_uri": "https://localhost:8080/"
        },
        "id": "T6ElFQJ78M62",
        "outputId": "f44309d0-88e6-4efe-bb24-4e002ecadfc4"
      },
      "execution_count": 18,
      "outputs": [
        {
          "output_type": "stream",
          "name": "stdout",
          "text": [
            "Original: Hello, this is an example sentence.\n",
            "Without vowels: Hll, ths s n xmpl sntnc.\n"
          ]
        }
      ]
    },
    {
      "cell_type": "markdown",
      "source": [
        "11.Imagine an accounting routine used in a book shop. It works on a list with sublists, which look like this:\n",
        "\n",
        "\n",
        "Write a Python program, which returns a list with 2-tuples. Each tuple consists of the order number and the\n",
        "product of the price per item and the quantity. The product should be increased by 10,- € if the value of the\n",
        "order is smaller than 100,00 €.\n",
        "\n",
        "Write a Python program using lambda and map."
      ],
      "metadata": {
        "id": "i10m0FpZbd0X"
      }
    },
    {
      "cell_type": "code",
      "source": [
        "orders = [\n",
        "    [34587, \"Learning Python, Mark Lutz\", 4, 40.95],\n",
        "    [98762, \"Programming Python, Mark Lutz\", 5, 56.80],\n",
        "    [77226, \"Head First Python, Paul Barry\", 3, 32.95],\n",
        "    [88112, \"Einführung in Python3, Bernd Klein\", 3, 24.99]\n",
        "]\n",
        "\n",
        "# Use map() and lambda to process the orders\n",
        "updated_orders = list(map(\n",
        "    lambda x: (x[0], x[2] * x[3] + 10 if x[2] * x[3] < 100 else x[2] * x[3]),\n",
        "    orders\n",
        "))\n",
        "\n",
        "# Print result\n",
        "for order in updated_orders:\n",
        "    print(order)"
      ],
      "metadata": {
        "colab": {
          "base_uri": "https://localhost:8080/"
        },
        "id": "uRNShWXD91WE",
        "outputId": "bd901653-558a-4451-b6d4-c03904a02bb2"
      },
      "execution_count": 19,
      "outputs": [
        {
          "output_type": "stream",
          "name": "stdout",
          "text": [
            "(34587, 163.8)\n",
            "(98762, 284.0)\n",
            "(77226, 108.85000000000001)\n",
            "(88112, 84.97)\n"
          ]
        }
      ]
    }
  ]
}